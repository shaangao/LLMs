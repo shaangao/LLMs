{
  "nbformat": 4,
  "nbformat_minor": 0,
  "metadata": {
    "colab": {
      "provenance": [],
      "include_colab_link": true
    },
    "kernelspec": {
      "name": "python3",
      "display_name": "Python 3"
    },
    "language_info": {
      "name": "python"
    },
    "widgets": {
      "application/vnd.jupyter.widget-state+json": {
        "edd2e29342dd4fb4a447e29ae9a936a9": {
          "model_module": "@jupyter-widgets/controls",
          "model_name": "HBoxModel",
          "model_module_version": "1.5.0",
          "state": {
            "_dom_classes": [],
            "_model_module": "@jupyter-widgets/controls",
            "_model_module_version": "1.5.0",
            "_model_name": "HBoxModel",
            "_view_count": null,
            "_view_module": "@jupyter-widgets/controls",
            "_view_module_version": "1.5.0",
            "_view_name": "HBoxView",
            "box_style": "",
            "children": [
              "IPY_MODEL_a4ccfd3357a24cd7b31cf02ac8c3f477",
              "IPY_MODEL_e64557496c7e46babc5fb7da68c6a10f",
              "IPY_MODEL_cc6dec3ed8d2467397643109fe3b52fe"
            ],
            "layout": "IPY_MODEL_12398133ea6c41a190a87ec137e2ccd4"
          }
        },
        "a4ccfd3357a24cd7b31cf02ac8c3f477": {
          "model_module": "@jupyter-widgets/controls",
          "model_name": "HTMLModel",
          "model_module_version": "1.5.0",
          "state": {
            "_dom_classes": [],
            "_model_module": "@jupyter-widgets/controls",
            "_model_module_version": "1.5.0",
            "_model_name": "HTMLModel",
            "_view_count": null,
            "_view_module": "@jupyter-widgets/controls",
            "_view_module_version": "1.5.0",
            "_view_name": "HTMLView",
            "description": "",
            "description_tooltip": null,
            "layout": "IPY_MODEL_58f80feb48b54bb587642ec61d2e87d3",
            "placeholder": "​",
            "style": "IPY_MODEL_ac7031b12a564720bd4c1537628612c3",
            "value": "tokenizer_config.json: 100%"
          }
        },
        "e64557496c7e46babc5fb7da68c6a10f": {
          "model_module": "@jupyter-widgets/controls",
          "model_name": "FloatProgressModel",
          "model_module_version": "1.5.0",
          "state": {
            "_dom_classes": [],
            "_model_module": "@jupyter-widgets/controls",
            "_model_module_version": "1.5.0",
            "_model_name": "FloatProgressModel",
            "_view_count": null,
            "_view_module": "@jupyter-widgets/controls",
            "_view_module_version": "1.5.0",
            "_view_name": "ProgressView",
            "bar_style": "success",
            "description": "",
            "description_tooltip": null,
            "layout": "IPY_MODEL_7cb420ccfb974330a522dc845818295b",
            "max": 29,
            "min": 0,
            "orientation": "horizontal",
            "style": "IPY_MODEL_ff52285e08a749f1bd63f3865f2e8908",
            "value": 29
          }
        },
        "cc6dec3ed8d2467397643109fe3b52fe": {
          "model_module": "@jupyter-widgets/controls",
          "model_name": "HTMLModel",
          "model_module_version": "1.5.0",
          "state": {
            "_dom_classes": [],
            "_model_module": "@jupyter-widgets/controls",
            "_model_module_version": "1.5.0",
            "_model_name": "HTMLModel",
            "_view_count": null,
            "_view_module": "@jupyter-widgets/controls",
            "_view_module_version": "1.5.0",
            "_view_name": "HTMLView",
            "description": "",
            "description_tooltip": null,
            "layout": "IPY_MODEL_4b6e396579684418adba690e7c1fd82e",
            "placeholder": "​",
            "style": "IPY_MODEL_e2a6c283890b4bcca0d825c8578ffa44",
            "value": " 29.0/29.0 [00:00&lt;00:00, 1.69kB/s]"
          }
        },
        "12398133ea6c41a190a87ec137e2ccd4": {
          "model_module": "@jupyter-widgets/base",
          "model_name": "LayoutModel",
          "model_module_version": "1.2.0",
          "state": {
            "_model_module": "@jupyter-widgets/base",
            "_model_module_version": "1.2.0",
            "_model_name": "LayoutModel",
            "_view_count": null,
            "_view_module": "@jupyter-widgets/base",
            "_view_module_version": "1.2.0",
            "_view_name": "LayoutView",
            "align_content": null,
            "align_items": null,
            "align_self": null,
            "border": null,
            "bottom": null,
            "display": null,
            "flex": null,
            "flex_flow": null,
            "grid_area": null,
            "grid_auto_columns": null,
            "grid_auto_flow": null,
            "grid_auto_rows": null,
            "grid_column": null,
            "grid_gap": null,
            "grid_row": null,
            "grid_template_areas": null,
            "grid_template_columns": null,
            "grid_template_rows": null,
            "height": null,
            "justify_content": null,
            "justify_items": null,
            "left": null,
            "margin": null,
            "max_height": null,
            "max_width": null,
            "min_height": null,
            "min_width": null,
            "object_fit": null,
            "object_position": null,
            "order": null,
            "overflow": null,
            "overflow_x": null,
            "overflow_y": null,
            "padding": null,
            "right": null,
            "top": null,
            "visibility": null,
            "width": null
          }
        },
        "58f80feb48b54bb587642ec61d2e87d3": {
          "model_module": "@jupyter-widgets/base",
          "model_name": "LayoutModel",
          "model_module_version": "1.2.0",
          "state": {
            "_model_module": "@jupyter-widgets/base",
            "_model_module_version": "1.2.0",
            "_model_name": "LayoutModel",
            "_view_count": null,
            "_view_module": "@jupyter-widgets/base",
            "_view_module_version": "1.2.0",
            "_view_name": "LayoutView",
            "align_content": null,
            "align_items": null,
            "align_self": null,
            "border": null,
            "bottom": null,
            "display": null,
            "flex": null,
            "flex_flow": null,
            "grid_area": null,
            "grid_auto_columns": null,
            "grid_auto_flow": null,
            "grid_auto_rows": null,
            "grid_column": null,
            "grid_gap": null,
            "grid_row": null,
            "grid_template_areas": null,
            "grid_template_columns": null,
            "grid_template_rows": null,
            "height": null,
            "justify_content": null,
            "justify_items": null,
            "left": null,
            "margin": null,
            "max_height": null,
            "max_width": null,
            "min_height": null,
            "min_width": null,
            "object_fit": null,
            "object_position": null,
            "order": null,
            "overflow": null,
            "overflow_x": null,
            "overflow_y": null,
            "padding": null,
            "right": null,
            "top": null,
            "visibility": null,
            "width": null
          }
        },
        "ac7031b12a564720bd4c1537628612c3": {
          "model_module": "@jupyter-widgets/controls",
          "model_name": "DescriptionStyleModel",
          "model_module_version": "1.5.0",
          "state": {
            "_model_module": "@jupyter-widgets/controls",
            "_model_module_version": "1.5.0",
            "_model_name": "DescriptionStyleModel",
            "_view_count": null,
            "_view_module": "@jupyter-widgets/base",
            "_view_module_version": "1.2.0",
            "_view_name": "StyleView",
            "description_width": ""
          }
        },
        "7cb420ccfb974330a522dc845818295b": {
          "model_module": "@jupyter-widgets/base",
          "model_name": "LayoutModel",
          "model_module_version": "1.2.0",
          "state": {
            "_model_module": "@jupyter-widgets/base",
            "_model_module_version": "1.2.0",
            "_model_name": "LayoutModel",
            "_view_count": null,
            "_view_module": "@jupyter-widgets/base",
            "_view_module_version": "1.2.0",
            "_view_name": "LayoutView",
            "align_content": null,
            "align_items": null,
            "align_self": null,
            "border": null,
            "bottom": null,
            "display": null,
            "flex": null,
            "flex_flow": null,
            "grid_area": null,
            "grid_auto_columns": null,
            "grid_auto_flow": null,
            "grid_auto_rows": null,
            "grid_column": null,
            "grid_gap": null,
            "grid_row": null,
            "grid_template_areas": null,
            "grid_template_columns": null,
            "grid_template_rows": null,
            "height": null,
            "justify_content": null,
            "justify_items": null,
            "left": null,
            "margin": null,
            "max_height": null,
            "max_width": null,
            "min_height": null,
            "min_width": null,
            "object_fit": null,
            "object_position": null,
            "order": null,
            "overflow": null,
            "overflow_x": null,
            "overflow_y": null,
            "padding": null,
            "right": null,
            "top": null,
            "visibility": null,
            "width": null
          }
        },
        "ff52285e08a749f1bd63f3865f2e8908": {
          "model_module": "@jupyter-widgets/controls",
          "model_name": "ProgressStyleModel",
          "model_module_version": "1.5.0",
          "state": {
            "_model_module": "@jupyter-widgets/controls",
            "_model_module_version": "1.5.0",
            "_model_name": "ProgressStyleModel",
            "_view_count": null,
            "_view_module": "@jupyter-widgets/base",
            "_view_module_version": "1.2.0",
            "_view_name": "StyleView",
            "bar_color": null,
            "description_width": ""
          }
        },
        "4b6e396579684418adba690e7c1fd82e": {
          "model_module": "@jupyter-widgets/base",
          "model_name": "LayoutModel",
          "model_module_version": "1.2.0",
          "state": {
            "_model_module": "@jupyter-widgets/base",
            "_model_module_version": "1.2.0",
            "_model_name": "LayoutModel",
            "_view_count": null,
            "_view_module": "@jupyter-widgets/base",
            "_view_module_version": "1.2.0",
            "_view_name": "LayoutView",
            "align_content": null,
            "align_items": null,
            "align_self": null,
            "border": null,
            "bottom": null,
            "display": null,
            "flex": null,
            "flex_flow": null,
            "grid_area": null,
            "grid_auto_columns": null,
            "grid_auto_flow": null,
            "grid_auto_rows": null,
            "grid_column": null,
            "grid_gap": null,
            "grid_row": null,
            "grid_template_areas": null,
            "grid_template_columns": null,
            "grid_template_rows": null,
            "height": null,
            "justify_content": null,
            "justify_items": null,
            "left": null,
            "margin": null,
            "max_height": null,
            "max_width": null,
            "min_height": null,
            "min_width": null,
            "object_fit": null,
            "object_position": null,
            "order": null,
            "overflow": null,
            "overflow_x": null,
            "overflow_y": null,
            "padding": null,
            "right": null,
            "top": null,
            "visibility": null,
            "width": null
          }
        },
        "e2a6c283890b4bcca0d825c8578ffa44": {
          "model_module": "@jupyter-widgets/controls",
          "model_name": "DescriptionStyleModel",
          "model_module_version": "1.5.0",
          "state": {
            "_model_module": "@jupyter-widgets/controls",
            "_model_module_version": "1.5.0",
            "_model_name": "DescriptionStyleModel",
            "_view_count": null,
            "_view_module": "@jupyter-widgets/base",
            "_view_module_version": "1.2.0",
            "_view_name": "StyleView",
            "description_width": ""
          }
        },
        "512a20c2900242e1adc109911666dd99": {
          "model_module": "@jupyter-widgets/controls",
          "model_name": "HBoxModel",
          "model_module_version": "1.5.0",
          "state": {
            "_dom_classes": [],
            "_model_module": "@jupyter-widgets/controls",
            "_model_module_version": "1.5.0",
            "_model_name": "HBoxModel",
            "_view_count": null,
            "_view_module": "@jupyter-widgets/controls",
            "_view_module_version": "1.5.0",
            "_view_name": "HBoxView",
            "box_style": "",
            "children": [
              "IPY_MODEL_0ea1c3e299934ce1b1ae390a922e30fe",
              "IPY_MODEL_dced406e6bc34600a682541122d79357",
              "IPY_MODEL_f29d546090fd4af1af5b1525e0fac5fd"
            ],
            "layout": "IPY_MODEL_08f469da0aba4d0ea4f35a8297580f0d"
          }
        },
        "0ea1c3e299934ce1b1ae390a922e30fe": {
          "model_module": "@jupyter-widgets/controls",
          "model_name": "HTMLModel",
          "model_module_version": "1.5.0",
          "state": {
            "_dom_classes": [],
            "_model_module": "@jupyter-widgets/controls",
            "_model_module_version": "1.5.0",
            "_model_name": "HTMLModel",
            "_view_count": null,
            "_view_module": "@jupyter-widgets/controls",
            "_view_module_version": "1.5.0",
            "_view_name": "HTMLView",
            "description": "",
            "description_tooltip": null,
            "layout": "IPY_MODEL_6486f4b9de2f4868a5f47a7514056d71",
            "placeholder": "​",
            "style": "IPY_MODEL_c882cb1823d6499bb0d3446bf39a2026",
            "value": "config.json: 100%"
          }
        },
        "dced406e6bc34600a682541122d79357": {
          "model_module": "@jupyter-widgets/controls",
          "model_name": "FloatProgressModel",
          "model_module_version": "1.5.0",
          "state": {
            "_dom_classes": [],
            "_model_module": "@jupyter-widgets/controls",
            "_model_module_version": "1.5.0",
            "_model_name": "FloatProgressModel",
            "_view_count": null,
            "_view_module": "@jupyter-widgets/controls",
            "_view_module_version": "1.5.0",
            "_view_name": "ProgressView",
            "bar_style": "success",
            "description": "",
            "description_tooltip": null,
            "layout": "IPY_MODEL_0274daaf452249029943b87fda13d66e",
            "max": 570,
            "min": 0,
            "orientation": "horizontal",
            "style": "IPY_MODEL_3cd2984c426c4f5fb5065663483beb8a",
            "value": 570
          }
        },
        "f29d546090fd4af1af5b1525e0fac5fd": {
          "model_module": "@jupyter-widgets/controls",
          "model_name": "HTMLModel",
          "model_module_version": "1.5.0",
          "state": {
            "_dom_classes": [],
            "_model_module": "@jupyter-widgets/controls",
            "_model_module_version": "1.5.0",
            "_model_name": "HTMLModel",
            "_view_count": null,
            "_view_module": "@jupyter-widgets/controls",
            "_view_module_version": "1.5.0",
            "_view_name": "HTMLView",
            "description": "",
            "description_tooltip": null,
            "layout": "IPY_MODEL_f1fd6d5baae64efdb289d2f84362755e",
            "placeholder": "​",
            "style": "IPY_MODEL_de682ff3fbad404d954baa22984efcd5",
            "value": " 570/570 [00:00&lt;00:00, 39.8kB/s]"
          }
        },
        "08f469da0aba4d0ea4f35a8297580f0d": {
          "model_module": "@jupyter-widgets/base",
          "model_name": "LayoutModel",
          "model_module_version": "1.2.0",
          "state": {
            "_model_module": "@jupyter-widgets/base",
            "_model_module_version": "1.2.0",
            "_model_name": "LayoutModel",
            "_view_count": null,
            "_view_module": "@jupyter-widgets/base",
            "_view_module_version": "1.2.0",
            "_view_name": "LayoutView",
            "align_content": null,
            "align_items": null,
            "align_self": null,
            "border": null,
            "bottom": null,
            "display": null,
            "flex": null,
            "flex_flow": null,
            "grid_area": null,
            "grid_auto_columns": null,
            "grid_auto_flow": null,
            "grid_auto_rows": null,
            "grid_column": null,
            "grid_gap": null,
            "grid_row": null,
            "grid_template_areas": null,
            "grid_template_columns": null,
            "grid_template_rows": null,
            "height": null,
            "justify_content": null,
            "justify_items": null,
            "left": null,
            "margin": null,
            "max_height": null,
            "max_width": null,
            "min_height": null,
            "min_width": null,
            "object_fit": null,
            "object_position": null,
            "order": null,
            "overflow": null,
            "overflow_x": null,
            "overflow_y": null,
            "padding": null,
            "right": null,
            "top": null,
            "visibility": null,
            "width": null
          }
        },
        "6486f4b9de2f4868a5f47a7514056d71": {
          "model_module": "@jupyter-widgets/base",
          "model_name": "LayoutModel",
          "model_module_version": "1.2.0",
          "state": {
            "_model_module": "@jupyter-widgets/base",
            "_model_module_version": "1.2.0",
            "_model_name": "LayoutModel",
            "_view_count": null,
            "_view_module": "@jupyter-widgets/base",
            "_view_module_version": "1.2.0",
            "_view_name": "LayoutView",
            "align_content": null,
            "align_items": null,
            "align_self": null,
            "border": null,
            "bottom": null,
            "display": null,
            "flex": null,
            "flex_flow": null,
            "grid_area": null,
            "grid_auto_columns": null,
            "grid_auto_flow": null,
            "grid_auto_rows": null,
            "grid_column": null,
            "grid_gap": null,
            "grid_row": null,
            "grid_template_areas": null,
            "grid_template_columns": null,
            "grid_template_rows": null,
            "height": null,
            "justify_content": null,
            "justify_items": null,
            "left": null,
            "margin": null,
            "max_height": null,
            "max_width": null,
            "min_height": null,
            "min_width": null,
            "object_fit": null,
            "object_position": null,
            "order": null,
            "overflow": null,
            "overflow_x": null,
            "overflow_y": null,
            "padding": null,
            "right": null,
            "top": null,
            "visibility": null,
            "width": null
          }
        },
        "c882cb1823d6499bb0d3446bf39a2026": {
          "model_module": "@jupyter-widgets/controls",
          "model_name": "DescriptionStyleModel",
          "model_module_version": "1.5.0",
          "state": {
            "_model_module": "@jupyter-widgets/controls",
            "_model_module_version": "1.5.0",
            "_model_name": "DescriptionStyleModel",
            "_view_count": null,
            "_view_module": "@jupyter-widgets/base",
            "_view_module_version": "1.2.0",
            "_view_name": "StyleView",
            "description_width": ""
          }
        },
        "0274daaf452249029943b87fda13d66e": {
          "model_module": "@jupyter-widgets/base",
          "model_name": "LayoutModel",
          "model_module_version": "1.2.0",
          "state": {
            "_model_module": "@jupyter-widgets/base",
            "_model_module_version": "1.2.0",
            "_model_name": "LayoutModel",
            "_view_count": null,
            "_view_module": "@jupyter-widgets/base",
            "_view_module_version": "1.2.0",
            "_view_name": "LayoutView",
            "align_content": null,
            "align_items": null,
            "align_self": null,
            "border": null,
            "bottom": null,
            "display": null,
            "flex": null,
            "flex_flow": null,
            "grid_area": null,
            "grid_auto_columns": null,
            "grid_auto_flow": null,
            "grid_auto_rows": null,
            "grid_column": null,
            "grid_gap": null,
            "grid_row": null,
            "grid_template_areas": null,
            "grid_template_columns": null,
            "grid_template_rows": null,
            "height": null,
            "justify_content": null,
            "justify_items": null,
            "left": null,
            "margin": null,
            "max_height": null,
            "max_width": null,
            "min_height": null,
            "min_width": null,
            "object_fit": null,
            "object_position": null,
            "order": null,
            "overflow": null,
            "overflow_x": null,
            "overflow_y": null,
            "padding": null,
            "right": null,
            "top": null,
            "visibility": null,
            "width": null
          }
        },
        "3cd2984c426c4f5fb5065663483beb8a": {
          "model_module": "@jupyter-widgets/controls",
          "model_name": "ProgressStyleModel",
          "model_module_version": "1.5.0",
          "state": {
            "_model_module": "@jupyter-widgets/controls",
            "_model_module_version": "1.5.0",
            "_model_name": "ProgressStyleModel",
            "_view_count": null,
            "_view_module": "@jupyter-widgets/base",
            "_view_module_version": "1.2.0",
            "_view_name": "StyleView",
            "bar_color": null,
            "description_width": ""
          }
        },
        "f1fd6d5baae64efdb289d2f84362755e": {
          "model_module": "@jupyter-widgets/base",
          "model_name": "LayoutModel",
          "model_module_version": "1.2.0",
          "state": {
            "_model_module": "@jupyter-widgets/base",
            "_model_module_version": "1.2.0",
            "_model_name": "LayoutModel",
            "_view_count": null,
            "_view_module": "@jupyter-widgets/base",
            "_view_module_version": "1.2.0",
            "_view_name": "LayoutView",
            "align_content": null,
            "align_items": null,
            "align_self": null,
            "border": null,
            "bottom": null,
            "display": null,
            "flex": null,
            "flex_flow": null,
            "grid_area": null,
            "grid_auto_columns": null,
            "grid_auto_flow": null,
            "grid_auto_rows": null,
            "grid_column": null,
            "grid_gap": null,
            "grid_row": null,
            "grid_template_areas": null,
            "grid_template_columns": null,
            "grid_template_rows": null,
            "height": null,
            "justify_content": null,
            "justify_items": null,
            "left": null,
            "margin": null,
            "max_height": null,
            "max_width": null,
            "min_height": null,
            "min_width": null,
            "object_fit": null,
            "object_position": null,
            "order": null,
            "overflow": null,
            "overflow_x": null,
            "overflow_y": null,
            "padding": null,
            "right": null,
            "top": null,
            "visibility": null,
            "width": null
          }
        },
        "de682ff3fbad404d954baa22984efcd5": {
          "model_module": "@jupyter-widgets/controls",
          "model_name": "DescriptionStyleModel",
          "model_module_version": "1.5.0",
          "state": {
            "_model_module": "@jupyter-widgets/controls",
            "_model_module_version": "1.5.0",
            "_model_name": "DescriptionStyleModel",
            "_view_count": null,
            "_view_module": "@jupyter-widgets/base",
            "_view_module_version": "1.2.0",
            "_view_name": "StyleView",
            "description_width": ""
          }
        },
        "be0b714626514156915557acb0198ff1": {
          "model_module": "@jupyter-widgets/controls",
          "model_name": "HBoxModel",
          "model_module_version": "1.5.0",
          "state": {
            "_dom_classes": [],
            "_model_module": "@jupyter-widgets/controls",
            "_model_module_version": "1.5.0",
            "_model_name": "HBoxModel",
            "_view_count": null,
            "_view_module": "@jupyter-widgets/controls",
            "_view_module_version": "1.5.0",
            "_view_name": "HBoxView",
            "box_style": "",
            "children": [
              "IPY_MODEL_250e3f38239b4966a3ac135f90697d8c",
              "IPY_MODEL_dba0a5b4c78e4dc9955cb3a30caa1460",
              "IPY_MODEL_662f6ff6a102434e8e5cc708628642a9"
            ],
            "layout": "IPY_MODEL_7abf0608b0584ecd9dc4323c86c9698c"
          }
        },
        "250e3f38239b4966a3ac135f90697d8c": {
          "model_module": "@jupyter-widgets/controls",
          "model_name": "HTMLModel",
          "model_module_version": "1.5.0",
          "state": {
            "_dom_classes": [],
            "_model_module": "@jupyter-widgets/controls",
            "_model_module_version": "1.5.0",
            "_model_name": "HTMLModel",
            "_view_count": null,
            "_view_module": "@jupyter-widgets/controls",
            "_view_module_version": "1.5.0",
            "_view_name": "HTMLView",
            "description": "",
            "description_tooltip": null,
            "layout": "IPY_MODEL_1033128223594109bd1aff4b1e297802",
            "placeholder": "​",
            "style": "IPY_MODEL_505d22fe2f434c068f589ae5e259efc8",
            "value": "vocab.txt: 100%"
          }
        },
        "dba0a5b4c78e4dc9955cb3a30caa1460": {
          "model_module": "@jupyter-widgets/controls",
          "model_name": "FloatProgressModel",
          "model_module_version": "1.5.0",
          "state": {
            "_dom_classes": [],
            "_model_module": "@jupyter-widgets/controls",
            "_model_module_version": "1.5.0",
            "_model_name": "FloatProgressModel",
            "_view_count": null,
            "_view_module": "@jupyter-widgets/controls",
            "_view_module_version": "1.5.0",
            "_view_name": "ProgressView",
            "bar_style": "success",
            "description": "",
            "description_tooltip": null,
            "layout": "IPY_MODEL_37324900e4a447ab8d8e4fb27b02b2e4",
            "max": 213450,
            "min": 0,
            "orientation": "horizontal",
            "style": "IPY_MODEL_621b36867d824af7aa1a1ed97374cb6a",
            "value": 213450
          }
        },
        "662f6ff6a102434e8e5cc708628642a9": {
          "model_module": "@jupyter-widgets/controls",
          "model_name": "HTMLModel",
          "model_module_version": "1.5.0",
          "state": {
            "_dom_classes": [],
            "_model_module": "@jupyter-widgets/controls",
            "_model_module_version": "1.5.0",
            "_model_name": "HTMLModel",
            "_view_count": null,
            "_view_module": "@jupyter-widgets/controls",
            "_view_module_version": "1.5.0",
            "_view_name": "HTMLView",
            "description": "",
            "description_tooltip": null,
            "layout": "IPY_MODEL_22072456b0ad45ae905e5140afd18c0f",
            "placeholder": "​",
            "style": "IPY_MODEL_e441ed4d3dc8453abdb1bec5728e9ab4",
            "value": " 213k/213k [00:00&lt;00:00, 2.86MB/s]"
          }
        },
        "7abf0608b0584ecd9dc4323c86c9698c": {
          "model_module": "@jupyter-widgets/base",
          "model_name": "LayoutModel",
          "model_module_version": "1.2.0",
          "state": {
            "_model_module": "@jupyter-widgets/base",
            "_model_module_version": "1.2.0",
            "_model_name": "LayoutModel",
            "_view_count": null,
            "_view_module": "@jupyter-widgets/base",
            "_view_module_version": "1.2.0",
            "_view_name": "LayoutView",
            "align_content": null,
            "align_items": null,
            "align_self": null,
            "border": null,
            "bottom": null,
            "display": null,
            "flex": null,
            "flex_flow": null,
            "grid_area": null,
            "grid_auto_columns": null,
            "grid_auto_flow": null,
            "grid_auto_rows": null,
            "grid_column": null,
            "grid_gap": null,
            "grid_row": null,
            "grid_template_areas": null,
            "grid_template_columns": null,
            "grid_template_rows": null,
            "height": null,
            "justify_content": null,
            "justify_items": null,
            "left": null,
            "margin": null,
            "max_height": null,
            "max_width": null,
            "min_height": null,
            "min_width": null,
            "object_fit": null,
            "object_position": null,
            "order": null,
            "overflow": null,
            "overflow_x": null,
            "overflow_y": null,
            "padding": null,
            "right": null,
            "top": null,
            "visibility": null,
            "width": null
          }
        },
        "1033128223594109bd1aff4b1e297802": {
          "model_module": "@jupyter-widgets/base",
          "model_name": "LayoutModel",
          "model_module_version": "1.2.0",
          "state": {
            "_model_module": "@jupyter-widgets/base",
            "_model_module_version": "1.2.0",
            "_model_name": "LayoutModel",
            "_view_count": null,
            "_view_module": "@jupyter-widgets/base",
            "_view_module_version": "1.2.0",
            "_view_name": "LayoutView",
            "align_content": null,
            "align_items": null,
            "align_self": null,
            "border": null,
            "bottom": null,
            "display": null,
            "flex": null,
            "flex_flow": null,
            "grid_area": null,
            "grid_auto_columns": null,
            "grid_auto_flow": null,
            "grid_auto_rows": null,
            "grid_column": null,
            "grid_gap": null,
            "grid_row": null,
            "grid_template_areas": null,
            "grid_template_columns": null,
            "grid_template_rows": null,
            "height": null,
            "justify_content": null,
            "justify_items": null,
            "left": null,
            "margin": null,
            "max_height": null,
            "max_width": null,
            "min_height": null,
            "min_width": null,
            "object_fit": null,
            "object_position": null,
            "order": null,
            "overflow": null,
            "overflow_x": null,
            "overflow_y": null,
            "padding": null,
            "right": null,
            "top": null,
            "visibility": null,
            "width": null
          }
        },
        "505d22fe2f434c068f589ae5e259efc8": {
          "model_module": "@jupyter-widgets/controls",
          "model_name": "DescriptionStyleModel",
          "model_module_version": "1.5.0",
          "state": {
            "_model_module": "@jupyter-widgets/controls",
            "_model_module_version": "1.5.0",
            "_model_name": "DescriptionStyleModel",
            "_view_count": null,
            "_view_module": "@jupyter-widgets/base",
            "_view_module_version": "1.2.0",
            "_view_name": "StyleView",
            "description_width": ""
          }
        },
        "37324900e4a447ab8d8e4fb27b02b2e4": {
          "model_module": "@jupyter-widgets/base",
          "model_name": "LayoutModel",
          "model_module_version": "1.2.0",
          "state": {
            "_model_module": "@jupyter-widgets/base",
            "_model_module_version": "1.2.0",
            "_model_name": "LayoutModel",
            "_view_count": null,
            "_view_module": "@jupyter-widgets/base",
            "_view_module_version": "1.2.0",
            "_view_name": "LayoutView",
            "align_content": null,
            "align_items": null,
            "align_self": null,
            "border": null,
            "bottom": null,
            "display": null,
            "flex": null,
            "flex_flow": null,
            "grid_area": null,
            "grid_auto_columns": null,
            "grid_auto_flow": null,
            "grid_auto_rows": null,
            "grid_column": null,
            "grid_gap": null,
            "grid_row": null,
            "grid_template_areas": null,
            "grid_template_columns": null,
            "grid_template_rows": null,
            "height": null,
            "justify_content": null,
            "justify_items": null,
            "left": null,
            "margin": null,
            "max_height": null,
            "max_width": null,
            "min_height": null,
            "min_width": null,
            "object_fit": null,
            "object_position": null,
            "order": null,
            "overflow": null,
            "overflow_x": null,
            "overflow_y": null,
            "padding": null,
            "right": null,
            "top": null,
            "visibility": null,
            "width": null
          }
        },
        "621b36867d824af7aa1a1ed97374cb6a": {
          "model_module": "@jupyter-widgets/controls",
          "model_name": "ProgressStyleModel",
          "model_module_version": "1.5.0",
          "state": {
            "_model_module": "@jupyter-widgets/controls",
            "_model_module_version": "1.5.0",
            "_model_name": "ProgressStyleModel",
            "_view_count": null,
            "_view_module": "@jupyter-widgets/base",
            "_view_module_version": "1.2.0",
            "_view_name": "StyleView",
            "bar_color": null,
            "description_width": ""
          }
        },
        "22072456b0ad45ae905e5140afd18c0f": {
          "model_module": "@jupyter-widgets/base",
          "model_name": "LayoutModel",
          "model_module_version": "1.2.0",
          "state": {
            "_model_module": "@jupyter-widgets/base",
            "_model_module_version": "1.2.0",
            "_model_name": "LayoutModel",
            "_view_count": null,
            "_view_module": "@jupyter-widgets/base",
            "_view_module_version": "1.2.0",
            "_view_name": "LayoutView",
            "align_content": null,
            "align_items": null,
            "align_self": null,
            "border": null,
            "bottom": null,
            "display": null,
            "flex": null,
            "flex_flow": null,
            "grid_area": null,
            "grid_auto_columns": null,
            "grid_auto_flow": null,
            "grid_auto_rows": null,
            "grid_column": null,
            "grid_gap": null,
            "grid_row": null,
            "grid_template_areas": null,
            "grid_template_columns": null,
            "grid_template_rows": null,
            "height": null,
            "justify_content": null,
            "justify_items": null,
            "left": null,
            "margin": null,
            "max_height": null,
            "max_width": null,
            "min_height": null,
            "min_width": null,
            "object_fit": null,
            "object_position": null,
            "order": null,
            "overflow": null,
            "overflow_x": null,
            "overflow_y": null,
            "padding": null,
            "right": null,
            "top": null,
            "visibility": null,
            "width": null
          }
        },
        "e441ed4d3dc8453abdb1bec5728e9ab4": {
          "model_module": "@jupyter-widgets/controls",
          "model_name": "DescriptionStyleModel",
          "model_module_version": "1.5.0",
          "state": {
            "_model_module": "@jupyter-widgets/controls",
            "_model_module_version": "1.5.0",
            "_model_name": "DescriptionStyleModel",
            "_view_count": null,
            "_view_module": "@jupyter-widgets/base",
            "_view_module_version": "1.2.0",
            "_view_name": "StyleView",
            "description_width": ""
          }
        },
        "81fab05d16ab4f36b684d0b883c15790": {
          "model_module": "@jupyter-widgets/controls",
          "model_name": "HBoxModel",
          "model_module_version": "1.5.0",
          "state": {
            "_dom_classes": [],
            "_model_module": "@jupyter-widgets/controls",
            "_model_module_version": "1.5.0",
            "_model_name": "HBoxModel",
            "_view_count": null,
            "_view_module": "@jupyter-widgets/controls",
            "_view_module_version": "1.5.0",
            "_view_name": "HBoxView",
            "box_style": "",
            "children": [
              "IPY_MODEL_9acac16ac7124fd3a359b3233ef9b249",
              "IPY_MODEL_33f209057a554362b3129195b16da629",
              "IPY_MODEL_1f95ca7467214dbc8ed94f9ac2124d71"
            ],
            "layout": "IPY_MODEL_93862f96274749ffb31389476fdfbb7e"
          }
        },
        "9acac16ac7124fd3a359b3233ef9b249": {
          "model_module": "@jupyter-widgets/controls",
          "model_name": "HTMLModel",
          "model_module_version": "1.5.0",
          "state": {
            "_dom_classes": [],
            "_model_module": "@jupyter-widgets/controls",
            "_model_module_version": "1.5.0",
            "_model_name": "HTMLModel",
            "_view_count": null,
            "_view_module": "@jupyter-widgets/controls",
            "_view_module_version": "1.5.0",
            "_view_name": "HTMLView",
            "description": "",
            "description_tooltip": null,
            "layout": "IPY_MODEL_f26ca395bcf24d9aa14ed055028d0326",
            "placeholder": "​",
            "style": "IPY_MODEL_a4782f77ecee4f23bf9f93ae53d656b4",
            "value": "tokenizer.json: 100%"
          }
        },
        "33f209057a554362b3129195b16da629": {
          "model_module": "@jupyter-widgets/controls",
          "model_name": "FloatProgressModel",
          "model_module_version": "1.5.0",
          "state": {
            "_dom_classes": [],
            "_model_module": "@jupyter-widgets/controls",
            "_model_module_version": "1.5.0",
            "_model_name": "FloatProgressModel",
            "_view_count": null,
            "_view_module": "@jupyter-widgets/controls",
            "_view_module_version": "1.5.0",
            "_view_name": "ProgressView",
            "bar_style": "success",
            "description": "",
            "description_tooltip": null,
            "layout": "IPY_MODEL_5617d0f24f054bcc9ad23438f0f0dffc",
            "max": 435797,
            "min": 0,
            "orientation": "horizontal",
            "style": "IPY_MODEL_b26772536f9843e0aa25c6fab8318a28",
            "value": 435797
          }
        },
        "1f95ca7467214dbc8ed94f9ac2124d71": {
          "model_module": "@jupyter-widgets/controls",
          "model_name": "HTMLModel",
          "model_module_version": "1.5.0",
          "state": {
            "_dom_classes": [],
            "_model_module": "@jupyter-widgets/controls",
            "_model_module_version": "1.5.0",
            "_model_name": "HTMLModel",
            "_view_count": null,
            "_view_module": "@jupyter-widgets/controls",
            "_view_module_version": "1.5.0",
            "_view_name": "HTMLView",
            "description": "",
            "description_tooltip": null,
            "layout": "IPY_MODEL_ffcbfa556c6947798dfe7d5039f876b1",
            "placeholder": "​",
            "style": "IPY_MODEL_550015c9655c42e3a7640171effb3897",
            "value": " 436k/436k [00:00&lt;00:00, 3.72MB/s]"
          }
        },
        "93862f96274749ffb31389476fdfbb7e": {
          "model_module": "@jupyter-widgets/base",
          "model_name": "LayoutModel",
          "model_module_version": "1.2.0",
          "state": {
            "_model_module": "@jupyter-widgets/base",
            "_model_module_version": "1.2.0",
            "_model_name": "LayoutModel",
            "_view_count": null,
            "_view_module": "@jupyter-widgets/base",
            "_view_module_version": "1.2.0",
            "_view_name": "LayoutView",
            "align_content": null,
            "align_items": null,
            "align_self": null,
            "border": null,
            "bottom": null,
            "display": null,
            "flex": null,
            "flex_flow": null,
            "grid_area": null,
            "grid_auto_columns": null,
            "grid_auto_flow": null,
            "grid_auto_rows": null,
            "grid_column": null,
            "grid_gap": null,
            "grid_row": null,
            "grid_template_areas": null,
            "grid_template_columns": null,
            "grid_template_rows": null,
            "height": null,
            "justify_content": null,
            "justify_items": null,
            "left": null,
            "margin": null,
            "max_height": null,
            "max_width": null,
            "min_height": null,
            "min_width": null,
            "object_fit": null,
            "object_position": null,
            "order": null,
            "overflow": null,
            "overflow_x": null,
            "overflow_y": null,
            "padding": null,
            "right": null,
            "top": null,
            "visibility": null,
            "width": null
          }
        },
        "f26ca395bcf24d9aa14ed055028d0326": {
          "model_module": "@jupyter-widgets/base",
          "model_name": "LayoutModel",
          "model_module_version": "1.2.0",
          "state": {
            "_model_module": "@jupyter-widgets/base",
            "_model_module_version": "1.2.0",
            "_model_name": "LayoutModel",
            "_view_count": null,
            "_view_module": "@jupyter-widgets/base",
            "_view_module_version": "1.2.0",
            "_view_name": "LayoutView",
            "align_content": null,
            "align_items": null,
            "align_self": null,
            "border": null,
            "bottom": null,
            "display": null,
            "flex": null,
            "flex_flow": null,
            "grid_area": null,
            "grid_auto_columns": null,
            "grid_auto_flow": null,
            "grid_auto_rows": null,
            "grid_column": null,
            "grid_gap": null,
            "grid_row": null,
            "grid_template_areas": null,
            "grid_template_columns": null,
            "grid_template_rows": null,
            "height": null,
            "justify_content": null,
            "justify_items": null,
            "left": null,
            "margin": null,
            "max_height": null,
            "max_width": null,
            "min_height": null,
            "min_width": null,
            "object_fit": null,
            "object_position": null,
            "order": null,
            "overflow": null,
            "overflow_x": null,
            "overflow_y": null,
            "padding": null,
            "right": null,
            "top": null,
            "visibility": null,
            "width": null
          }
        },
        "a4782f77ecee4f23bf9f93ae53d656b4": {
          "model_module": "@jupyter-widgets/controls",
          "model_name": "DescriptionStyleModel",
          "model_module_version": "1.5.0",
          "state": {
            "_model_module": "@jupyter-widgets/controls",
            "_model_module_version": "1.5.0",
            "_model_name": "DescriptionStyleModel",
            "_view_count": null,
            "_view_module": "@jupyter-widgets/base",
            "_view_module_version": "1.2.0",
            "_view_name": "StyleView",
            "description_width": ""
          }
        },
        "5617d0f24f054bcc9ad23438f0f0dffc": {
          "model_module": "@jupyter-widgets/base",
          "model_name": "LayoutModel",
          "model_module_version": "1.2.0",
          "state": {
            "_model_module": "@jupyter-widgets/base",
            "_model_module_version": "1.2.0",
            "_model_name": "LayoutModel",
            "_view_count": null,
            "_view_module": "@jupyter-widgets/base",
            "_view_module_version": "1.2.0",
            "_view_name": "LayoutView",
            "align_content": null,
            "align_items": null,
            "align_self": null,
            "border": null,
            "bottom": null,
            "display": null,
            "flex": null,
            "flex_flow": null,
            "grid_area": null,
            "grid_auto_columns": null,
            "grid_auto_flow": null,
            "grid_auto_rows": null,
            "grid_column": null,
            "grid_gap": null,
            "grid_row": null,
            "grid_template_areas": null,
            "grid_template_columns": null,
            "grid_template_rows": null,
            "height": null,
            "justify_content": null,
            "justify_items": null,
            "left": null,
            "margin": null,
            "max_height": null,
            "max_width": null,
            "min_height": null,
            "min_width": null,
            "object_fit": null,
            "object_position": null,
            "order": null,
            "overflow": null,
            "overflow_x": null,
            "overflow_y": null,
            "padding": null,
            "right": null,
            "top": null,
            "visibility": null,
            "width": null
          }
        },
        "b26772536f9843e0aa25c6fab8318a28": {
          "model_module": "@jupyter-widgets/controls",
          "model_name": "ProgressStyleModel",
          "model_module_version": "1.5.0",
          "state": {
            "_model_module": "@jupyter-widgets/controls",
            "_model_module_version": "1.5.0",
            "_model_name": "ProgressStyleModel",
            "_view_count": null,
            "_view_module": "@jupyter-widgets/base",
            "_view_module_version": "1.2.0",
            "_view_name": "StyleView",
            "bar_color": null,
            "description_width": ""
          }
        },
        "ffcbfa556c6947798dfe7d5039f876b1": {
          "model_module": "@jupyter-widgets/base",
          "model_name": "LayoutModel",
          "model_module_version": "1.2.0",
          "state": {
            "_model_module": "@jupyter-widgets/base",
            "_model_module_version": "1.2.0",
            "_model_name": "LayoutModel",
            "_view_count": null,
            "_view_module": "@jupyter-widgets/base",
            "_view_module_version": "1.2.0",
            "_view_name": "LayoutView",
            "align_content": null,
            "align_items": null,
            "align_self": null,
            "border": null,
            "bottom": null,
            "display": null,
            "flex": null,
            "flex_flow": null,
            "grid_area": null,
            "grid_auto_columns": null,
            "grid_auto_flow": null,
            "grid_auto_rows": null,
            "grid_column": null,
            "grid_gap": null,
            "grid_row": null,
            "grid_template_areas": null,
            "grid_template_columns": null,
            "grid_template_rows": null,
            "height": null,
            "justify_content": null,
            "justify_items": null,
            "left": null,
            "margin": null,
            "max_height": null,
            "max_width": null,
            "min_height": null,
            "min_width": null,
            "object_fit": null,
            "object_position": null,
            "order": null,
            "overflow": null,
            "overflow_x": null,
            "overflow_y": null,
            "padding": null,
            "right": null,
            "top": null,
            "visibility": null,
            "width": null
          }
        },
        "550015c9655c42e3a7640171effb3897": {
          "model_module": "@jupyter-widgets/controls",
          "model_name": "DescriptionStyleModel",
          "model_module_version": "1.5.0",
          "state": {
            "_model_module": "@jupyter-widgets/controls",
            "_model_module_version": "1.5.0",
            "_model_name": "DescriptionStyleModel",
            "_view_count": null,
            "_view_module": "@jupyter-widgets/base",
            "_view_module_version": "1.2.0",
            "_view_name": "StyleView",
            "description_width": ""
          }
        },
        "444fdd4ce1bb46d2a10236654956cc62": {
          "model_module": "@jupyter-widgets/controls",
          "model_name": "HBoxModel",
          "model_module_version": "1.5.0",
          "state": {
            "_dom_classes": [],
            "_model_module": "@jupyter-widgets/controls",
            "_model_module_version": "1.5.0",
            "_model_name": "HBoxModel",
            "_view_count": null,
            "_view_module": "@jupyter-widgets/controls",
            "_view_module_version": "1.5.0",
            "_view_name": "HBoxView",
            "box_style": "",
            "children": [
              "IPY_MODEL_d2675e276989400e88c6fa083a236c6e",
              "IPY_MODEL_81fc6ce7bc5d411aa59b79aaefe0519f",
              "IPY_MODEL_e0b6a2c17b314a729fa796bfc6dfa359"
            ],
            "layout": "IPY_MODEL_9c75ebceee784df0afe131ae290328a6"
          }
        },
        "d2675e276989400e88c6fa083a236c6e": {
          "model_module": "@jupyter-widgets/controls",
          "model_name": "HTMLModel",
          "model_module_version": "1.5.0",
          "state": {
            "_dom_classes": [],
            "_model_module": "@jupyter-widgets/controls",
            "_model_module_version": "1.5.0",
            "_model_name": "HTMLModel",
            "_view_count": null,
            "_view_module": "@jupyter-widgets/controls",
            "_view_module_version": "1.5.0",
            "_view_name": "HTMLView",
            "description": "",
            "description_tooltip": null,
            "layout": "IPY_MODEL_7e6c793b877b4c109ff959607a2b9eee",
            "placeholder": "​",
            "style": "IPY_MODEL_6a82fe772060422f99ae2e058af7c6b3",
            "value": "model.safetensors: 100%"
          }
        },
        "81fc6ce7bc5d411aa59b79aaefe0519f": {
          "model_module": "@jupyter-widgets/controls",
          "model_name": "FloatProgressModel",
          "model_module_version": "1.5.0",
          "state": {
            "_dom_classes": [],
            "_model_module": "@jupyter-widgets/controls",
            "_model_module_version": "1.5.0",
            "_model_name": "FloatProgressModel",
            "_view_count": null,
            "_view_module": "@jupyter-widgets/controls",
            "_view_module_version": "1.5.0",
            "_view_name": "ProgressView",
            "bar_style": "success",
            "description": "",
            "description_tooltip": null,
            "layout": "IPY_MODEL_bc81290446434ec3920cbc16797236d4",
            "max": 435755784,
            "min": 0,
            "orientation": "horizontal",
            "style": "IPY_MODEL_401cde3f92324e399828aac67cbeecf8",
            "value": 435755784
          }
        },
        "e0b6a2c17b314a729fa796bfc6dfa359": {
          "model_module": "@jupyter-widgets/controls",
          "model_name": "HTMLModel",
          "model_module_version": "1.5.0",
          "state": {
            "_dom_classes": [],
            "_model_module": "@jupyter-widgets/controls",
            "_model_module_version": "1.5.0",
            "_model_name": "HTMLModel",
            "_view_count": null,
            "_view_module": "@jupyter-widgets/controls",
            "_view_module_version": "1.5.0",
            "_view_name": "HTMLView",
            "description": "",
            "description_tooltip": null,
            "layout": "IPY_MODEL_04f8906fb77e4aa7883bed36bf8ff3e9",
            "placeholder": "​",
            "style": "IPY_MODEL_eee8bba0162f42a799aea0e64c492f75",
            "value": " 436M/436M [00:03&lt;00:00, 145MB/s]"
          }
        },
        "9c75ebceee784df0afe131ae290328a6": {
          "model_module": "@jupyter-widgets/base",
          "model_name": "LayoutModel",
          "model_module_version": "1.2.0",
          "state": {
            "_model_module": "@jupyter-widgets/base",
            "_model_module_version": "1.2.0",
            "_model_name": "LayoutModel",
            "_view_count": null,
            "_view_module": "@jupyter-widgets/base",
            "_view_module_version": "1.2.0",
            "_view_name": "LayoutView",
            "align_content": null,
            "align_items": null,
            "align_self": null,
            "border": null,
            "bottom": null,
            "display": null,
            "flex": null,
            "flex_flow": null,
            "grid_area": null,
            "grid_auto_columns": null,
            "grid_auto_flow": null,
            "grid_auto_rows": null,
            "grid_column": null,
            "grid_gap": null,
            "grid_row": null,
            "grid_template_areas": null,
            "grid_template_columns": null,
            "grid_template_rows": null,
            "height": null,
            "justify_content": null,
            "justify_items": null,
            "left": null,
            "margin": null,
            "max_height": null,
            "max_width": null,
            "min_height": null,
            "min_width": null,
            "object_fit": null,
            "object_position": null,
            "order": null,
            "overflow": null,
            "overflow_x": null,
            "overflow_y": null,
            "padding": null,
            "right": null,
            "top": null,
            "visibility": null,
            "width": null
          }
        },
        "7e6c793b877b4c109ff959607a2b9eee": {
          "model_module": "@jupyter-widgets/base",
          "model_name": "LayoutModel",
          "model_module_version": "1.2.0",
          "state": {
            "_model_module": "@jupyter-widgets/base",
            "_model_module_version": "1.2.0",
            "_model_name": "LayoutModel",
            "_view_count": null,
            "_view_module": "@jupyter-widgets/base",
            "_view_module_version": "1.2.0",
            "_view_name": "LayoutView",
            "align_content": null,
            "align_items": null,
            "align_self": null,
            "border": null,
            "bottom": null,
            "display": null,
            "flex": null,
            "flex_flow": null,
            "grid_area": null,
            "grid_auto_columns": null,
            "grid_auto_flow": null,
            "grid_auto_rows": null,
            "grid_column": null,
            "grid_gap": null,
            "grid_row": null,
            "grid_template_areas": null,
            "grid_template_columns": null,
            "grid_template_rows": null,
            "height": null,
            "justify_content": null,
            "justify_items": null,
            "left": null,
            "margin": null,
            "max_height": null,
            "max_width": null,
            "min_height": null,
            "min_width": null,
            "object_fit": null,
            "object_position": null,
            "order": null,
            "overflow": null,
            "overflow_x": null,
            "overflow_y": null,
            "padding": null,
            "right": null,
            "top": null,
            "visibility": null,
            "width": null
          }
        },
        "6a82fe772060422f99ae2e058af7c6b3": {
          "model_module": "@jupyter-widgets/controls",
          "model_name": "DescriptionStyleModel",
          "model_module_version": "1.5.0",
          "state": {
            "_model_module": "@jupyter-widgets/controls",
            "_model_module_version": "1.5.0",
            "_model_name": "DescriptionStyleModel",
            "_view_count": null,
            "_view_module": "@jupyter-widgets/base",
            "_view_module_version": "1.2.0",
            "_view_name": "StyleView",
            "description_width": ""
          }
        },
        "bc81290446434ec3920cbc16797236d4": {
          "model_module": "@jupyter-widgets/base",
          "model_name": "LayoutModel",
          "model_module_version": "1.2.0",
          "state": {
            "_model_module": "@jupyter-widgets/base",
            "_model_module_version": "1.2.0",
            "_model_name": "LayoutModel",
            "_view_count": null,
            "_view_module": "@jupyter-widgets/base",
            "_view_module_version": "1.2.0",
            "_view_name": "LayoutView",
            "align_content": null,
            "align_items": null,
            "align_self": null,
            "border": null,
            "bottom": null,
            "display": null,
            "flex": null,
            "flex_flow": null,
            "grid_area": null,
            "grid_auto_columns": null,
            "grid_auto_flow": null,
            "grid_auto_rows": null,
            "grid_column": null,
            "grid_gap": null,
            "grid_row": null,
            "grid_template_areas": null,
            "grid_template_columns": null,
            "grid_template_rows": null,
            "height": null,
            "justify_content": null,
            "justify_items": null,
            "left": null,
            "margin": null,
            "max_height": null,
            "max_width": null,
            "min_height": null,
            "min_width": null,
            "object_fit": null,
            "object_position": null,
            "order": null,
            "overflow": null,
            "overflow_x": null,
            "overflow_y": null,
            "padding": null,
            "right": null,
            "top": null,
            "visibility": null,
            "width": null
          }
        },
        "401cde3f92324e399828aac67cbeecf8": {
          "model_module": "@jupyter-widgets/controls",
          "model_name": "ProgressStyleModel",
          "model_module_version": "1.5.0",
          "state": {
            "_model_module": "@jupyter-widgets/controls",
            "_model_module_version": "1.5.0",
            "_model_name": "ProgressStyleModel",
            "_view_count": null,
            "_view_module": "@jupyter-widgets/base",
            "_view_module_version": "1.2.0",
            "_view_name": "StyleView",
            "bar_color": null,
            "description_width": ""
          }
        },
        "04f8906fb77e4aa7883bed36bf8ff3e9": {
          "model_module": "@jupyter-widgets/base",
          "model_name": "LayoutModel",
          "model_module_version": "1.2.0",
          "state": {
            "_model_module": "@jupyter-widgets/base",
            "_model_module_version": "1.2.0",
            "_model_name": "LayoutModel",
            "_view_count": null,
            "_view_module": "@jupyter-widgets/base",
            "_view_module_version": "1.2.0",
            "_view_name": "LayoutView",
            "align_content": null,
            "align_items": null,
            "align_self": null,
            "border": null,
            "bottom": null,
            "display": null,
            "flex": null,
            "flex_flow": null,
            "grid_area": null,
            "grid_auto_columns": null,
            "grid_auto_flow": null,
            "grid_auto_rows": null,
            "grid_column": null,
            "grid_gap": null,
            "grid_row": null,
            "grid_template_areas": null,
            "grid_template_columns": null,
            "grid_template_rows": null,
            "height": null,
            "justify_content": null,
            "justify_items": null,
            "left": null,
            "margin": null,
            "max_height": null,
            "max_width": null,
            "min_height": null,
            "min_width": null,
            "object_fit": null,
            "object_position": null,
            "order": null,
            "overflow": null,
            "overflow_x": null,
            "overflow_y": null,
            "padding": null,
            "right": null,
            "top": null,
            "visibility": null,
            "width": null
          }
        },
        "eee8bba0162f42a799aea0e64c492f75": {
          "model_module": "@jupyter-widgets/controls",
          "model_name": "DescriptionStyleModel",
          "model_module_version": "1.5.0",
          "state": {
            "_model_module": "@jupyter-widgets/controls",
            "_model_module_version": "1.5.0",
            "_model_name": "DescriptionStyleModel",
            "_view_count": null,
            "_view_module": "@jupyter-widgets/base",
            "_view_module_version": "1.2.0",
            "_view_name": "StyleView",
            "description_width": ""
          }
        }
      }
    }
  },
  "cells": [
    {
      "cell_type": "markdown",
      "metadata": {
        "id": "view-in-github",
        "colab_type": "text"
      },
      "source": [
        "<a href=\"https://colab.research.google.com/github/shaangao/LLMs/blob/main/llms.ipynb\" target=\"_parent\"><img src=\"https://colab.research.google.com/assets/colab-badge.svg\" alt=\"Open In Colab\"/></a>"
      ]
    },
    {
      "cell_type": "markdown",
      "source": [
        "# LLM Feature Extraction and Fine-Tuning for Sentence Classification"
      ],
      "metadata": {
        "id": "XAApgYHlCMYo"
      }
    },
    {
      "cell_type": "code",
      "execution_count": 1,
      "metadata": {
        "id": "QCdFoYit1Iis"
      },
      "outputs": [],
      "source": [
        "%%capture\n",
        "! pip install tqdm boto3 requests regex sentencepiece sacremoses\n",
        "! pip install transformers"
      ]
    },
    {
      "cell_type": "code",
      "source": [
        "from google.colab import drive\n",
        "drive.mount('/content/drive')"
      ],
      "metadata": {
        "colab": {
          "base_uri": "https://localhost:8080/"
        },
        "id": "LY0wqmBVEM-1",
        "outputId": "408bdf95-0ef5-4cfd-b743-c69320ff32fa"
      },
      "execution_count": 2,
      "outputs": [
        {
          "output_type": "stream",
          "name": "stdout",
          "text": [
            "Mounted at /content/drive\n"
          ]
        }
      ]
    },
    {
      "cell_type": "code",
      "source": [
        "import collections\n",
        "import json\n",
        "import numpy as np\n",
        "import torch\n",
        "import torch.nn as nn\n",
        "import tqdm\n",
        "from torch.utils.data import Dataset, DataLoader\n",
        "import torch.nn.functional as F\n",
        "from transformers import AutoTokenizer, AutoModel"
      ],
      "metadata": {
        "id": "KyTluMERlu4O"
      },
      "execution_count": 3,
      "outputs": []
    },
    {
      "cell_type": "markdown",
      "source": [
        "## dataset and data loaders"
      ],
      "metadata": {
        "id": "ZVI3OhkQrIOa"
      }
    },
    {
      "cell_type": "code",
      "source": [
        "SPLITS = ['train', 'dev', 'test']\n",
        "\n",
        "\n",
        "class DBPediaDataset(Dataset):\n",
        "\n",
        "    '''\n",
        "    DBPedia dataset.\n",
        "      Args:\n",
        "        path[str]: path to the original data.\n",
        "    '''\n",
        "\n",
        "    def __init__(self, path):\n",
        "        with open(path) as fin:\n",
        "            self._data = [json.loads(l) for l in fin]\n",
        "        self._n_classes = len(set([datum['label'] for datum in self._data]))\n",
        "\n",
        "    def __getitem__(self, index):\n",
        "        return self._data[index]\n",
        "\n",
        "    def __len__(self):\n",
        "        return len(self._data)\n",
        "\n",
        "    @property\n",
        "    def n_classes(self):\n",
        "        return self._n_classes\n",
        "\n",
        "    @staticmethod\n",
        "    def collate_fn(tokenizer, device, batch):\n",
        "\n",
        "        '''\n",
        "        The collate function that compresses a training batch.\n",
        "          Args:\n",
        "            batch[list[dict[str, Any]]]: data in the batch.\n",
        "          Returns:\n",
        "            labels[torch.LongTensor]: the labels in the batch.\n",
        "            sentences[dict[str, torch.Tensor]]: sentences converted by tokenizers.\n",
        "        '''\n",
        "\n",
        "        labels = torch.tensor([datum['label'] for datum in batch]).long().to(device)\n",
        "        sentences = tokenizer(\n",
        "            [datum['sentence'] for datum in batch],\n",
        "            return_tensors='pt',  # pt = pytorch style tensor\n",
        "            padding=True\n",
        "        )\n",
        "        for key in sentences:\n",
        "            sentences[key] = sentences[key].to(device)\n",
        "        return labels, sentences\n",
        "\n",
        "\n",
        "def construct_datasets(prefix, batch_size, tokenizer, device):\n",
        "\n",
        "    '''\n",
        "    Constructs datasets and data loaders.\n",
        "      Args:\n",
        "        prefix[str]: prefix of the dataset (e.g., dbpedia_).\n",
        "        batch_size[int]: maximum number of examples in a batch.\n",
        "        tokenizer: model tokenizer that converts sentences to integer tensors.\n",
        "        device[torch.device]: the device (cpu/gpu) that the tensor should be on.\n",
        "      Returns:\n",
        "        datasets[dict[str, Dataset]]: a dict of constructed datasets.\n",
        "        dataloaders[dict[str, DataLoader]]: a dict of constructed data loaders.\n",
        "    '''\n",
        "\n",
        "    datasets = collections.defaultdict()\n",
        "    dataloaders = collections.defaultdict()\n",
        "\n",
        "    for split in SPLITS:\n",
        "\n",
        "        # dataset\n",
        "        datasets[split] = DBPediaDataset(f'{prefix}{split}.json')\n",
        "\n",
        "        # dataloader\n",
        "        dataloaders[split] = DataLoader(\n",
        "            datasets[split],\n",
        "            batch_size=batch_size,\n",
        "            shuffle=(split == 'train'),\n",
        "            collate_fn=lambda x:DBPediaDataset.collate_fn(tokenizer, device, x)\n",
        "        )\n",
        "\n",
        "    return datasets, dataloaders"
      ],
      "metadata": {
        "id": "Sr_s2OH017B3"
      },
      "execution_count": 4,
      "outputs": []
    },
    {
      "cell_type": "markdown",
      "source": [
        "## classifer architecture"
      ],
      "metadata": {
        "id": "9cFGTGFT8xaF"
      }
    },
    {
      "cell_type": "code",
      "source": [
        "class Classifier(nn.Module):\n",
        "\n",
        "\n",
        "    def __init__(self, in_size, layer_sizes:list, layer_acts:list):\n",
        "\n",
        "        # call parent constructor\n",
        "        super(Classifier, self).__init__()\n",
        "\n",
        "        # construct layers (last layer is output layer)\n",
        "        self.layers = nn.ModuleList()\n",
        "        for i, layer_size in enumerate(layer_sizes):\n",
        "            if i == 0:\n",
        "                layer = nn.Linear(in_size, layer_size)\n",
        "                layer.weight.data.uniform_(-0.01, 0.01)\n",
        "                layer.bias.data.zero_()\n",
        "                self.layers.append(layer)\n",
        "            else:\n",
        "                layer = nn.Linear(layer_sizes[i-1], layer_size)\n",
        "                layer.weight.data.uniform_(-0.01, 0.01)\n",
        "                layer.bias.data.zero_()\n",
        "                self.layers.append(layer)\n",
        "\n",
        "        # set each layer's activation function\n",
        "        self.layer_acts = layer_acts\n",
        "\n",
        "\n",
        "    def forward(self, x):\n",
        "\n",
        "        for i, layer in enumerate(self.layers):\n",
        "            x = layer(x)\n",
        "            x = self.layer_acts[i](x)\n",
        "\n",
        "        return x"
      ],
      "metadata": {
        "id": "x7zw6kKUE4FY"
      },
      "execution_count": 5,
      "outputs": []
    },
    {
      "cell_type": "markdown",
      "source": [
        "## 1. BERT [CLS] feature extraction for classification"
      ],
      "metadata": {
        "id": "y2usTWPt2Tjs"
      }
    },
    {
      "cell_type": "markdown",
      "source": [
        "### setup"
      ],
      "metadata": {
        "id": "stbHHXdp5tnv"
      }
    },
    {
      "cell_type": "code",
      "source": [
        "# set hyperparameters\n",
        "batch_size = 32\n",
        "classifier_hidden_size = 32\n",
        "\n",
        "# load BERT tokenizer and model\n",
        "tokenizer = AutoTokenizer.from_pretrained('bert-base-cased')\n",
        "bert_model = AutoModel.from_pretrained('bert-base-cased')\n",
        "if torch.cuda.is_available():  # use GPU if available\n",
        "    bert_model = bert_model.cuda()\n",
        "\n",
        "# construct datasets with BERT tokenizer\n",
        "datasets, dataloaders = construct_datasets(\n",
        "    prefix='/content/drive/MyDrive/LLMs/data/dbpedia_',\n",
        "    batch_size=batch_size,\n",
        "    tokenizer=tokenizer,\n",
        "    device=bert_model.device\n",
        ")\n",
        "\n",
        "# # sanity check\n",
        "# datasets['train'].__getitem__(0)\n",
        "\n",
        "# # sanity check\n",
        "# dtrain0 = next(iter(dataloaders['train']))\n",
        "# # labels\n",
        "# dtrain0[0]\n",
        "# # sentences\n",
        "# dtrain0[1].keys()"
      ],
      "metadata": {
        "colab": {
          "base_uri": "https://localhost:8080/",
          "height": 177,
          "referenced_widgets": [
            "edd2e29342dd4fb4a447e29ae9a936a9",
            "a4ccfd3357a24cd7b31cf02ac8c3f477",
            "e64557496c7e46babc5fb7da68c6a10f",
            "cc6dec3ed8d2467397643109fe3b52fe",
            "12398133ea6c41a190a87ec137e2ccd4",
            "58f80feb48b54bb587642ec61d2e87d3",
            "ac7031b12a564720bd4c1537628612c3",
            "7cb420ccfb974330a522dc845818295b",
            "ff52285e08a749f1bd63f3865f2e8908",
            "4b6e396579684418adba690e7c1fd82e",
            "e2a6c283890b4bcca0d825c8578ffa44",
            "512a20c2900242e1adc109911666dd99",
            "0ea1c3e299934ce1b1ae390a922e30fe",
            "dced406e6bc34600a682541122d79357",
            "f29d546090fd4af1af5b1525e0fac5fd",
            "08f469da0aba4d0ea4f35a8297580f0d",
            "6486f4b9de2f4868a5f47a7514056d71",
            "c882cb1823d6499bb0d3446bf39a2026",
            "0274daaf452249029943b87fda13d66e",
            "3cd2984c426c4f5fb5065663483beb8a",
            "f1fd6d5baae64efdb289d2f84362755e",
            "de682ff3fbad404d954baa22984efcd5",
            "be0b714626514156915557acb0198ff1",
            "250e3f38239b4966a3ac135f90697d8c",
            "dba0a5b4c78e4dc9955cb3a30caa1460",
            "662f6ff6a102434e8e5cc708628642a9",
            "7abf0608b0584ecd9dc4323c86c9698c",
            "1033128223594109bd1aff4b1e297802",
            "505d22fe2f434c068f589ae5e259efc8",
            "37324900e4a447ab8d8e4fb27b02b2e4",
            "621b36867d824af7aa1a1ed97374cb6a",
            "22072456b0ad45ae905e5140afd18c0f",
            "e441ed4d3dc8453abdb1bec5728e9ab4",
            "81fab05d16ab4f36b684d0b883c15790",
            "9acac16ac7124fd3a359b3233ef9b249",
            "33f209057a554362b3129195b16da629",
            "1f95ca7467214dbc8ed94f9ac2124d71",
            "93862f96274749ffb31389476fdfbb7e",
            "f26ca395bcf24d9aa14ed055028d0326",
            "a4782f77ecee4f23bf9f93ae53d656b4",
            "5617d0f24f054bcc9ad23438f0f0dffc",
            "b26772536f9843e0aa25c6fab8318a28",
            "ffcbfa556c6947798dfe7d5039f876b1",
            "550015c9655c42e3a7640171effb3897",
            "444fdd4ce1bb46d2a10236654956cc62",
            "d2675e276989400e88c6fa083a236c6e",
            "81fc6ce7bc5d411aa59b79aaefe0519f",
            "e0b6a2c17b314a729fa796bfc6dfa359",
            "9c75ebceee784df0afe131ae290328a6",
            "7e6c793b877b4c109ff959607a2b9eee",
            "6a82fe772060422f99ae2e058af7c6b3",
            "bc81290446434ec3920cbc16797236d4",
            "401cde3f92324e399828aac67cbeecf8",
            "04f8906fb77e4aa7883bed36bf8ff3e9",
            "eee8bba0162f42a799aea0e64c492f75"
          ]
        },
        "id": "IqL1EUzc3O4a",
        "outputId": "1aa40f7a-67be-48e5-f255-76032f726356"
      },
      "execution_count": 6,
      "outputs": [
        {
          "output_type": "display_data",
          "data": {
            "text/plain": [
              "tokenizer_config.json:   0%|          | 0.00/29.0 [00:00<?, ?B/s]"
            ],
            "application/vnd.jupyter.widget-view+json": {
              "version_major": 2,
              "version_minor": 0,
              "model_id": "edd2e29342dd4fb4a447e29ae9a936a9"
            }
          },
          "metadata": {}
        },
        {
          "output_type": "display_data",
          "data": {
            "text/plain": [
              "config.json:   0%|          | 0.00/570 [00:00<?, ?B/s]"
            ],
            "application/vnd.jupyter.widget-view+json": {
              "version_major": 2,
              "version_minor": 0,
              "model_id": "512a20c2900242e1adc109911666dd99"
            }
          },
          "metadata": {}
        },
        {
          "output_type": "display_data",
          "data": {
            "text/plain": [
              "vocab.txt:   0%|          | 0.00/213k [00:00<?, ?B/s]"
            ],
            "application/vnd.jupyter.widget-view+json": {
              "version_major": 2,
              "version_minor": 0,
              "model_id": "be0b714626514156915557acb0198ff1"
            }
          },
          "metadata": {}
        },
        {
          "output_type": "display_data",
          "data": {
            "text/plain": [
              "tokenizer.json:   0%|          | 0.00/436k [00:00<?, ?B/s]"
            ],
            "application/vnd.jupyter.widget-view+json": {
              "version_major": 2,
              "version_minor": 0,
              "model_id": "81fab05d16ab4f36b684d0b883c15790"
            }
          },
          "metadata": {}
        },
        {
          "output_type": "display_data",
          "data": {
            "text/plain": [
              "model.safetensors:   0%|          | 0.00/436M [00:00<?, ?B/s]"
            ],
            "application/vnd.jupyter.widget-view+json": {
              "version_major": 2,
              "version_minor": 0,
              "model_id": "444fdd4ce1bb46d2a10236654956cc62"
            }
          },
          "metadata": {}
        }
      ]
    },
    {
      "cell_type": "markdown",
      "source": [
        "### train and eval util funcs"
      ],
      "metadata": {
        "id": "LGMG7aw4TZFy"
      }
    },
    {
      "cell_type": "code",
      "source": [
        "# func for extracting frozen BERT token representations for sentences and pooling\n",
        "\n",
        "def extract_bert_rep(bert_model, sentences:dict, pooling:str):\n",
        "\n",
        "    # extract frozen BERT token representations for sentences\n",
        "    with torch.no_grad():   # keep BERT params fixed\n",
        "        unpooled_features = bert_model(**sentences)['last_hidden_state']  # (B, L, D): (batch_size, num token in sentence, BERT rep dimension)\n",
        "\n",
        "    # get pooled_features across tokens for each sentence\n",
        "    if pooling == 'first':\n",
        "        pooled_features = unpooled_features[:, 0, :]   # (B, D)\n",
        "    elif pooling == 'mean':\n",
        "        pass\n",
        "    elif pooling == 'max':\n",
        "        pass\n",
        "\n",
        "    return pooled_features"
      ],
      "metadata": {
        "id": "PCKWdKlXgpUA"
      },
      "execution_count": 7,
      "outputs": []
    },
    {
      "cell_type": "code",
      "source": [
        "# func for running 1 epoch of training\n",
        "\n",
        "def train1epoch(classifier, train_dataloader, optimizer, criterion):\n",
        "\n",
        "    # progress bar\n",
        "    pbar = tqdm.tqdm(train_dataloader)\n",
        "\n",
        "    # turn on training mode\n",
        "    classifier.train()\n",
        "\n",
        "    # reset epoch_loss tracker\n",
        "    epoch_loss = 0\n",
        "\n",
        "    # iter through mini-batches to train 1 epoch\n",
        "    for labels, sentences in pbar:\n",
        "\n",
        "        # extract frozen BERT token representations for sentences; get [CLS] token (first token) representation\n",
        "        cls_features = extract_bert_rep(bert_model=bert_model, sentences=sentences, pooling='first')   # (B, D)\n",
        "\n",
        "        # train\n",
        "        optimizer.zero_grad()   # zero the gradient buffers\n",
        "        output = classifier(cls_features)\n",
        "        loss = criterion(output, labels)\n",
        "        loss.backward()\n",
        "        optimizer.step()   # does the update\n",
        "\n",
        "        epoch_loss += loss.item()\n",
        "\n",
        "        # print('\\n')\n",
        "        # print(f'  batch loss: {loss.item()}')\n",
        "        # print(f'  epoch loss: {epoch_loss}')\n",
        "\n",
        "    return epoch_loss"
      ],
      "metadata": {
        "id": "HtbHeXPuljVd"
      },
      "execution_count": 8,
      "outputs": []
    },
    {
      "cell_type": "code",
      "source": [
        "# eval\n",
        "\n",
        "def eval(classifier, eval_dataloader):\n",
        "\n",
        "    # progress bar\n",
        "    pbar = tqdm.tqdm(eval_dataloader)\n",
        "\n",
        "    # turn on eval mode\n",
        "    classifier.eval()\n",
        "\n",
        "    # set trackers\n",
        "    ycorrect = 0\n",
        "    ytotal = 0\n",
        "\n",
        "    # turn off gradient calc to reduce memory consumption\n",
        "    with torch.no_grad():\n",
        "\n",
        "        # iter through mini-batches in eval_dataloader\n",
        "        for labels, sentences in pbar:\n",
        "\n",
        "            # extract frozen BERT token representations for sentences; get [CLS] token (first token) representation\n",
        "            cls_features = extract_bert_rep(bert_model=bert_model, sentences=sentences, pooling='first')  # (B, D)\n",
        "\n",
        "            # get classifier predictions on eval_data\n",
        "            probs = F.softmax(classifier(cls_features), dim=1)\n",
        "            ypred = torch.argmax(probs, dim=1)\n",
        "\n",
        "            # count correct predictions\n",
        "            ycorrect += torch.sum(torch.eq(ypred, labels)).item()\n",
        "\n",
        "            # total num of obs in eval_data\n",
        "            ytotal += len(labels)\n",
        "\n",
        "    # compute accuracy\n",
        "    yaccu = ycorrect / ytotal\n",
        "\n",
        "    return yaccu"
      ],
      "metadata": {
        "id": "4ShjbKDCAuYn"
      },
      "execution_count": 9,
      "outputs": []
    },
    {
      "cell_type": "code",
      "source": [
        "# wrapper for train & eval\n",
        "\n",
        "def main_process(classifier, name, optimizer, criterion, dataloaders, max_epochs=10, early_stopping=3):\n",
        "\n",
        "\n",
        "    # initialize vars: track metrics\n",
        "    epoch_losses = []\n",
        "    train_evals = []\n",
        "    dev_evals = []\n",
        "\n",
        "    # initialize vars: track best classifier\n",
        "    best_dev_eval = 0\n",
        "    best_classifier_epoch = -1\n",
        "\n",
        "\n",
        "    # train and eval\n",
        "    for epoch in range(max_epochs):\n",
        "\n",
        "        print(f'EPOCH {epoch+1}')\n",
        "\n",
        "        # train\n",
        "        print(f'----- TRAIN -----')\n",
        "        epoch_loss = train1epoch(\n",
        "            classifier=classifier,\n",
        "            train_dataloader=dataloaders['train'],\n",
        "            optimizer=optimizer,\n",
        "            criterion=criterion\n",
        "        )\n",
        "        print(f'  epoch loss: {epoch_loss}')\n",
        "        epoch_losses.append(epoch_loss)\n",
        "\n",
        "        print(f'----- EVAL -----')\n",
        "\n",
        "        # # eval on training set\n",
        "        # train_eval = eval(classifier=classifier, eval_dataloader=dataloaders['train'])\n",
        "        # print(f'  train accuracy: {train_eval}')\n",
        "        # train_evals.append(train_eval)\n",
        "\n",
        "        # eval on dev set\n",
        "        dev_eval = eval(classifier=classifier, eval_dataloader=dataloaders['dev'])\n",
        "        print(f'  dev accuracy: {dev_eval}')\n",
        "        dev_evals.append(dev_eval)\n",
        "\n",
        "        # update best classifier based on dev eval\n",
        "        if dev_eval > best_dev_eval:\n",
        "\n",
        "            # save state_dict of best classifier so far\n",
        "            torch.save(classifier.state_dict(), '/content/drive/MyDrive/LLMs/classifiers/'+name+'_best.pth.tar')\n",
        "\n",
        "            # update which epoch best_classifier is from\n",
        "            best_classifier_epoch = epoch\n",
        "\n",
        "            # update best_dev_accu\n",
        "            best_dev_eval = dev_eval\n",
        "\n",
        "        print(f'  best classifier from epoch {best_classifier_epoch+1}')\n",
        "\n",
        "        # early stopping based on dev eval\n",
        "        if early_stopping is not None:\n",
        "            if epoch - best_classifier_epoch >= early_stopping:\n",
        "                print('=== EARLY STOPPING ===')\n",
        "                break\n",
        "    # end training epochs\n",
        "\n",
        "\n",
        "    # load state_dict of best classifier (modifies input classifier in place)\n",
        "    if epoch != best_classifier_epoch:\n",
        "        print(f'load best classifier...')\n",
        "        classifier.load_state_dict(torch.load('/content/drive/MyDrive/LLMs/classifiers/'+name+'_best.pth.tar'))\n",
        "\n",
        "    # eval best classifier on devtest set\n",
        "    print(f'----- EVAL -----')\n",
        "    print(f'eval best classifier on devtest...')\n",
        "    devtest_eval = eval(classifier=classifier, eval_dataloader=dataloaders['test'])\n",
        "    print(f'devtest accuracy: {devtest_eval}\\n')\n",
        "\n",
        "\n",
        "    return epoch_losses, train_evals, dev_evals, best_dev_eval, devtest_eval\n"
      ],
      "metadata": {
        "id": "ffgE7WuXpD7s"
      },
      "execution_count": 14,
      "outputs": []
    },
    {
      "cell_type": "markdown",
      "source": [
        "### run experiments"
      ],
      "metadata": {
        "id": "8ecGJCs7xrOE"
      }
    },
    {
      "cell_type": "code",
      "source": [
        "# run 1 epoch of training 5 times with random seeds\n",
        "\n",
        "\n",
        "# specify seeds for each run\n",
        "seeds = [42, 645, 234, 534, 56]\n",
        "\n",
        "# for storing dev and devtest accuracy for each run\n",
        "final_dev_evals = []\n",
        "devtest_evals = []\n",
        "\n",
        "\n",
        "for i, seed in enumerate(seeds):\n",
        "\n",
        "    print(f'======== RUN {i+1} ======== ')\n",
        "\n",
        "    # set random seed: https://pytorch.org/docs/stable/notes/randomness.html\n",
        "    torch.manual_seed(seed)\n",
        "    torch.cuda.manual_seed_all(seed)\n",
        "    torch.backends.cudnn.deterministic = True\n",
        "    torch.backends.cudnn.benchmark = False\n",
        "\n",
        "    # instantiate classifier for current run\n",
        "    classifier = Classifier(\n",
        "        in_size=bert_model.config.hidden_size,\n",
        "        layer_sizes=[classifier_hidden_size, datasets['train'].n_classes],\n",
        "        layer_acts=[nn.ReLU(), nn.Identity()]\n",
        "    ).to(bert_model.device)\n",
        "\n",
        "    # instantiate optimizer for current run\n",
        "    optimizer = torch.optim.Adam(classifier.parameters(), lr=5e-4)\n",
        "\n",
        "    # set loss function\n",
        "    loss_func = nn.CrossEntropyLoss()\n",
        "\n",
        "    # train and eval current classifier\n",
        "    _, _, _, final_dev_eval, devtest_eval = main_process(\n",
        "        classifier=classifier,\n",
        "        name='seed'+str(seed),\n",
        "        optimizer=optimizer,\n",
        "        criterion=loss_func,\n",
        "        dataloaders=dataloaders,\n",
        "        max_epochs=1,\n",
        "        early_stopping=3\n",
        "    )\n",
        "    final_dev_evals.append(final_dev_eval)\n",
        "    devtest_evals.append(devtest_eval)"
      ],
      "metadata": {
        "colab": {
          "base_uri": "https://localhost:8080/"
        },
        "id": "BLB-4UAtAuWI",
        "outputId": "e2c72929-4571-494c-e675-e0aec3ca270c"
      },
      "execution_count": 16,
      "outputs": [
        {
          "output_type": "stream",
          "name": "stdout",
          "text": [
            "======== RUN 1 ======== \n",
            "EPOCH 1\n",
            "----- TRAIN -----\n"
          ]
        },
        {
          "output_type": "stream",
          "name": "stderr",
          "text": [
            "100%|██████████| 313/313 [00:41<00:00,  7.51it/s]\n"
          ]
        },
        {
          "output_type": "stream",
          "name": "stdout",
          "text": [
            "  epoch loss: 533.342753469944\n",
            "----- EVAL -----\n"
          ]
        },
        {
          "output_type": "stream",
          "name": "stderr",
          "text": [
            "100%|██████████| 32/32 [00:03<00:00,  8.21it/s]\n"
          ]
        },
        {
          "output_type": "stream",
          "name": "stdout",
          "text": [
            "  dev accuracy: 0.886\n",
            "  best classifier from epoch 1\n",
            "----- EVAL -----\n",
            "eval best classifier on devtest...\n"
          ]
        },
        {
          "output_type": "stream",
          "name": "stderr",
          "text": [
            "100%|██████████| 32/32 [00:03<00:00,  8.88it/s]\n"
          ]
        },
        {
          "output_type": "stream",
          "name": "stdout",
          "text": [
            "devtest accuracy: 0.878\n",
            "\n",
            "======== RUN 2 ======== \n",
            "EPOCH 1\n",
            "----- TRAIN -----\n"
          ]
        },
        {
          "output_type": "stream",
          "name": "stderr",
          "text": [
            "100%|██████████| 313/313 [00:41<00:00,  7.57it/s]\n"
          ]
        },
        {
          "output_type": "stream",
          "name": "stdout",
          "text": [
            "  epoch loss: 528.4443386793137\n",
            "----- EVAL -----\n"
          ]
        },
        {
          "output_type": "stream",
          "name": "stderr",
          "text": [
            "100%|██████████| 32/32 [00:03<00:00,  8.67it/s]\n"
          ]
        },
        {
          "output_type": "stream",
          "name": "stdout",
          "text": [
            "  dev accuracy: 0.84\n",
            "  best classifier from epoch 1\n",
            "----- EVAL -----\n",
            "eval best classifier on devtest...\n"
          ]
        },
        {
          "output_type": "stream",
          "name": "stderr",
          "text": [
            "100%|██████████| 32/32 [00:03<00:00,  8.77it/s]\n"
          ]
        },
        {
          "output_type": "stream",
          "name": "stdout",
          "text": [
            "devtest accuracy: 0.831\n",
            "\n",
            "======== RUN 3 ======== \n",
            "EPOCH 1\n",
            "----- TRAIN -----\n"
          ]
        },
        {
          "output_type": "stream",
          "name": "stderr",
          "text": [
            "100%|██████████| 313/313 [00:41<00:00,  7.61it/s]\n"
          ]
        },
        {
          "output_type": "stream",
          "name": "stdout",
          "text": [
            "  epoch loss: 541.7327680587769\n",
            "----- EVAL -----\n"
          ]
        },
        {
          "output_type": "stream",
          "name": "stderr",
          "text": [
            "100%|██████████| 32/32 [00:03<00:00,  8.64it/s]\n"
          ]
        },
        {
          "output_type": "stream",
          "name": "stdout",
          "text": [
            "  dev accuracy: 0.777\n",
            "  best classifier from epoch 1\n",
            "----- EVAL -----\n",
            "eval best classifier on devtest...\n"
          ]
        },
        {
          "output_type": "stream",
          "name": "stderr",
          "text": [
            "100%|██████████| 32/32 [00:03<00:00,  8.76it/s]\n"
          ]
        },
        {
          "output_type": "stream",
          "name": "stdout",
          "text": [
            "devtest accuracy: 0.775\n",
            "\n",
            "======== RUN 4 ======== \n",
            "EPOCH 1\n",
            "----- TRAIN -----\n"
          ]
        },
        {
          "output_type": "stream",
          "name": "stderr",
          "text": [
            "100%|██████████| 313/313 [00:41<00:00,  7.59it/s]\n"
          ]
        },
        {
          "output_type": "stream",
          "name": "stdout",
          "text": [
            "  epoch loss: 525.1410391926765\n",
            "----- EVAL -----\n"
          ]
        },
        {
          "output_type": "stream",
          "name": "stderr",
          "text": [
            "100%|██████████| 32/32 [00:03<00:00,  8.76it/s]\n"
          ]
        },
        {
          "output_type": "stream",
          "name": "stdout",
          "text": [
            "  dev accuracy: 0.86\n",
            "  best classifier from epoch 1\n",
            "----- EVAL -----\n",
            "eval best classifier on devtest...\n"
          ]
        },
        {
          "output_type": "stream",
          "name": "stderr",
          "text": [
            "100%|██████████| 32/32 [00:03<00:00,  8.70it/s]\n"
          ]
        },
        {
          "output_type": "stream",
          "name": "stdout",
          "text": [
            "devtest accuracy: 0.864\n",
            "\n",
            "======== RUN 5 ======== \n",
            "EPOCH 1\n",
            "----- TRAIN -----\n"
          ]
        },
        {
          "output_type": "stream",
          "name": "stderr",
          "text": [
            "100%|██████████| 313/313 [00:41<00:00,  7.55it/s]\n"
          ]
        },
        {
          "output_type": "stream",
          "name": "stdout",
          "text": [
            "  epoch loss: 585.637094438076\n",
            "----- EVAL -----\n"
          ]
        },
        {
          "output_type": "stream",
          "name": "stderr",
          "text": [
            "100%|██████████| 32/32 [00:03<00:00,  8.76it/s]\n"
          ]
        },
        {
          "output_type": "stream",
          "name": "stdout",
          "text": [
            "  dev accuracy: 0.805\n",
            "  best classifier from epoch 1\n",
            "----- EVAL -----\n",
            "eval best classifier on devtest...\n"
          ]
        },
        {
          "output_type": "stream",
          "name": "stderr",
          "text": [
            "100%|██████████| 32/32 [00:03<00:00,  8.75it/s]"
          ]
        },
        {
          "output_type": "stream",
          "name": "stdout",
          "text": [
            "devtest accuracy: 0.809\n",
            "\n"
          ]
        },
        {
          "output_type": "stream",
          "name": "stderr",
          "text": [
            "\n"
          ]
        }
      ]
    },
    {
      "cell_type": "code",
      "source": [
        "print(final_dev_evals)\n",
        "print(devtest_evals)"
      ],
      "metadata": {
        "colab": {
          "base_uri": "https://localhost:8080/"
        },
        "id": "QJle6zxB7WIQ",
        "outputId": "5ba1a655-5280-45ce-c30e-e73d18a1c480"
      },
      "execution_count": 17,
      "outputs": [
        {
          "output_type": "stream",
          "name": "stdout",
          "text": [
            "[0.886, 0.84, 0.777, 0.86, 0.805]\n",
            "[0.878, 0.831, 0.775, 0.864, 0.809]\n"
          ]
        }
      ]
    },
    {
      "cell_type": "code",
      "source": [
        "dev_accu_mean = np.mean(final_dev_evals)\n",
        "dev_accu_std = np.std(final_dev_evals)\n",
        "\n",
        "print(\n",
        "f'Across the 5 runs, the mean accuracy on the dev set is {round(dev_accu_mean, 4)}, \\\n",
        "with a standard deviation of {round(dev_accu_std, 4)}. \\\n",
        "\\nThe best-performing classifier (w.r.t. dev set accuracy) has an accuracy of \\\n",
        "{round(devtest_evals[np.argmax(final_dev_evals)], 4)} on the test set.'\n",
        ")"
      ],
      "metadata": {
        "colab": {
          "base_uri": "https://localhost:8080/"
        },
        "id": "nCZgDcZ8veJ-",
        "outputId": "2be07ec9-741b-421a-b41e-fe561e58fdeb"
      },
      "execution_count": 18,
      "outputs": [
        {
          "output_type": "stream",
          "name": "stdout",
          "text": [
            "Across the 5 runs, the mean accuracy on the dev set is 0.8336, with a standard deviation of 0.0387. \n",
            "The best-performing classifier (w.r.t. dev set accuracy) has an accuracy of 0.878 on the test set.\n"
          ]
        }
      ]
    },
    {
      "cell_type": "markdown",
      "source": [
        "## 2. mean-pooling and max-pooling across tokens"
      ],
      "metadata": {
        "id": "PUiLmJnWDD-L"
      }
    },
    {
      "cell_type": "code",
      "source": [],
      "metadata": {
        "id": "64gyG-WbDKk7"
      },
      "execution_count": null,
      "outputs": []
    },
    {
      "cell_type": "code",
      "source": [],
      "metadata": {
        "id": "jxrc1O59-aFu"
      },
      "execution_count": null,
      "outputs": []
    },
    {
      "cell_type": "markdown",
      "source": [
        "## 3. comparing pooling techniques"
      ],
      "metadata": {
        "id": "MYWN39jVDTHz"
      }
    },
    {
      "cell_type": "code",
      "source": [],
      "metadata": {
        "id": "h6zPMlgT-Z9i"
      },
      "execution_count": null,
      "outputs": []
    },
    {
      "cell_type": "markdown",
      "source": [
        "## 4. fine-tuning BERT with [CLS] features"
      ],
      "metadata": {
        "id": "M8D6jqofIFCt"
      }
    },
    {
      "cell_type": "code",
      "source": [
        "# set hyperparameters\n",
        "batch_size = 32\n",
        "classifier_hidden_size = 32\n",
        "\n",
        "# instantiate classifier\n",
        "classifier = Classifier(\n",
        "    bert_model.config.hidden_size,\n",
        "    classifier_hidden_size,\n",
        "    datasets['train'].n_classes\n",
        ").to(bert_model.device)\n",
        "\n",
        "\n",
        "params = list()\n",
        "for name, param in bert_model.named_parameters():\n",
        "    if name.startswith... # 1.3: [CODE] this line is incomplete, you can finish this line by adding the last two layers' parameters to \"params\", or re-write your own code\n",
        "        params.append(param)\n",
        "\n",
        "# instantiate optimizer\n",
        "optimizer = torch.optim.Adam(params + list(classifier.parameters()), lr=5e-4)\n",
        "\n",
        "# set loss\n",
        "loss_func = nn.CrossEntropyLoss()\n",
        "\n",
        "# progress bar\n",
        "pbar = tqdm.tqdm(dataloaders['train'])\n",
        "\n",
        "# Finish your code here for 1.4. You may re-used most of your code for 1.1."
      ],
      "metadata": {
        "id": "RV8KX_vEQUnn"
      },
      "execution_count": null,
      "outputs": []
    },
    {
      "cell_type": "code",
      "source": [],
      "metadata": {
        "id": "qOFP_vUTDZ4q"
      },
      "execution_count": null,
      "outputs": []
    },
    {
      "cell_type": "code",
      "source": [],
      "metadata": {
        "id": "s1V6nijGDZuE"
      },
      "execution_count": null,
      "outputs": []
    },
    {
      "cell_type": "markdown",
      "source": [
        "## 5. GPT-2"
      ],
      "metadata": {
        "id": "Wxf6dTi4DaKi"
      }
    },
    {
      "cell_type": "code",
      "source": [],
      "metadata": {
        "id": "iK_qpUqzDZrO"
      },
      "execution_count": null,
      "outputs": []
    }
  ]
}