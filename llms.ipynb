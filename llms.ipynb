{
  "nbformat": 4,
  "nbformat_minor": 0,
  "metadata": {
    "colab": {
      "provenance": [],
      "toc_visible": true,
      "include_colab_link": true
    },
    "kernelspec": {
      "name": "python3",
      "display_name": "Python 3"
    },
    "language_info": {
      "name": "python"
    },
    "widgets": {
      "application/vnd.jupyter.widget-state+json": {
        "394633ff97094e21928987053dcffcff": {
          "model_module": "@jupyter-widgets/controls",
          "model_name": "HBoxModel",
          "model_module_version": "1.5.0",
          "state": {
            "_dom_classes": [],
            "_model_module": "@jupyter-widgets/controls",
            "_model_module_version": "1.5.0",
            "_model_name": "HBoxModel",
            "_view_count": null,
            "_view_module": "@jupyter-widgets/controls",
            "_view_module_version": "1.5.0",
            "_view_name": "HBoxView",
            "box_style": "",
            "children": [
              "IPY_MODEL_90b64dceac13419581951c5bc2d150bb",
              "IPY_MODEL_8fc26e8d2ac14a17b4d17406e47e533d",
              "IPY_MODEL_7d76a15689d7453a93197301edafe4e4"
            ],
            "layout": "IPY_MODEL_d40e1c09061a4da495e175bd12f5c5d6"
          }
        },
        "90b64dceac13419581951c5bc2d150bb": {
          "model_module": "@jupyter-widgets/controls",
          "model_name": "HTMLModel",
          "model_module_version": "1.5.0",
          "state": {
            "_dom_classes": [],
            "_model_module": "@jupyter-widgets/controls",
            "_model_module_version": "1.5.0",
            "_model_name": "HTMLModel",
            "_view_count": null,
            "_view_module": "@jupyter-widgets/controls",
            "_view_module_version": "1.5.0",
            "_view_name": "HTMLView",
            "description": "",
            "description_tooltip": null,
            "layout": "IPY_MODEL_7148a0ae3696433dac2eafaca0cf3cca",
            "placeholder": "​",
            "style": "IPY_MODEL_bd5350bd8bda4889bfe4c06c41bcb20b",
            "value": "tokenizer_config.json: 100%"
          }
        },
        "8fc26e8d2ac14a17b4d17406e47e533d": {
          "model_module": "@jupyter-widgets/controls",
          "model_name": "FloatProgressModel",
          "model_module_version": "1.5.0",
          "state": {
            "_dom_classes": [],
            "_model_module": "@jupyter-widgets/controls",
            "_model_module_version": "1.5.0",
            "_model_name": "FloatProgressModel",
            "_view_count": null,
            "_view_module": "@jupyter-widgets/controls",
            "_view_module_version": "1.5.0",
            "_view_name": "ProgressView",
            "bar_style": "success",
            "description": "",
            "description_tooltip": null,
            "layout": "IPY_MODEL_fa262a7609a041a696e202428e398bc8",
            "max": 29,
            "min": 0,
            "orientation": "horizontal",
            "style": "IPY_MODEL_bbcf6788e2754bc4bfa225b124d6147c",
            "value": 29
          }
        },
        "7d76a15689d7453a93197301edafe4e4": {
          "model_module": "@jupyter-widgets/controls",
          "model_name": "HTMLModel",
          "model_module_version": "1.5.0",
          "state": {
            "_dom_classes": [],
            "_model_module": "@jupyter-widgets/controls",
            "_model_module_version": "1.5.0",
            "_model_name": "HTMLModel",
            "_view_count": null,
            "_view_module": "@jupyter-widgets/controls",
            "_view_module_version": "1.5.0",
            "_view_name": "HTMLView",
            "description": "",
            "description_tooltip": null,
            "layout": "IPY_MODEL_8d8f73a49ef349cd878e20d422b57ec1",
            "placeholder": "​",
            "style": "IPY_MODEL_109fbde2aaaa4c29b6b8a3658a7de536",
            "value": " 29.0/29.0 [00:00&lt;00:00, 578B/s]"
          }
        },
        "d40e1c09061a4da495e175bd12f5c5d6": {
          "model_module": "@jupyter-widgets/base",
          "model_name": "LayoutModel",
          "model_module_version": "1.2.0",
          "state": {
            "_model_module": "@jupyter-widgets/base",
            "_model_module_version": "1.2.0",
            "_model_name": "LayoutModel",
            "_view_count": null,
            "_view_module": "@jupyter-widgets/base",
            "_view_module_version": "1.2.0",
            "_view_name": "LayoutView",
            "align_content": null,
            "align_items": null,
            "align_self": null,
            "border": null,
            "bottom": null,
            "display": null,
            "flex": null,
            "flex_flow": null,
            "grid_area": null,
            "grid_auto_columns": null,
            "grid_auto_flow": null,
            "grid_auto_rows": null,
            "grid_column": null,
            "grid_gap": null,
            "grid_row": null,
            "grid_template_areas": null,
            "grid_template_columns": null,
            "grid_template_rows": null,
            "height": null,
            "justify_content": null,
            "justify_items": null,
            "left": null,
            "margin": null,
            "max_height": null,
            "max_width": null,
            "min_height": null,
            "min_width": null,
            "object_fit": null,
            "object_position": null,
            "order": null,
            "overflow": null,
            "overflow_x": null,
            "overflow_y": null,
            "padding": null,
            "right": null,
            "top": null,
            "visibility": null,
            "width": null
          }
        },
        "7148a0ae3696433dac2eafaca0cf3cca": {
          "model_module": "@jupyter-widgets/base",
          "model_name": "LayoutModel",
          "model_module_version": "1.2.0",
          "state": {
            "_model_module": "@jupyter-widgets/base",
            "_model_module_version": "1.2.0",
            "_model_name": "LayoutModel",
            "_view_count": null,
            "_view_module": "@jupyter-widgets/base",
            "_view_module_version": "1.2.0",
            "_view_name": "LayoutView",
            "align_content": null,
            "align_items": null,
            "align_self": null,
            "border": null,
            "bottom": null,
            "display": null,
            "flex": null,
            "flex_flow": null,
            "grid_area": null,
            "grid_auto_columns": null,
            "grid_auto_flow": null,
            "grid_auto_rows": null,
            "grid_column": null,
            "grid_gap": null,
            "grid_row": null,
            "grid_template_areas": null,
            "grid_template_columns": null,
            "grid_template_rows": null,
            "height": null,
            "justify_content": null,
            "justify_items": null,
            "left": null,
            "margin": null,
            "max_height": null,
            "max_width": null,
            "min_height": null,
            "min_width": null,
            "object_fit": null,
            "object_position": null,
            "order": null,
            "overflow": null,
            "overflow_x": null,
            "overflow_y": null,
            "padding": null,
            "right": null,
            "top": null,
            "visibility": null,
            "width": null
          }
        },
        "bd5350bd8bda4889bfe4c06c41bcb20b": {
          "model_module": "@jupyter-widgets/controls",
          "model_name": "DescriptionStyleModel",
          "model_module_version": "1.5.0",
          "state": {
            "_model_module": "@jupyter-widgets/controls",
            "_model_module_version": "1.5.0",
            "_model_name": "DescriptionStyleModel",
            "_view_count": null,
            "_view_module": "@jupyter-widgets/base",
            "_view_module_version": "1.2.0",
            "_view_name": "StyleView",
            "description_width": ""
          }
        },
        "fa262a7609a041a696e202428e398bc8": {
          "model_module": "@jupyter-widgets/base",
          "model_name": "LayoutModel",
          "model_module_version": "1.2.0",
          "state": {
            "_model_module": "@jupyter-widgets/base",
            "_model_module_version": "1.2.0",
            "_model_name": "LayoutModel",
            "_view_count": null,
            "_view_module": "@jupyter-widgets/base",
            "_view_module_version": "1.2.0",
            "_view_name": "LayoutView",
            "align_content": null,
            "align_items": null,
            "align_self": null,
            "border": null,
            "bottom": null,
            "display": null,
            "flex": null,
            "flex_flow": null,
            "grid_area": null,
            "grid_auto_columns": null,
            "grid_auto_flow": null,
            "grid_auto_rows": null,
            "grid_column": null,
            "grid_gap": null,
            "grid_row": null,
            "grid_template_areas": null,
            "grid_template_columns": null,
            "grid_template_rows": null,
            "height": null,
            "justify_content": null,
            "justify_items": null,
            "left": null,
            "margin": null,
            "max_height": null,
            "max_width": null,
            "min_height": null,
            "min_width": null,
            "object_fit": null,
            "object_position": null,
            "order": null,
            "overflow": null,
            "overflow_x": null,
            "overflow_y": null,
            "padding": null,
            "right": null,
            "top": null,
            "visibility": null,
            "width": null
          }
        },
        "bbcf6788e2754bc4bfa225b124d6147c": {
          "model_module": "@jupyter-widgets/controls",
          "model_name": "ProgressStyleModel",
          "model_module_version": "1.5.0",
          "state": {
            "_model_module": "@jupyter-widgets/controls",
            "_model_module_version": "1.5.0",
            "_model_name": "ProgressStyleModel",
            "_view_count": null,
            "_view_module": "@jupyter-widgets/base",
            "_view_module_version": "1.2.0",
            "_view_name": "StyleView",
            "bar_color": null,
            "description_width": ""
          }
        },
        "8d8f73a49ef349cd878e20d422b57ec1": {
          "model_module": "@jupyter-widgets/base",
          "model_name": "LayoutModel",
          "model_module_version": "1.2.0",
          "state": {
            "_model_module": "@jupyter-widgets/base",
            "_model_module_version": "1.2.0",
            "_model_name": "LayoutModel",
            "_view_count": null,
            "_view_module": "@jupyter-widgets/base",
            "_view_module_version": "1.2.0",
            "_view_name": "LayoutView",
            "align_content": null,
            "align_items": null,
            "align_self": null,
            "border": null,
            "bottom": null,
            "display": null,
            "flex": null,
            "flex_flow": null,
            "grid_area": null,
            "grid_auto_columns": null,
            "grid_auto_flow": null,
            "grid_auto_rows": null,
            "grid_column": null,
            "grid_gap": null,
            "grid_row": null,
            "grid_template_areas": null,
            "grid_template_columns": null,
            "grid_template_rows": null,
            "height": null,
            "justify_content": null,
            "justify_items": null,
            "left": null,
            "margin": null,
            "max_height": null,
            "max_width": null,
            "min_height": null,
            "min_width": null,
            "object_fit": null,
            "object_position": null,
            "order": null,
            "overflow": null,
            "overflow_x": null,
            "overflow_y": null,
            "padding": null,
            "right": null,
            "top": null,
            "visibility": null,
            "width": null
          }
        },
        "109fbde2aaaa4c29b6b8a3658a7de536": {
          "model_module": "@jupyter-widgets/controls",
          "model_name": "DescriptionStyleModel",
          "model_module_version": "1.5.0",
          "state": {
            "_model_module": "@jupyter-widgets/controls",
            "_model_module_version": "1.5.0",
            "_model_name": "DescriptionStyleModel",
            "_view_count": null,
            "_view_module": "@jupyter-widgets/base",
            "_view_module_version": "1.2.0",
            "_view_name": "StyleView",
            "description_width": ""
          }
        },
        "d3ace210c7b541e1b111899275c4541a": {
          "model_module": "@jupyter-widgets/controls",
          "model_name": "HBoxModel",
          "model_module_version": "1.5.0",
          "state": {
            "_dom_classes": [],
            "_model_module": "@jupyter-widgets/controls",
            "_model_module_version": "1.5.0",
            "_model_name": "HBoxModel",
            "_view_count": null,
            "_view_module": "@jupyter-widgets/controls",
            "_view_module_version": "1.5.0",
            "_view_name": "HBoxView",
            "box_style": "",
            "children": [
              "IPY_MODEL_1685c3a99ed04872aa7af377b347eb73",
              "IPY_MODEL_6eb7e24f1da24551b36435aadd8ca94b",
              "IPY_MODEL_8d2ffe3c8dbc43b98a618815cfb34a44"
            ],
            "layout": "IPY_MODEL_004054edc980437f94db2fdae4d5d950"
          }
        },
        "1685c3a99ed04872aa7af377b347eb73": {
          "model_module": "@jupyter-widgets/controls",
          "model_name": "HTMLModel",
          "model_module_version": "1.5.0",
          "state": {
            "_dom_classes": [],
            "_model_module": "@jupyter-widgets/controls",
            "_model_module_version": "1.5.0",
            "_model_name": "HTMLModel",
            "_view_count": null,
            "_view_module": "@jupyter-widgets/controls",
            "_view_module_version": "1.5.0",
            "_view_name": "HTMLView",
            "description": "",
            "description_tooltip": null,
            "layout": "IPY_MODEL_3772c04f19a041eb92a50d72fd2060dc",
            "placeholder": "​",
            "style": "IPY_MODEL_fbeed5eda8b948028a1ab5f774eeb7bb",
            "value": "config.json: 100%"
          }
        },
        "6eb7e24f1da24551b36435aadd8ca94b": {
          "model_module": "@jupyter-widgets/controls",
          "model_name": "FloatProgressModel",
          "model_module_version": "1.5.0",
          "state": {
            "_dom_classes": [],
            "_model_module": "@jupyter-widgets/controls",
            "_model_module_version": "1.5.0",
            "_model_name": "FloatProgressModel",
            "_view_count": null,
            "_view_module": "@jupyter-widgets/controls",
            "_view_module_version": "1.5.0",
            "_view_name": "ProgressView",
            "bar_style": "success",
            "description": "",
            "description_tooltip": null,
            "layout": "IPY_MODEL_cc52449d5f5b4bc393c728a5e7609b3c",
            "max": 570,
            "min": 0,
            "orientation": "horizontal",
            "style": "IPY_MODEL_228464d75b314bc9bc799af046c76328",
            "value": 570
          }
        },
        "8d2ffe3c8dbc43b98a618815cfb34a44": {
          "model_module": "@jupyter-widgets/controls",
          "model_name": "HTMLModel",
          "model_module_version": "1.5.0",
          "state": {
            "_dom_classes": [],
            "_model_module": "@jupyter-widgets/controls",
            "_model_module_version": "1.5.0",
            "_model_name": "HTMLModel",
            "_view_count": null,
            "_view_module": "@jupyter-widgets/controls",
            "_view_module_version": "1.5.0",
            "_view_name": "HTMLView",
            "description": "",
            "description_tooltip": null,
            "layout": "IPY_MODEL_cc74c69409224cc0821f6cc6bf133ac6",
            "placeholder": "​",
            "style": "IPY_MODEL_f39af4bf7c5a45ce8d1f50fdf53761cc",
            "value": " 570/570 [00:00&lt;00:00, 9.95kB/s]"
          }
        },
        "004054edc980437f94db2fdae4d5d950": {
          "model_module": "@jupyter-widgets/base",
          "model_name": "LayoutModel",
          "model_module_version": "1.2.0",
          "state": {
            "_model_module": "@jupyter-widgets/base",
            "_model_module_version": "1.2.0",
            "_model_name": "LayoutModel",
            "_view_count": null,
            "_view_module": "@jupyter-widgets/base",
            "_view_module_version": "1.2.0",
            "_view_name": "LayoutView",
            "align_content": null,
            "align_items": null,
            "align_self": null,
            "border": null,
            "bottom": null,
            "display": null,
            "flex": null,
            "flex_flow": null,
            "grid_area": null,
            "grid_auto_columns": null,
            "grid_auto_flow": null,
            "grid_auto_rows": null,
            "grid_column": null,
            "grid_gap": null,
            "grid_row": null,
            "grid_template_areas": null,
            "grid_template_columns": null,
            "grid_template_rows": null,
            "height": null,
            "justify_content": null,
            "justify_items": null,
            "left": null,
            "margin": null,
            "max_height": null,
            "max_width": null,
            "min_height": null,
            "min_width": null,
            "object_fit": null,
            "object_position": null,
            "order": null,
            "overflow": null,
            "overflow_x": null,
            "overflow_y": null,
            "padding": null,
            "right": null,
            "top": null,
            "visibility": null,
            "width": null
          }
        },
        "3772c04f19a041eb92a50d72fd2060dc": {
          "model_module": "@jupyter-widgets/base",
          "model_name": "LayoutModel",
          "model_module_version": "1.2.0",
          "state": {
            "_model_module": "@jupyter-widgets/base",
            "_model_module_version": "1.2.0",
            "_model_name": "LayoutModel",
            "_view_count": null,
            "_view_module": "@jupyter-widgets/base",
            "_view_module_version": "1.2.0",
            "_view_name": "LayoutView",
            "align_content": null,
            "align_items": null,
            "align_self": null,
            "border": null,
            "bottom": null,
            "display": null,
            "flex": null,
            "flex_flow": null,
            "grid_area": null,
            "grid_auto_columns": null,
            "grid_auto_flow": null,
            "grid_auto_rows": null,
            "grid_column": null,
            "grid_gap": null,
            "grid_row": null,
            "grid_template_areas": null,
            "grid_template_columns": null,
            "grid_template_rows": null,
            "height": null,
            "justify_content": null,
            "justify_items": null,
            "left": null,
            "margin": null,
            "max_height": null,
            "max_width": null,
            "min_height": null,
            "min_width": null,
            "object_fit": null,
            "object_position": null,
            "order": null,
            "overflow": null,
            "overflow_x": null,
            "overflow_y": null,
            "padding": null,
            "right": null,
            "top": null,
            "visibility": null,
            "width": null
          }
        },
        "fbeed5eda8b948028a1ab5f774eeb7bb": {
          "model_module": "@jupyter-widgets/controls",
          "model_name": "DescriptionStyleModel",
          "model_module_version": "1.5.0",
          "state": {
            "_model_module": "@jupyter-widgets/controls",
            "_model_module_version": "1.5.0",
            "_model_name": "DescriptionStyleModel",
            "_view_count": null,
            "_view_module": "@jupyter-widgets/base",
            "_view_module_version": "1.2.0",
            "_view_name": "StyleView",
            "description_width": ""
          }
        },
        "cc52449d5f5b4bc393c728a5e7609b3c": {
          "model_module": "@jupyter-widgets/base",
          "model_name": "LayoutModel",
          "model_module_version": "1.2.0",
          "state": {
            "_model_module": "@jupyter-widgets/base",
            "_model_module_version": "1.2.0",
            "_model_name": "LayoutModel",
            "_view_count": null,
            "_view_module": "@jupyter-widgets/base",
            "_view_module_version": "1.2.0",
            "_view_name": "LayoutView",
            "align_content": null,
            "align_items": null,
            "align_self": null,
            "border": null,
            "bottom": null,
            "display": null,
            "flex": null,
            "flex_flow": null,
            "grid_area": null,
            "grid_auto_columns": null,
            "grid_auto_flow": null,
            "grid_auto_rows": null,
            "grid_column": null,
            "grid_gap": null,
            "grid_row": null,
            "grid_template_areas": null,
            "grid_template_columns": null,
            "grid_template_rows": null,
            "height": null,
            "justify_content": null,
            "justify_items": null,
            "left": null,
            "margin": null,
            "max_height": null,
            "max_width": null,
            "min_height": null,
            "min_width": null,
            "object_fit": null,
            "object_position": null,
            "order": null,
            "overflow": null,
            "overflow_x": null,
            "overflow_y": null,
            "padding": null,
            "right": null,
            "top": null,
            "visibility": null,
            "width": null
          }
        },
        "228464d75b314bc9bc799af046c76328": {
          "model_module": "@jupyter-widgets/controls",
          "model_name": "ProgressStyleModel",
          "model_module_version": "1.5.0",
          "state": {
            "_model_module": "@jupyter-widgets/controls",
            "_model_module_version": "1.5.0",
            "_model_name": "ProgressStyleModel",
            "_view_count": null,
            "_view_module": "@jupyter-widgets/base",
            "_view_module_version": "1.2.0",
            "_view_name": "StyleView",
            "bar_color": null,
            "description_width": ""
          }
        },
        "cc74c69409224cc0821f6cc6bf133ac6": {
          "model_module": "@jupyter-widgets/base",
          "model_name": "LayoutModel",
          "model_module_version": "1.2.0",
          "state": {
            "_model_module": "@jupyter-widgets/base",
            "_model_module_version": "1.2.0",
            "_model_name": "LayoutModel",
            "_view_count": null,
            "_view_module": "@jupyter-widgets/base",
            "_view_module_version": "1.2.0",
            "_view_name": "LayoutView",
            "align_content": null,
            "align_items": null,
            "align_self": null,
            "border": null,
            "bottom": null,
            "display": null,
            "flex": null,
            "flex_flow": null,
            "grid_area": null,
            "grid_auto_columns": null,
            "grid_auto_flow": null,
            "grid_auto_rows": null,
            "grid_column": null,
            "grid_gap": null,
            "grid_row": null,
            "grid_template_areas": null,
            "grid_template_columns": null,
            "grid_template_rows": null,
            "height": null,
            "justify_content": null,
            "justify_items": null,
            "left": null,
            "margin": null,
            "max_height": null,
            "max_width": null,
            "min_height": null,
            "min_width": null,
            "object_fit": null,
            "object_position": null,
            "order": null,
            "overflow": null,
            "overflow_x": null,
            "overflow_y": null,
            "padding": null,
            "right": null,
            "top": null,
            "visibility": null,
            "width": null
          }
        },
        "f39af4bf7c5a45ce8d1f50fdf53761cc": {
          "model_module": "@jupyter-widgets/controls",
          "model_name": "DescriptionStyleModel",
          "model_module_version": "1.5.0",
          "state": {
            "_model_module": "@jupyter-widgets/controls",
            "_model_module_version": "1.5.0",
            "_model_name": "DescriptionStyleModel",
            "_view_count": null,
            "_view_module": "@jupyter-widgets/base",
            "_view_module_version": "1.2.0",
            "_view_name": "StyleView",
            "description_width": ""
          }
        },
        "c1a9fc8155ba400fb97e5e0da6e6682a": {
          "model_module": "@jupyter-widgets/controls",
          "model_name": "HBoxModel",
          "model_module_version": "1.5.0",
          "state": {
            "_dom_classes": [],
            "_model_module": "@jupyter-widgets/controls",
            "_model_module_version": "1.5.0",
            "_model_name": "HBoxModel",
            "_view_count": null,
            "_view_module": "@jupyter-widgets/controls",
            "_view_module_version": "1.5.0",
            "_view_name": "HBoxView",
            "box_style": "",
            "children": [
              "IPY_MODEL_11d0836aa0624c29952f647ea0a29881",
              "IPY_MODEL_25a546c3eba54ee9a8cf4e524ab6c9e5",
              "IPY_MODEL_593e772b7f594086afb5e4c52ef614e4"
            ],
            "layout": "IPY_MODEL_4ea54dbdfc5f448fb367adb512bcacd0"
          }
        },
        "11d0836aa0624c29952f647ea0a29881": {
          "model_module": "@jupyter-widgets/controls",
          "model_name": "HTMLModel",
          "model_module_version": "1.5.0",
          "state": {
            "_dom_classes": [],
            "_model_module": "@jupyter-widgets/controls",
            "_model_module_version": "1.5.0",
            "_model_name": "HTMLModel",
            "_view_count": null,
            "_view_module": "@jupyter-widgets/controls",
            "_view_module_version": "1.5.0",
            "_view_name": "HTMLView",
            "description": "",
            "description_tooltip": null,
            "layout": "IPY_MODEL_e00f10a19d774cd6b0598e79be0691bb",
            "placeholder": "​",
            "style": "IPY_MODEL_4b43eaafa0764f9bb6832dfbea1e351b",
            "value": "vocab.txt: 100%"
          }
        },
        "25a546c3eba54ee9a8cf4e524ab6c9e5": {
          "model_module": "@jupyter-widgets/controls",
          "model_name": "FloatProgressModel",
          "model_module_version": "1.5.0",
          "state": {
            "_dom_classes": [],
            "_model_module": "@jupyter-widgets/controls",
            "_model_module_version": "1.5.0",
            "_model_name": "FloatProgressModel",
            "_view_count": null,
            "_view_module": "@jupyter-widgets/controls",
            "_view_module_version": "1.5.0",
            "_view_name": "ProgressView",
            "bar_style": "success",
            "description": "",
            "description_tooltip": null,
            "layout": "IPY_MODEL_f5dc72ff182d4ce4b97c2a404a4c28de",
            "max": 213450,
            "min": 0,
            "orientation": "horizontal",
            "style": "IPY_MODEL_01ce5279db2a40259ae61b731f9f2a23",
            "value": 213450
          }
        },
        "593e772b7f594086afb5e4c52ef614e4": {
          "model_module": "@jupyter-widgets/controls",
          "model_name": "HTMLModel",
          "model_module_version": "1.5.0",
          "state": {
            "_dom_classes": [],
            "_model_module": "@jupyter-widgets/controls",
            "_model_module_version": "1.5.0",
            "_model_name": "HTMLModel",
            "_view_count": null,
            "_view_module": "@jupyter-widgets/controls",
            "_view_module_version": "1.5.0",
            "_view_name": "HTMLView",
            "description": "",
            "description_tooltip": null,
            "layout": "IPY_MODEL_fc6953395cb44eb3992580cf3b5a0b9c",
            "placeholder": "​",
            "style": "IPY_MODEL_b9d94322560347d2b5c0141d6ad7e68c",
            "value": " 213k/213k [00:00&lt;00:00, 1.80MB/s]"
          }
        },
        "4ea54dbdfc5f448fb367adb512bcacd0": {
          "model_module": "@jupyter-widgets/base",
          "model_name": "LayoutModel",
          "model_module_version": "1.2.0",
          "state": {
            "_model_module": "@jupyter-widgets/base",
            "_model_module_version": "1.2.0",
            "_model_name": "LayoutModel",
            "_view_count": null,
            "_view_module": "@jupyter-widgets/base",
            "_view_module_version": "1.2.0",
            "_view_name": "LayoutView",
            "align_content": null,
            "align_items": null,
            "align_self": null,
            "border": null,
            "bottom": null,
            "display": null,
            "flex": null,
            "flex_flow": null,
            "grid_area": null,
            "grid_auto_columns": null,
            "grid_auto_flow": null,
            "grid_auto_rows": null,
            "grid_column": null,
            "grid_gap": null,
            "grid_row": null,
            "grid_template_areas": null,
            "grid_template_columns": null,
            "grid_template_rows": null,
            "height": null,
            "justify_content": null,
            "justify_items": null,
            "left": null,
            "margin": null,
            "max_height": null,
            "max_width": null,
            "min_height": null,
            "min_width": null,
            "object_fit": null,
            "object_position": null,
            "order": null,
            "overflow": null,
            "overflow_x": null,
            "overflow_y": null,
            "padding": null,
            "right": null,
            "top": null,
            "visibility": null,
            "width": null
          }
        },
        "e00f10a19d774cd6b0598e79be0691bb": {
          "model_module": "@jupyter-widgets/base",
          "model_name": "LayoutModel",
          "model_module_version": "1.2.0",
          "state": {
            "_model_module": "@jupyter-widgets/base",
            "_model_module_version": "1.2.0",
            "_model_name": "LayoutModel",
            "_view_count": null,
            "_view_module": "@jupyter-widgets/base",
            "_view_module_version": "1.2.0",
            "_view_name": "LayoutView",
            "align_content": null,
            "align_items": null,
            "align_self": null,
            "border": null,
            "bottom": null,
            "display": null,
            "flex": null,
            "flex_flow": null,
            "grid_area": null,
            "grid_auto_columns": null,
            "grid_auto_flow": null,
            "grid_auto_rows": null,
            "grid_column": null,
            "grid_gap": null,
            "grid_row": null,
            "grid_template_areas": null,
            "grid_template_columns": null,
            "grid_template_rows": null,
            "height": null,
            "justify_content": null,
            "justify_items": null,
            "left": null,
            "margin": null,
            "max_height": null,
            "max_width": null,
            "min_height": null,
            "min_width": null,
            "object_fit": null,
            "object_position": null,
            "order": null,
            "overflow": null,
            "overflow_x": null,
            "overflow_y": null,
            "padding": null,
            "right": null,
            "top": null,
            "visibility": null,
            "width": null
          }
        },
        "4b43eaafa0764f9bb6832dfbea1e351b": {
          "model_module": "@jupyter-widgets/controls",
          "model_name": "DescriptionStyleModel",
          "model_module_version": "1.5.0",
          "state": {
            "_model_module": "@jupyter-widgets/controls",
            "_model_module_version": "1.5.0",
            "_model_name": "DescriptionStyleModel",
            "_view_count": null,
            "_view_module": "@jupyter-widgets/base",
            "_view_module_version": "1.2.0",
            "_view_name": "StyleView",
            "description_width": ""
          }
        },
        "f5dc72ff182d4ce4b97c2a404a4c28de": {
          "model_module": "@jupyter-widgets/base",
          "model_name": "LayoutModel",
          "model_module_version": "1.2.0",
          "state": {
            "_model_module": "@jupyter-widgets/base",
            "_model_module_version": "1.2.0",
            "_model_name": "LayoutModel",
            "_view_count": null,
            "_view_module": "@jupyter-widgets/base",
            "_view_module_version": "1.2.0",
            "_view_name": "LayoutView",
            "align_content": null,
            "align_items": null,
            "align_self": null,
            "border": null,
            "bottom": null,
            "display": null,
            "flex": null,
            "flex_flow": null,
            "grid_area": null,
            "grid_auto_columns": null,
            "grid_auto_flow": null,
            "grid_auto_rows": null,
            "grid_column": null,
            "grid_gap": null,
            "grid_row": null,
            "grid_template_areas": null,
            "grid_template_columns": null,
            "grid_template_rows": null,
            "height": null,
            "justify_content": null,
            "justify_items": null,
            "left": null,
            "margin": null,
            "max_height": null,
            "max_width": null,
            "min_height": null,
            "min_width": null,
            "object_fit": null,
            "object_position": null,
            "order": null,
            "overflow": null,
            "overflow_x": null,
            "overflow_y": null,
            "padding": null,
            "right": null,
            "top": null,
            "visibility": null,
            "width": null
          }
        },
        "01ce5279db2a40259ae61b731f9f2a23": {
          "model_module": "@jupyter-widgets/controls",
          "model_name": "ProgressStyleModel",
          "model_module_version": "1.5.0",
          "state": {
            "_model_module": "@jupyter-widgets/controls",
            "_model_module_version": "1.5.0",
            "_model_name": "ProgressStyleModel",
            "_view_count": null,
            "_view_module": "@jupyter-widgets/base",
            "_view_module_version": "1.2.0",
            "_view_name": "StyleView",
            "bar_color": null,
            "description_width": ""
          }
        },
        "fc6953395cb44eb3992580cf3b5a0b9c": {
          "model_module": "@jupyter-widgets/base",
          "model_name": "LayoutModel",
          "model_module_version": "1.2.0",
          "state": {
            "_model_module": "@jupyter-widgets/base",
            "_model_module_version": "1.2.0",
            "_model_name": "LayoutModel",
            "_view_count": null,
            "_view_module": "@jupyter-widgets/base",
            "_view_module_version": "1.2.0",
            "_view_name": "LayoutView",
            "align_content": null,
            "align_items": null,
            "align_self": null,
            "border": null,
            "bottom": null,
            "display": null,
            "flex": null,
            "flex_flow": null,
            "grid_area": null,
            "grid_auto_columns": null,
            "grid_auto_flow": null,
            "grid_auto_rows": null,
            "grid_column": null,
            "grid_gap": null,
            "grid_row": null,
            "grid_template_areas": null,
            "grid_template_columns": null,
            "grid_template_rows": null,
            "height": null,
            "justify_content": null,
            "justify_items": null,
            "left": null,
            "margin": null,
            "max_height": null,
            "max_width": null,
            "min_height": null,
            "min_width": null,
            "object_fit": null,
            "object_position": null,
            "order": null,
            "overflow": null,
            "overflow_x": null,
            "overflow_y": null,
            "padding": null,
            "right": null,
            "top": null,
            "visibility": null,
            "width": null
          }
        },
        "b9d94322560347d2b5c0141d6ad7e68c": {
          "model_module": "@jupyter-widgets/controls",
          "model_name": "DescriptionStyleModel",
          "model_module_version": "1.5.0",
          "state": {
            "_model_module": "@jupyter-widgets/controls",
            "_model_module_version": "1.5.0",
            "_model_name": "DescriptionStyleModel",
            "_view_count": null,
            "_view_module": "@jupyter-widgets/base",
            "_view_module_version": "1.2.0",
            "_view_name": "StyleView",
            "description_width": ""
          }
        },
        "ee5307a453d140b6b6c43ce73624857a": {
          "model_module": "@jupyter-widgets/controls",
          "model_name": "HBoxModel",
          "model_module_version": "1.5.0",
          "state": {
            "_dom_classes": [],
            "_model_module": "@jupyter-widgets/controls",
            "_model_module_version": "1.5.0",
            "_model_name": "HBoxModel",
            "_view_count": null,
            "_view_module": "@jupyter-widgets/controls",
            "_view_module_version": "1.5.0",
            "_view_name": "HBoxView",
            "box_style": "",
            "children": [
              "IPY_MODEL_9706813f253c486aab7816d6b8d6fc7a",
              "IPY_MODEL_441fe54f297d459f98aeed89ea7fe26a",
              "IPY_MODEL_28d6049e12264bb0a77917ce8a43de39"
            ],
            "layout": "IPY_MODEL_aeaf2db13c6f473ea6a52a71a0672688"
          }
        },
        "9706813f253c486aab7816d6b8d6fc7a": {
          "model_module": "@jupyter-widgets/controls",
          "model_name": "HTMLModel",
          "model_module_version": "1.5.0",
          "state": {
            "_dom_classes": [],
            "_model_module": "@jupyter-widgets/controls",
            "_model_module_version": "1.5.0",
            "_model_name": "HTMLModel",
            "_view_count": null,
            "_view_module": "@jupyter-widgets/controls",
            "_view_module_version": "1.5.0",
            "_view_name": "HTMLView",
            "description": "",
            "description_tooltip": null,
            "layout": "IPY_MODEL_99bb55bcd03546f1846a31b422290aef",
            "placeholder": "​",
            "style": "IPY_MODEL_6670669b409d4af1b912c2178b13d314",
            "value": "tokenizer.json: 100%"
          }
        },
        "441fe54f297d459f98aeed89ea7fe26a": {
          "model_module": "@jupyter-widgets/controls",
          "model_name": "FloatProgressModel",
          "model_module_version": "1.5.0",
          "state": {
            "_dom_classes": [],
            "_model_module": "@jupyter-widgets/controls",
            "_model_module_version": "1.5.0",
            "_model_name": "FloatProgressModel",
            "_view_count": null,
            "_view_module": "@jupyter-widgets/controls",
            "_view_module_version": "1.5.0",
            "_view_name": "ProgressView",
            "bar_style": "success",
            "description": "",
            "description_tooltip": null,
            "layout": "IPY_MODEL_00c9598413e64ee79ccfbc1566a77b2c",
            "max": 435797,
            "min": 0,
            "orientation": "horizontal",
            "style": "IPY_MODEL_28c360e598994524bffbd5917bfbd136",
            "value": 435797
          }
        },
        "28d6049e12264bb0a77917ce8a43de39": {
          "model_module": "@jupyter-widgets/controls",
          "model_name": "HTMLModel",
          "model_module_version": "1.5.0",
          "state": {
            "_dom_classes": [],
            "_model_module": "@jupyter-widgets/controls",
            "_model_module_version": "1.5.0",
            "_model_name": "HTMLModel",
            "_view_count": null,
            "_view_module": "@jupyter-widgets/controls",
            "_view_module_version": "1.5.0",
            "_view_name": "HTMLView",
            "description": "",
            "description_tooltip": null,
            "layout": "IPY_MODEL_11afcc6d4f0340afb69b395791c2cce3",
            "placeholder": "​",
            "style": "IPY_MODEL_9d8bcc071bdc4851b4ec540e5bc68a0c",
            "value": " 436k/436k [00:00&lt;00:00, 3.26MB/s]"
          }
        },
        "aeaf2db13c6f473ea6a52a71a0672688": {
          "model_module": "@jupyter-widgets/base",
          "model_name": "LayoutModel",
          "model_module_version": "1.2.0",
          "state": {
            "_model_module": "@jupyter-widgets/base",
            "_model_module_version": "1.2.0",
            "_model_name": "LayoutModel",
            "_view_count": null,
            "_view_module": "@jupyter-widgets/base",
            "_view_module_version": "1.2.0",
            "_view_name": "LayoutView",
            "align_content": null,
            "align_items": null,
            "align_self": null,
            "border": null,
            "bottom": null,
            "display": null,
            "flex": null,
            "flex_flow": null,
            "grid_area": null,
            "grid_auto_columns": null,
            "grid_auto_flow": null,
            "grid_auto_rows": null,
            "grid_column": null,
            "grid_gap": null,
            "grid_row": null,
            "grid_template_areas": null,
            "grid_template_columns": null,
            "grid_template_rows": null,
            "height": null,
            "justify_content": null,
            "justify_items": null,
            "left": null,
            "margin": null,
            "max_height": null,
            "max_width": null,
            "min_height": null,
            "min_width": null,
            "object_fit": null,
            "object_position": null,
            "order": null,
            "overflow": null,
            "overflow_x": null,
            "overflow_y": null,
            "padding": null,
            "right": null,
            "top": null,
            "visibility": null,
            "width": null
          }
        },
        "99bb55bcd03546f1846a31b422290aef": {
          "model_module": "@jupyter-widgets/base",
          "model_name": "LayoutModel",
          "model_module_version": "1.2.0",
          "state": {
            "_model_module": "@jupyter-widgets/base",
            "_model_module_version": "1.2.0",
            "_model_name": "LayoutModel",
            "_view_count": null,
            "_view_module": "@jupyter-widgets/base",
            "_view_module_version": "1.2.0",
            "_view_name": "LayoutView",
            "align_content": null,
            "align_items": null,
            "align_self": null,
            "border": null,
            "bottom": null,
            "display": null,
            "flex": null,
            "flex_flow": null,
            "grid_area": null,
            "grid_auto_columns": null,
            "grid_auto_flow": null,
            "grid_auto_rows": null,
            "grid_column": null,
            "grid_gap": null,
            "grid_row": null,
            "grid_template_areas": null,
            "grid_template_columns": null,
            "grid_template_rows": null,
            "height": null,
            "justify_content": null,
            "justify_items": null,
            "left": null,
            "margin": null,
            "max_height": null,
            "max_width": null,
            "min_height": null,
            "min_width": null,
            "object_fit": null,
            "object_position": null,
            "order": null,
            "overflow": null,
            "overflow_x": null,
            "overflow_y": null,
            "padding": null,
            "right": null,
            "top": null,
            "visibility": null,
            "width": null
          }
        },
        "6670669b409d4af1b912c2178b13d314": {
          "model_module": "@jupyter-widgets/controls",
          "model_name": "DescriptionStyleModel",
          "model_module_version": "1.5.0",
          "state": {
            "_model_module": "@jupyter-widgets/controls",
            "_model_module_version": "1.5.0",
            "_model_name": "DescriptionStyleModel",
            "_view_count": null,
            "_view_module": "@jupyter-widgets/base",
            "_view_module_version": "1.2.0",
            "_view_name": "StyleView",
            "description_width": ""
          }
        },
        "00c9598413e64ee79ccfbc1566a77b2c": {
          "model_module": "@jupyter-widgets/base",
          "model_name": "LayoutModel",
          "model_module_version": "1.2.0",
          "state": {
            "_model_module": "@jupyter-widgets/base",
            "_model_module_version": "1.2.0",
            "_model_name": "LayoutModel",
            "_view_count": null,
            "_view_module": "@jupyter-widgets/base",
            "_view_module_version": "1.2.0",
            "_view_name": "LayoutView",
            "align_content": null,
            "align_items": null,
            "align_self": null,
            "border": null,
            "bottom": null,
            "display": null,
            "flex": null,
            "flex_flow": null,
            "grid_area": null,
            "grid_auto_columns": null,
            "grid_auto_flow": null,
            "grid_auto_rows": null,
            "grid_column": null,
            "grid_gap": null,
            "grid_row": null,
            "grid_template_areas": null,
            "grid_template_columns": null,
            "grid_template_rows": null,
            "height": null,
            "justify_content": null,
            "justify_items": null,
            "left": null,
            "margin": null,
            "max_height": null,
            "max_width": null,
            "min_height": null,
            "min_width": null,
            "object_fit": null,
            "object_position": null,
            "order": null,
            "overflow": null,
            "overflow_x": null,
            "overflow_y": null,
            "padding": null,
            "right": null,
            "top": null,
            "visibility": null,
            "width": null
          }
        },
        "28c360e598994524bffbd5917bfbd136": {
          "model_module": "@jupyter-widgets/controls",
          "model_name": "ProgressStyleModel",
          "model_module_version": "1.5.0",
          "state": {
            "_model_module": "@jupyter-widgets/controls",
            "_model_module_version": "1.5.0",
            "_model_name": "ProgressStyleModel",
            "_view_count": null,
            "_view_module": "@jupyter-widgets/base",
            "_view_module_version": "1.2.0",
            "_view_name": "StyleView",
            "bar_color": null,
            "description_width": ""
          }
        },
        "11afcc6d4f0340afb69b395791c2cce3": {
          "model_module": "@jupyter-widgets/base",
          "model_name": "LayoutModel",
          "model_module_version": "1.2.0",
          "state": {
            "_model_module": "@jupyter-widgets/base",
            "_model_module_version": "1.2.0",
            "_model_name": "LayoutModel",
            "_view_count": null,
            "_view_module": "@jupyter-widgets/base",
            "_view_module_version": "1.2.0",
            "_view_name": "LayoutView",
            "align_content": null,
            "align_items": null,
            "align_self": null,
            "border": null,
            "bottom": null,
            "display": null,
            "flex": null,
            "flex_flow": null,
            "grid_area": null,
            "grid_auto_columns": null,
            "grid_auto_flow": null,
            "grid_auto_rows": null,
            "grid_column": null,
            "grid_gap": null,
            "grid_row": null,
            "grid_template_areas": null,
            "grid_template_columns": null,
            "grid_template_rows": null,
            "height": null,
            "justify_content": null,
            "justify_items": null,
            "left": null,
            "margin": null,
            "max_height": null,
            "max_width": null,
            "min_height": null,
            "min_width": null,
            "object_fit": null,
            "object_position": null,
            "order": null,
            "overflow": null,
            "overflow_x": null,
            "overflow_y": null,
            "padding": null,
            "right": null,
            "top": null,
            "visibility": null,
            "width": null
          }
        },
        "9d8bcc071bdc4851b4ec540e5bc68a0c": {
          "model_module": "@jupyter-widgets/controls",
          "model_name": "DescriptionStyleModel",
          "model_module_version": "1.5.0",
          "state": {
            "_model_module": "@jupyter-widgets/controls",
            "_model_module_version": "1.5.0",
            "_model_name": "DescriptionStyleModel",
            "_view_count": null,
            "_view_module": "@jupyter-widgets/base",
            "_view_module_version": "1.2.0",
            "_view_name": "StyleView",
            "description_width": ""
          }
        },
        "8c689aa714fb4de8af9cecb078c4b489": {
          "model_module": "@jupyter-widgets/controls",
          "model_name": "HBoxModel",
          "model_module_version": "1.5.0",
          "state": {
            "_dom_classes": [],
            "_model_module": "@jupyter-widgets/controls",
            "_model_module_version": "1.5.0",
            "_model_name": "HBoxModel",
            "_view_count": null,
            "_view_module": "@jupyter-widgets/controls",
            "_view_module_version": "1.5.0",
            "_view_name": "HBoxView",
            "box_style": "",
            "children": [
              "IPY_MODEL_c5b184d7d0da40a6bba8feafdea8230e",
              "IPY_MODEL_0504fcbba80c459e9cceb3c23b23f103",
              "IPY_MODEL_5ba26763bf664250962b5d3819f10e5b"
            ],
            "layout": "IPY_MODEL_56c72dd8d30e440184f9bd490ad2fd3b"
          }
        },
        "c5b184d7d0da40a6bba8feafdea8230e": {
          "model_module": "@jupyter-widgets/controls",
          "model_name": "HTMLModel",
          "model_module_version": "1.5.0",
          "state": {
            "_dom_classes": [],
            "_model_module": "@jupyter-widgets/controls",
            "_model_module_version": "1.5.0",
            "_model_name": "HTMLModel",
            "_view_count": null,
            "_view_module": "@jupyter-widgets/controls",
            "_view_module_version": "1.5.0",
            "_view_name": "HTMLView",
            "description": "",
            "description_tooltip": null,
            "layout": "IPY_MODEL_fc7ffffda37d4a5780297c89fbec3a93",
            "placeholder": "​",
            "style": "IPY_MODEL_bda93f45a2044b9487e97e5e463d524e",
            "value": "model.safetensors: 100%"
          }
        },
        "0504fcbba80c459e9cceb3c23b23f103": {
          "model_module": "@jupyter-widgets/controls",
          "model_name": "FloatProgressModel",
          "model_module_version": "1.5.0",
          "state": {
            "_dom_classes": [],
            "_model_module": "@jupyter-widgets/controls",
            "_model_module_version": "1.5.0",
            "_model_name": "FloatProgressModel",
            "_view_count": null,
            "_view_module": "@jupyter-widgets/controls",
            "_view_module_version": "1.5.0",
            "_view_name": "ProgressView",
            "bar_style": "success",
            "description": "",
            "description_tooltip": null,
            "layout": "IPY_MODEL_c0329804ae5e4af69020e5a3214a60b9",
            "max": 435755784,
            "min": 0,
            "orientation": "horizontal",
            "style": "IPY_MODEL_e2d50a20d04f46e0800b648c968af06c",
            "value": 435755784
          }
        },
        "5ba26763bf664250962b5d3819f10e5b": {
          "model_module": "@jupyter-widgets/controls",
          "model_name": "HTMLModel",
          "model_module_version": "1.5.0",
          "state": {
            "_dom_classes": [],
            "_model_module": "@jupyter-widgets/controls",
            "_model_module_version": "1.5.0",
            "_model_name": "HTMLModel",
            "_view_count": null,
            "_view_module": "@jupyter-widgets/controls",
            "_view_module_version": "1.5.0",
            "_view_name": "HTMLView",
            "description": "",
            "description_tooltip": null,
            "layout": "IPY_MODEL_ec5a480c79414d7380acb54e4b4927bb",
            "placeholder": "​",
            "style": "IPY_MODEL_0e0195044d40433a9711b1431b53da32",
            "value": " 436M/436M [00:06&lt;00:00, 106MB/s]"
          }
        },
        "56c72dd8d30e440184f9bd490ad2fd3b": {
          "model_module": "@jupyter-widgets/base",
          "model_name": "LayoutModel",
          "model_module_version": "1.2.0",
          "state": {
            "_model_module": "@jupyter-widgets/base",
            "_model_module_version": "1.2.0",
            "_model_name": "LayoutModel",
            "_view_count": null,
            "_view_module": "@jupyter-widgets/base",
            "_view_module_version": "1.2.0",
            "_view_name": "LayoutView",
            "align_content": null,
            "align_items": null,
            "align_self": null,
            "border": null,
            "bottom": null,
            "display": null,
            "flex": null,
            "flex_flow": null,
            "grid_area": null,
            "grid_auto_columns": null,
            "grid_auto_flow": null,
            "grid_auto_rows": null,
            "grid_column": null,
            "grid_gap": null,
            "grid_row": null,
            "grid_template_areas": null,
            "grid_template_columns": null,
            "grid_template_rows": null,
            "height": null,
            "justify_content": null,
            "justify_items": null,
            "left": null,
            "margin": null,
            "max_height": null,
            "max_width": null,
            "min_height": null,
            "min_width": null,
            "object_fit": null,
            "object_position": null,
            "order": null,
            "overflow": null,
            "overflow_x": null,
            "overflow_y": null,
            "padding": null,
            "right": null,
            "top": null,
            "visibility": null,
            "width": null
          }
        },
        "fc7ffffda37d4a5780297c89fbec3a93": {
          "model_module": "@jupyter-widgets/base",
          "model_name": "LayoutModel",
          "model_module_version": "1.2.0",
          "state": {
            "_model_module": "@jupyter-widgets/base",
            "_model_module_version": "1.2.0",
            "_model_name": "LayoutModel",
            "_view_count": null,
            "_view_module": "@jupyter-widgets/base",
            "_view_module_version": "1.2.0",
            "_view_name": "LayoutView",
            "align_content": null,
            "align_items": null,
            "align_self": null,
            "border": null,
            "bottom": null,
            "display": null,
            "flex": null,
            "flex_flow": null,
            "grid_area": null,
            "grid_auto_columns": null,
            "grid_auto_flow": null,
            "grid_auto_rows": null,
            "grid_column": null,
            "grid_gap": null,
            "grid_row": null,
            "grid_template_areas": null,
            "grid_template_columns": null,
            "grid_template_rows": null,
            "height": null,
            "justify_content": null,
            "justify_items": null,
            "left": null,
            "margin": null,
            "max_height": null,
            "max_width": null,
            "min_height": null,
            "min_width": null,
            "object_fit": null,
            "object_position": null,
            "order": null,
            "overflow": null,
            "overflow_x": null,
            "overflow_y": null,
            "padding": null,
            "right": null,
            "top": null,
            "visibility": null,
            "width": null
          }
        },
        "bda93f45a2044b9487e97e5e463d524e": {
          "model_module": "@jupyter-widgets/controls",
          "model_name": "DescriptionStyleModel",
          "model_module_version": "1.5.0",
          "state": {
            "_model_module": "@jupyter-widgets/controls",
            "_model_module_version": "1.5.0",
            "_model_name": "DescriptionStyleModel",
            "_view_count": null,
            "_view_module": "@jupyter-widgets/base",
            "_view_module_version": "1.2.0",
            "_view_name": "StyleView",
            "description_width": ""
          }
        },
        "c0329804ae5e4af69020e5a3214a60b9": {
          "model_module": "@jupyter-widgets/base",
          "model_name": "LayoutModel",
          "model_module_version": "1.2.0",
          "state": {
            "_model_module": "@jupyter-widgets/base",
            "_model_module_version": "1.2.0",
            "_model_name": "LayoutModel",
            "_view_count": null,
            "_view_module": "@jupyter-widgets/base",
            "_view_module_version": "1.2.0",
            "_view_name": "LayoutView",
            "align_content": null,
            "align_items": null,
            "align_self": null,
            "border": null,
            "bottom": null,
            "display": null,
            "flex": null,
            "flex_flow": null,
            "grid_area": null,
            "grid_auto_columns": null,
            "grid_auto_flow": null,
            "grid_auto_rows": null,
            "grid_column": null,
            "grid_gap": null,
            "grid_row": null,
            "grid_template_areas": null,
            "grid_template_columns": null,
            "grid_template_rows": null,
            "height": null,
            "justify_content": null,
            "justify_items": null,
            "left": null,
            "margin": null,
            "max_height": null,
            "max_width": null,
            "min_height": null,
            "min_width": null,
            "object_fit": null,
            "object_position": null,
            "order": null,
            "overflow": null,
            "overflow_x": null,
            "overflow_y": null,
            "padding": null,
            "right": null,
            "top": null,
            "visibility": null,
            "width": null
          }
        },
        "e2d50a20d04f46e0800b648c968af06c": {
          "model_module": "@jupyter-widgets/controls",
          "model_name": "ProgressStyleModel",
          "model_module_version": "1.5.0",
          "state": {
            "_model_module": "@jupyter-widgets/controls",
            "_model_module_version": "1.5.0",
            "_model_name": "ProgressStyleModel",
            "_view_count": null,
            "_view_module": "@jupyter-widgets/base",
            "_view_module_version": "1.2.0",
            "_view_name": "StyleView",
            "bar_color": null,
            "description_width": ""
          }
        },
        "ec5a480c79414d7380acb54e4b4927bb": {
          "model_module": "@jupyter-widgets/base",
          "model_name": "LayoutModel",
          "model_module_version": "1.2.0",
          "state": {
            "_model_module": "@jupyter-widgets/base",
            "_model_module_version": "1.2.0",
            "_model_name": "LayoutModel",
            "_view_count": null,
            "_view_module": "@jupyter-widgets/base",
            "_view_module_version": "1.2.0",
            "_view_name": "LayoutView",
            "align_content": null,
            "align_items": null,
            "align_self": null,
            "border": null,
            "bottom": null,
            "display": null,
            "flex": null,
            "flex_flow": null,
            "grid_area": null,
            "grid_auto_columns": null,
            "grid_auto_flow": null,
            "grid_auto_rows": null,
            "grid_column": null,
            "grid_gap": null,
            "grid_row": null,
            "grid_template_areas": null,
            "grid_template_columns": null,
            "grid_template_rows": null,
            "height": null,
            "justify_content": null,
            "justify_items": null,
            "left": null,
            "margin": null,
            "max_height": null,
            "max_width": null,
            "min_height": null,
            "min_width": null,
            "object_fit": null,
            "object_position": null,
            "order": null,
            "overflow": null,
            "overflow_x": null,
            "overflow_y": null,
            "padding": null,
            "right": null,
            "top": null,
            "visibility": null,
            "width": null
          }
        },
        "0e0195044d40433a9711b1431b53da32": {
          "model_module": "@jupyter-widgets/controls",
          "model_name": "DescriptionStyleModel",
          "model_module_version": "1.5.0",
          "state": {
            "_model_module": "@jupyter-widgets/controls",
            "_model_module_version": "1.5.0",
            "_model_name": "DescriptionStyleModel",
            "_view_count": null,
            "_view_module": "@jupyter-widgets/base",
            "_view_module_version": "1.2.0",
            "_view_name": "StyleView",
            "description_width": ""
          }
        }
      }
    }
  },
  "cells": [
    {
      "cell_type": "markdown",
      "metadata": {
        "id": "view-in-github",
        "colab_type": "text"
      },
      "source": [
        "<a href=\"https://colab.research.google.com/github/shaangao/LLMs/blob/main/llms.ipynb\" target=\"_parent\"><img src=\"https://colab.research.google.com/assets/colab-badge.svg\" alt=\"Open In Colab\"/></a>"
      ]
    },
    {
      "cell_type": "markdown",
      "source": [
        "# LLM Feature Extraction and Fine-Tuning for Sentence Classification"
      ],
      "metadata": {
        "id": "XAApgYHlCMYo"
      }
    },
    {
      "cell_type": "code",
      "execution_count": 1,
      "metadata": {
        "id": "QCdFoYit1Iis"
      },
      "outputs": [],
      "source": [
        "%%capture\n",
        "! pip install tqdm boto3 requests regex sentencepiece sacremoses\n",
        "! pip install transformers"
      ]
    },
    {
      "cell_type": "code",
      "source": [
        "from google.colab import drive\n",
        "drive.mount('/content/drive')"
      ],
      "metadata": {
        "colab": {
          "base_uri": "https://localhost:8080/"
        },
        "id": "LY0wqmBVEM-1",
        "outputId": "a94f61ae-a292-4bc8-c381-75582642a00d"
      },
      "execution_count": 2,
      "outputs": [
        {
          "output_type": "stream",
          "name": "stdout",
          "text": [
            "Mounted at /content/drive\n"
          ]
        }
      ]
    },
    {
      "cell_type": "code",
      "source": [
        "import collections\n",
        "import json\n",
        "import numpy as np\n",
        "import torch\n",
        "import torch.nn as nn\n",
        "import tqdm\n",
        "from torch.utils.data import Dataset, DataLoader\n",
        "import torch.nn.functional as F\n",
        "from transformers import AutoTokenizer, AutoModel"
      ],
      "metadata": {
        "id": "KyTluMERlu4O"
      },
      "execution_count": 3,
      "outputs": []
    },
    {
      "cell_type": "markdown",
      "source": [
        "## dataset and data loaders"
      ],
      "metadata": {
        "id": "ZVI3OhkQrIOa"
      }
    },
    {
      "cell_type": "code",
      "source": [
        "SPLITS = ['train', 'dev', 'test']\n",
        "\n",
        "\n",
        "class DBPediaDataset(Dataset):\n",
        "\n",
        "    '''\n",
        "    DBPedia dataset.\n",
        "      Args:\n",
        "        path[str]: path to the original data.\n",
        "    '''\n",
        "\n",
        "    def __init__(self, path):\n",
        "        with open(path) as fin:\n",
        "            self._data = [json.loads(l) for l in fin]\n",
        "        self._n_classes = len(set([datum['label'] for datum in self._data]))\n",
        "\n",
        "    def __getitem__(self, index):\n",
        "        return self._data[index]\n",
        "\n",
        "    def __len__(self):\n",
        "        return len(self._data)\n",
        "\n",
        "    @property\n",
        "    def n_classes(self):\n",
        "        return self._n_classes\n",
        "\n",
        "    @staticmethod\n",
        "    def collate_fn(tokenizer, device, batch):\n",
        "\n",
        "        '''\n",
        "        The collate function that compresses a training batch.\n",
        "          Args:\n",
        "            batch[list[dict[str, Any]]]: data in the batch.\n",
        "          Returns:\n",
        "            labels[torch.LongTensor]: the labels in the batch.\n",
        "            sentences[dict[str, torch.Tensor]]: sentences converted by tokenizers.\n",
        "        '''\n",
        "\n",
        "        # get target labels\n",
        "        labels = torch.tensor([datum['label'] for datum in batch]).long().to(device)\n",
        "\n",
        "        # encode sentences with tokenizer\n",
        "        sentences = tokenizer(\n",
        "            [datum['sentence'] for datum in batch],\n",
        "            return_tensors='pt',  # pt = pytorch style tensor\n",
        "            padding=True\n",
        "        )\n",
        "        for key in sentences:\n",
        "            sentences[key] = sentences[key].to(device)\n",
        "\n",
        "        return labels, sentences\n",
        "\n",
        "\n",
        "def construct_datasets(prefix, batch_size, tokenizer, device):\n",
        "\n",
        "    '''\n",
        "    Constructs datasets and data loaders.\n",
        "      Args:\n",
        "        prefix[str]: prefix of the dataset (e.g., dbpedia_).\n",
        "        batch_size[int]: maximum number of examples in a batch.\n",
        "        tokenizer: model tokenizer that converts sentences to integer tensors.\n",
        "        device[torch.device]: the device (cpu/gpu) that the tensor should be on.\n",
        "      Returns:\n",
        "        datasets[dict[str, Dataset]]: a dict of constructed datasets.\n",
        "        dataloaders[dict[str, DataLoader]]: a dict of constructed data loaders.\n",
        "    '''\n",
        "\n",
        "    datasets = collections.defaultdict()\n",
        "    dataloaders = collections.defaultdict()\n",
        "\n",
        "    for split in SPLITS:\n",
        "\n",
        "        # dataset\n",
        "        datasets[split] = DBPediaDataset(f'{prefix}{split}.json')\n",
        "\n",
        "        # dataloader\n",
        "        dataloaders[split] = DataLoader(\n",
        "            datasets[split],\n",
        "            batch_size=batch_size,\n",
        "            shuffle=(split == 'train'),\n",
        "            collate_fn=lambda x:DBPediaDataset.collate_fn(tokenizer, device, x)\n",
        "        )\n",
        "\n",
        "    return datasets, dataloaders"
      ],
      "metadata": {
        "id": "Sr_s2OH017B3"
      },
      "execution_count": 4,
      "outputs": []
    },
    {
      "cell_type": "markdown",
      "source": [
        "## classifer architecture"
      ],
      "metadata": {
        "id": "9cFGTGFT8xaF"
      }
    },
    {
      "cell_type": "code",
      "source": [
        "class Classifier(nn.Module):\n",
        "\n",
        "\n",
        "    def __init__(self, in_size, layer_sizes:list, layer_acts:list):\n",
        "\n",
        "        # call parent constructor\n",
        "        super(Classifier, self).__init__()\n",
        "\n",
        "        # construct layers (last layer is output layer)\n",
        "        self.layers = nn.ModuleList()\n",
        "        for i, layer_size in enumerate(layer_sizes):\n",
        "            if i == 0:\n",
        "                # layer = nn.Linear(in_size, layer_size)\n",
        "                # layer.weight.data.uniform_(-0.01, 0.01)\n",
        "                # layer.bias.data.zero_()\n",
        "                # self.layers.append(layer)\n",
        "                self.layers.append(nn.Linear(in_size, layer_size))\n",
        "            else:\n",
        "                # layer = nn.Linear(layer_sizes[i-1], layer_size)\n",
        "                # layer.weight.data.uniform_(-0.01, 0.01)\n",
        "                # layer.bias.data.zero_()\n",
        "                # self.layers.append(layer)\n",
        "                self.layers.append(nn.Linear(layer_sizes[i-1], layer_size))\n",
        "\n",
        "        # set each layer's activation function\n",
        "        self.layer_acts = layer_acts\n",
        "\n",
        "\n",
        "    def forward(self, x):\n",
        "\n",
        "        for i, layer in enumerate(self.layers):\n",
        "            x = layer(x)\n",
        "            x = self.layer_acts[i](x)\n",
        "\n",
        "        return x"
      ],
      "metadata": {
        "id": "x7zw6kKUE4FY"
      },
      "execution_count": 5,
      "outputs": []
    },
    {
      "cell_type": "markdown",
      "source": [
        "## 1. BERT [CLS] feature extraction for classification"
      ],
      "metadata": {
        "id": "y2usTWPt2Tjs"
      }
    },
    {
      "cell_type": "markdown",
      "source": [
        "### setup"
      ],
      "metadata": {
        "id": "stbHHXdp5tnv"
      }
    },
    {
      "cell_type": "code",
      "source": [
        "# set hyperparameters\n",
        "batch_size = 32\n",
        "classifier_hidden_size = 32\n",
        "\n",
        "# load BERT tokenizer and model\n",
        "tokenizer = AutoTokenizer.from_pretrained('bert-base-cased')\n",
        "bert_model = AutoModel.from_pretrained('bert-base-cased')\n",
        "if torch.cuda.is_available():  # use GPU if available\n",
        "    bert_model = bert_model.cuda()\n",
        "\n",
        "# construct datasets with BERT tokenizer\n",
        "datasets, dataloaders = construct_datasets(\n",
        "    prefix='/content/drive/MyDrive/LLMs/data/dbpedia_',\n",
        "    batch_size=batch_size,\n",
        "    tokenizer=tokenizer,\n",
        "    device=bert_model.device\n",
        ")\n",
        "\n",
        "# # sanity check\n",
        "# datasets['train'].__getitem__(0)\n",
        "\n",
        "# # sanity check\n",
        "# dtrain0 = next(iter(dataloaders['train']))\n",
        "# # labels\n",
        "# dtrain0[0]\n",
        "# # sentences\n",
        "# dtrain0[1].keys()   # ['input_ids', 'token_type_ids', 'attention_mask']\n",
        "# import pandas as pd\n",
        "# pd.DataFrame(dtrain0[1]['input_ids'])"
      ],
      "metadata": {
        "colab": {
          "base_uri": "https://localhost:8080/",
          "height": 177,
          "referenced_widgets": [
            "394633ff97094e21928987053dcffcff",
            "90b64dceac13419581951c5bc2d150bb",
            "8fc26e8d2ac14a17b4d17406e47e533d",
            "7d76a15689d7453a93197301edafe4e4",
            "d40e1c09061a4da495e175bd12f5c5d6",
            "7148a0ae3696433dac2eafaca0cf3cca",
            "bd5350bd8bda4889bfe4c06c41bcb20b",
            "fa262a7609a041a696e202428e398bc8",
            "bbcf6788e2754bc4bfa225b124d6147c",
            "8d8f73a49ef349cd878e20d422b57ec1",
            "109fbde2aaaa4c29b6b8a3658a7de536",
            "d3ace210c7b541e1b111899275c4541a",
            "1685c3a99ed04872aa7af377b347eb73",
            "6eb7e24f1da24551b36435aadd8ca94b",
            "8d2ffe3c8dbc43b98a618815cfb34a44",
            "004054edc980437f94db2fdae4d5d950",
            "3772c04f19a041eb92a50d72fd2060dc",
            "fbeed5eda8b948028a1ab5f774eeb7bb",
            "cc52449d5f5b4bc393c728a5e7609b3c",
            "228464d75b314bc9bc799af046c76328",
            "cc74c69409224cc0821f6cc6bf133ac6",
            "f39af4bf7c5a45ce8d1f50fdf53761cc",
            "c1a9fc8155ba400fb97e5e0da6e6682a",
            "11d0836aa0624c29952f647ea0a29881",
            "25a546c3eba54ee9a8cf4e524ab6c9e5",
            "593e772b7f594086afb5e4c52ef614e4",
            "4ea54dbdfc5f448fb367adb512bcacd0",
            "e00f10a19d774cd6b0598e79be0691bb",
            "4b43eaafa0764f9bb6832dfbea1e351b",
            "f5dc72ff182d4ce4b97c2a404a4c28de",
            "01ce5279db2a40259ae61b731f9f2a23",
            "fc6953395cb44eb3992580cf3b5a0b9c",
            "b9d94322560347d2b5c0141d6ad7e68c",
            "ee5307a453d140b6b6c43ce73624857a",
            "9706813f253c486aab7816d6b8d6fc7a",
            "441fe54f297d459f98aeed89ea7fe26a",
            "28d6049e12264bb0a77917ce8a43de39",
            "aeaf2db13c6f473ea6a52a71a0672688",
            "99bb55bcd03546f1846a31b422290aef",
            "6670669b409d4af1b912c2178b13d314",
            "00c9598413e64ee79ccfbc1566a77b2c",
            "28c360e598994524bffbd5917bfbd136",
            "11afcc6d4f0340afb69b395791c2cce3",
            "9d8bcc071bdc4851b4ec540e5bc68a0c",
            "8c689aa714fb4de8af9cecb078c4b489",
            "c5b184d7d0da40a6bba8feafdea8230e",
            "0504fcbba80c459e9cceb3c23b23f103",
            "5ba26763bf664250962b5d3819f10e5b",
            "56c72dd8d30e440184f9bd490ad2fd3b",
            "fc7ffffda37d4a5780297c89fbec3a93",
            "bda93f45a2044b9487e97e5e463d524e",
            "c0329804ae5e4af69020e5a3214a60b9",
            "e2d50a20d04f46e0800b648c968af06c",
            "ec5a480c79414d7380acb54e4b4927bb",
            "0e0195044d40433a9711b1431b53da32"
          ]
        },
        "id": "IqL1EUzc3O4a",
        "outputId": "e85743ac-aa18-4475-f390-7cdac35774bc"
      },
      "execution_count": 6,
      "outputs": [
        {
          "output_type": "display_data",
          "data": {
            "text/plain": [
              "tokenizer_config.json:   0%|          | 0.00/29.0 [00:00<?, ?B/s]"
            ],
            "application/vnd.jupyter.widget-view+json": {
              "version_major": 2,
              "version_minor": 0,
              "model_id": "394633ff97094e21928987053dcffcff"
            }
          },
          "metadata": {}
        },
        {
          "output_type": "display_data",
          "data": {
            "text/plain": [
              "config.json:   0%|          | 0.00/570 [00:00<?, ?B/s]"
            ],
            "application/vnd.jupyter.widget-view+json": {
              "version_major": 2,
              "version_minor": 0,
              "model_id": "d3ace210c7b541e1b111899275c4541a"
            }
          },
          "metadata": {}
        },
        {
          "output_type": "display_data",
          "data": {
            "text/plain": [
              "vocab.txt:   0%|          | 0.00/213k [00:00<?, ?B/s]"
            ],
            "application/vnd.jupyter.widget-view+json": {
              "version_major": 2,
              "version_minor": 0,
              "model_id": "c1a9fc8155ba400fb97e5e0da6e6682a"
            }
          },
          "metadata": {}
        },
        {
          "output_type": "display_data",
          "data": {
            "text/plain": [
              "tokenizer.json:   0%|          | 0.00/436k [00:00<?, ?B/s]"
            ],
            "application/vnd.jupyter.widget-view+json": {
              "version_major": 2,
              "version_minor": 0,
              "model_id": "ee5307a453d140b6b6c43ce73624857a"
            }
          },
          "metadata": {}
        },
        {
          "output_type": "display_data",
          "data": {
            "text/plain": [
              "model.safetensors:   0%|          | 0.00/436M [00:00<?, ?B/s]"
            ],
            "application/vnd.jupyter.widget-view+json": {
              "version_major": 2,
              "version_minor": 0,
              "model_id": "8c689aa714fb4de8af9cecb078c4b489"
            }
          },
          "metadata": {}
        }
      ]
    },
    {
      "cell_type": "markdown",
      "source": [
        "### train and eval util funcs"
      ],
      "metadata": {
        "id": "LGMG7aw4TZFy"
      }
    },
    {
      "cell_type": "code",
      "source": [
        "# func for extracting frozen BERT token representations for sentences and pooling\n",
        "\n",
        "def extract_bert_rep(bert_model, sentences:dict, pooling:str):\n",
        "\n",
        "\n",
        "    # extract frozen BERT token representations for sentences\n",
        "    with torch.no_grad():   # keep BERT params fixed\n",
        "        unpooled_features = bert_model(**sentences)['last_hidden_state']  # (B, L, D): (batch_size, num token in sentence, BERT rep dimension)\n",
        "\n",
        "\n",
        "    # get pooled_features across tokens for each sentence\n",
        "    if pooling == 'first':\n",
        "        pooled_features = unpooled_features[:, 0, :]   # (B, D)\n",
        "\n",
        "    elif pooling == 'mean':\n",
        "        # mask padding tokens (where attention_mask is 0) with nan\n",
        "        unpooled_features_masked = unpooled_features.masked_fill(\n",
        "            sentences['attention_mask'].unsqueeze(-1)==0,\n",
        "            float('nan')\n",
        "        )\n",
        "        # max-pooling across tokens (L dimension) in each sentence\n",
        "        pooled_features = unpooled_features_masked.nanmean(dim=1)   # (B, D)\n",
        "\n",
        "    elif pooling == 'max':\n",
        "        # mask padding tokens (where attention_mask is 0) with -inf\n",
        "        unpooled_features_masked = unpooled_features.masked_fill(\n",
        "            sentences['attention_mask'].unsqueeze(-1)==0,\n",
        "            float('-inf')\n",
        "        )\n",
        "        # max-pooling across tokens (L dimension) in each sentence\n",
        "        pooled_features, _ = unpooled_features_masked.max(dim=1)   # (B, D)\n",
        "\n",
        "\n",
        "    return pooled_features"
      ],
      "metadata": {
        "id": "PCKWdKlXgpUA"
      },
      "execution_count": 7,
      "outputs": []
    },
    {
      "cell_type": "code",
      "source": [
        "# func for running 1 epoch of training\n",
        "\n",
        "def train1epoch(classifier, train_dataloader, optimizer, criterion, bert_model, pooling):\n",
        "\n",
        "    # progress bar\n",
        "    pbar = tqdm.tqdm(train_dataloader)\n",
        "\n",
        "    # turn on training mode\n",
        "    classifier.train()\n",
        "\n",
        "    # reset epoch_loss tracker\n",
        "    epoch_loss = 0\n",
        "\n",
        "    # iter through mini-batches to train 1 epoch\n",
        "    for labels, sentences in pbar:  # sentences is a dict (['input_ids', 'token_type_ids', 'attention_mask']) of tensors of shape (B, L)\n",
        "\n",
        "        # extract frozen BERT token representations for sentences; get [CLS] token (first token) representation\n",
        "        cls_features = extract_bert_rep(bert_model=bert_model, sentences=sentences, pooling=pooling)   # (B, D)\n",
        "\n",
        "        # train\n",
        "        optimizer.zero_grad()   # zero the gradient buffers\n",
        "        output = classifier(cls_features)\n",
        "        loss = criterion(output, labels)\n",
        "        loss.backward()\n",
        "        optimizer.step()   # does the update\n",
        "\n",
        "        epoch_loss += loss.item()\n",
        "\n",
        "        # print('\\n')\n",
        "        # print(f'  batch loss: {loss.item()}')\n",
        "        # print(f'  epoch loss: {epoch_loss}')\n",
        "\n",
        "    return epoch_loss"
      ],
      "metadata": {
        "id": "HtbHeXPuljVd"
      },
      "execution_count": 8,
      "outputs": []
    },
    {
      "cell_type": "code",
      "source": [
        "# eval\n",
        "\n",
        "def eval(classifier, eval_dataloader, bert_model, pooling):\n",
        "\n",
        "    # progress bar\n",
        "    pbar = tqdm.tqdm(eval_dataloader)\n",
        "\n",
        "    # turn on eval mode\n",
        "    classifier.eval()\n",
        "\n",
        "    # set trackers\n",
        "    ycorrect = 0\n",
        "    ytotal = 0\n",
        "\n",
        "    # turn off gradient calc to reduce memory consumption\n",
        "    with torch.no_grad():\n",
        "\n",
        "        # iter through mini-batches in eval_dataloader\n",
        "        for labels, sentences in pbar:\n",
        "\n",
        "            # extract frozen BERT token representations for sentences; get [CLS] token (first token) representation\n",
        "            cls_features = extract_bert_rep(bert_model=bert_model, sentences=sentences, pooling=pooling)  # (B, D)\n",
        "\n",
        "            # get classifier predictions on eval_data\n",
        "            probs = F.softmax(classifier(cls_features), dim=1)\n",
        "            ypred = torch.argmax(probs, dim=1)\n",
        "\n",
        "            # count correct predictions\n",
        "            ycorrect += torch.sum(torch.eq(ypred, labels)).item()\n",
        "\n",
        "            # total num of obs in eval_data\n",
        "            ytotal += len(labels)\n",
        "\n",
        "    # compute accuracy\n",
        "    yaccu = ycorrect / ytotal\n",
        "\n",
        "    return yaccu"
      ],
      "metadata": {
        "id": "4ShjbKDCAuYn"
      },
      "execution_count": 9,
      "outputs": []
    },
    {
      "cell_type": "code",
      "source": [
        "# wrapper for train & eval\n",
        "\n",
        "def main_process(classifier, name, optimizer, criterion, dataloaders, bert_model, pooling, max_epochs=10, early_stopping=3):\n",
        "\n",
        "\n",
        "    # initialize vars: track metrics\n",
        "    epoch_losses = []\n",
        "    train_evals = []\n",
        "    dev_evals = []\n",
        "\n",
        "    # initialize vars: track best classifier\n",
        "    best_dev_eval = 0\n",
        "    best_classifier_epoch = -1\n",
        "\n",
        "\n",
        "    # train and eval\n",
        "    for epoch in range(max_epochs):\n",
        "\n",
        "        print(f'EPOCH {epoch+1}')\n",
        "\n",
        "        # train\n",
        "        print(f'----- TRAIN -----')\n",
        "        epoch_loss = train1epoch(\n",
        "            classifier=classifier,\n",
        "            train_dataloader=dataloaders['train'],\n",
        "            optimizer=optimizer,\n",
        "            criterion=criterion,\n",
        "            bert_model=bert_model,\n",
        "            pooling=pooling\n",
        "        )\n",
        "        print(f'  epoch loss: {epoch_loss}')\n",
        "        epoch_losses.append(epoch_loss)\n",
        "\n",
        "        print(f'----- EVAL -----')\n",
        "\n",
        "        # # eval on training set\n",
        "        # train_eval = eval(classifier=classifier, eval_dataloader=dataloaders['train'], bert_model=bert_model, pooling=pooling)\n",
        "        # print(f'  train accuracy: {train_eval}')\n",
        "        # train_evals.append(train_eval)\n",
        "\n",
        "        # eval on dev set\n",
        "        dev_eval = eval(classifier=classifier, eval_dataloader=dataloaders['dev'], bert_model=bert_model, pooling=pooling)\n",
        "        print(f'  dev accuracy: {dev_eval}')\n",
        "        dev_evals.append(dev_eval)\n",
        "\n",
        "        # update best classifier based on dev eval\n",
        "        if dev_eval > best_dev_eval:\n",
        "\n",
        "            # save state_dict of best classifier so far\n",
        "            torch.save(classifier.state_dict(), '/content/drive/MyDrive/LLMs/classifiers/'+name+'_best.pth.tar')\n",
        "\n",
        "            # update which epoch best_classifier is from\n",
        "            best_classifier_epoch = epoch\n",
        "\n",
        "            # update best_dev_accu\n",
        "            best_dev_eval = dev_eval\n",
        "\n",
        "        print(f'  best classifier from epoch {best_classifier_epoch+1}')\n",
        "\n",
        "        # early stopping based on dev eval\n",
        "        if early_stopping is not None:\n",
        "            if epoch - best_classifier_epoch >= early_stopping:\n",
        "                print('=== EARLY STOPPING ===')\n",
        "                break\n",
        "    # end training epochs\n",
        "\n",
        "\n",
        "    # load state_dict of best classifier (modifies input classifier in place)\n",
        "    if epoch != best_classifier_epoch:\n",
        "        print(f'load best classifier...')\n",
        "        classifier.load_state_dict(torch.load('/content/drive/MyDrive/LLMs/classifiers/'+name+'_best.pth.tar'))\n",
        "\n",
        "    # eval best classifier on devtest set\n",
        "    print(f'----- EVAL -----')\n",
        "    print(f'eval best classifier on devtest...')\n",
        "    devtest_eval = eval(classifier=classifier, eval_dataloader=dataloaders['test'], bert_model=bert_model, pooling=pooling)\n",
        "    print(f'devtest accuracy: {devtest_eval}\\n')\n",
        "\n",
        "\n",
        "    return epoch_losses, train_evals, dev_evals, best_dev_eval, devtest_eval\n"
      ],
      "metadata": {
        "id": "ffgE7WuXpD7s"
      },
      "execution_count": 10,
      "outputs": []
    },
    {
      "cell_type": "markdown",
      "source": [
        "### run experiments"
      ],
      "metadata": {
        "id": "8ecGJCs7xrOE"
      }
    },
    {
      "cell_type": "code",
      "source": [
        "# run 1 epoch of training 5 times with random seeds\n",
        "\n",
        "\n",
        "# specify seeds for each run\n",
        "seeds = [42, 645, 234, 534, 56]\n",
        "\n",
        "# for storing dev and devtest accuracy of each run\n",
        "final_dev_evals_bert_cls_frozen = []\n",
        "devtest_evals_bert_cls_frozen = []\n",
        "\n",
        "\n",
        "for i, seed in enumerate(seeds):\n",
        "\n",
        "    print(f'======== RUN {i+1} ======== ')\n",
        "\n",
        "    # set random seed: https://pytorch.org/docs/stable/notes/randomness.html\n",
        "    torch.manual_seed(seed)\n",
        "    torch.cuda.manual_seed_all(seed)\n",
        "    torch.backends.cudnn.deterministic = True\n",
        "    torch.backends.cudnn.benchmark = False\n",
        "\n",
        "    # instantiate classifier for current run\n",
        "    classifier = Classifier(\n",
        "        in_size=bert_model.config.hidden_size,\n",
        "        layer_sizes=[classifier_hidden_size, datasets['train'].n_classes],\n",
        "        layer_acts=[nn.ReLU(), nn.Identity()]\n",
        "    ).to(bert_model.device)\n",
        "\n",
        "    # instantiate optimizer for current run\n",
        "    optimizer = torch.optim.Adam(classifier.parameters(), lr=5e-4)\n",
        "\n",
        "    # set loss function\n",
        "    loss_func = nn.CrossEntropyLoss()\n",
        "\n",
        "    # train and eval current classifier\n",
        "    _, _, _, final_dev_eval, devtest_eval = main_process(\n",
        "        classifier=classifier,\n",
        "        name='bert_cls_frozen_seed'+str(seed),\n",
        "        optimizer=optimizer,\n",
        "        criterion=loss_func,\n",
        "        dataloaders=dataloaders,\n",
        "        bert_model=bert_model,\n",
        "        pooling='first',\n",
        "        max_epochs=1,\n",
        "        early_stopping=3\n",
        "    )\n",
        "    final_dev_evals_bert_cls_frozen.append(final_dev_eval)\n",
        "    devtest_evals_bert_cls_frozen.append(devtest_eval)"
      ],
      "metadata": {
        "colab": {
          "base_uri": "https://localhost:8080/"
        },
        "id": "BLB-4UAtAuWI",
        "outputId": "5fc1dc2b-85e2-46d3-8b48-c78b4adc2a3c"
      },
      "execution_count": 26,
      "outputs": [
        {
          "output_type": "stream",
          "name": "stdout",
          "text": [
            "======== RUN 1 ======== \n",
            "EPOCH 1\n",
            "----- TRAIN -----\n"
          ]
        },
        {
          "output_type": "stream",
          "name": "stderr",
          "text": [
            "100%|██████████| 313/313 [00:42<00:00,  7.31it/s]\n"
          ]
        },
        {
          "output_type": "stream",
          "name": "stdout",
          "text": [
            "  epoch loss: 411.33130034804344\n",
            "----- EVAL -----\n"
          ]
        },
        {
          "output_type": "stream",
          "name": "stderr",
          "text": [
            "100%|██████████| 32/32 [00:03<00:00,  8.37it/s]\n"
          ]
        },
        {
          "output_type": "stream",
          "name": "stdout",
          "text": [
            "  dev accuracy: 0.962\n",
            "  best classifier from epoch 1\n",
            "----- EVAL -----\n",
            "eval best classifier on devtest...\n"
          ]
        },
        {
          "output_type": "stream",
          "name": "stderr",
          "text": [
            "100%|██████████| 32/32 [00:03<00:00,  8.71it/s]\n"
          ]
        },
        {
          "output_type": "stream",
          "name": "stdout",
          "text": [
            "devtest accuracy: 0.95\n",
            "\n",
            "======== RUN 2 ======== \n",
            "EPOCH 1\n",
            "----- TRAIN -----\n"
          ]
        },
        {
          "output_type": "stream",
          "name": "stderr",
          "text": [
            "100%|██████████| 313/313 [00:42<00:00,  7.44it/s]\n"
          ]
        },
        {
          "output_type": "stream",
          "name": "stdout",
          "text": [
            "  epoch loss: 409.298469632864\n",
            "----- EVAL -----\n"
          ]
        },
        {
          "output_type": "stream",
          "name": "stderr",
          "text": [
            "100%|██████████| 32/32 [00:03<00:00,  8.30it/s]\n"
          ]
        },
        {
          "output_type": "stream",
          "name": "stdout",
          "text": [
            "  dev accuracy: 0.958\n",
            "  best classifier from epoch 1\n",
            "----- EVAL -----\n",
            "eval best classifier on devtest...\n"
          ]
        },
        {
          "output_type": "stream",
          "name": "stderr",
          "text": [
            "100%|██████████| 32/32 [00:03<00:00,  8.60it/s]\n"
          ]
        },
        {
          "output_type": "stream",
          "name": "stdout",
          "text": [
            "devtest accuracy: 0.955\n",
            "\n",
            "======== RUN 3 ======== \n",
            "EPOCH 1\n",
            "----- TRAIN -----\n"
          ]
        },
        {
          "output_type": "stream",
          "name": "stderr",
          "text": [
            "100%|██████████| 313/313 [00:42<00:00,  7.45it/s]\n"
          ]
        },
        {
          "output_type": "stream",
          "name": "stdout",
          "text": [
            "  epoch loss: 387.23794293403625\n",
            "----- EVAL -----\n"
          ]
        },
        {
          "output_type": "stream",
          "name": "stderr",
          "text": [
            "100%|██████████| 32/32 [00:03<00:00,  8.35it/s]\n"
          ]
        },
        {
          "output_type": "stream",
          "name": "stdout",
          "text": [
            "  dev accuracy: 0.968\n",
            "  best classifier from epoch 1\n",
            "----- EVAL -----\n",
            "eval best classifier on devtest...\n"
          ]
        },
        {
          "output_type": "stream",
          "name": "stderr",
          "text": [
            "100%|██████████| 32/32 [00:03<00:00,  8.72it/s]\n"
          ]
        },
        {
          "output_type": "stream",
          "name": "stdout",
          "text": [
            "devtest accuracy: 0.975\n",
            "\n",
            "======== RUN 4 ======== \n",
            "EPOCH 1\n",
            "----- TRAIN -----\n"
          ]
        },
        {
          "output_type": "stream",
          "name": "stderr",
          "text": [
            "100%|██████████| 313/313 [00:41<00:00,  7.47it/s]\n"
          ]
        },
        {
          "output_type": "stream",
          "name": "stdout",
          "text": [
            "  epoch loss: 390.3639376461506\n",
            "----- EVAL -----\n"
          ]
        },
        {
          "output_type": "stream",
          "name": "stderr",
          "text": [
            "100%|██████████| 32/32 [00:04<00:00,  7.92it/s]\n"
          ]
        },
        {
          "output_type": "stream",
          "name": "stdout",
          "text": [
            "  dev accuracy: 0.972\n",
            "  best classifier from epoch 1\n",
            "----- EVAL -----\n",
            "eval best classifier on devtest...\n"
          ]
        },
        {
          "output_type": "stream",
          "name": "stderr",
          "text": [
            "100%|██████████| 32/32 [00:03<00:00,  8.30it/s]\n"
          ]
        },
        {
          "output_type": "stream",
          "name": "stdout",
          "text": [
            "devtest accuracy: 0.969\n",
            "\n",
            "======== RUN 5 ======== \n",
            "EPOCH 1\n",
            "----- TRAIN -----\n"
          ]
        },
        {
          "output_type": "stream",
          "name": "stderr",
          "text": [
            "100%|██████████| 313/313 [00:42<00:00,  7.37it/s]\n"
          ]
        },
        {
          "output_type": "stream",
          "name": "stdout",
          "text": [
            "  epoch loss: 502.01690328121185\n",
            "----- EVAL -----\n"
          ]
        },
        {
          "output_type": "stream",
          "name": "stderr",
          "text": [
            "100%|██████████| 32/32 [00:03<00:00,  8.32it/s]\n"
          ]
        },
        {
          "output_type": "stream",
          "name": "stdout",
          "text": [
            "  dev accuracy: 0.899\n",
            "  best classifier from epoch 1\n",
            "----- EVAL -----\n",
            "eval best classifier on devtest...\n"
          ]
        },
        {
          "output_type": "stream",
          "name": "stderr",
          "text": [
            "100%|██████████| 32/32 [00:03<00:00,  8.61it/s]"
          ]
        },
        {
          "output_type": "stream",
          "name": "stdout",
          "text": [
            "devtest accuracy: 0.889\n",
            "\n"
          ]
        },
        {
          "output_type": "stream",
          "name": "stderr",
          "text": [
            "\n"
          ]
        }
      ]
    },
    {
      "cell_type": "code",
      "source": [
        "print(final_dev_evals_bert_cls_frozen)\n",
        "print(devtest_evals_bert_cls_frozen)"
      ],
      "metadata": {
        "colab": {
          "base_uri": "https://localhost:8080/"
        },
        "id": "QJle6zxB7WIQ",
        "outputId": "4d16a090-42ab-4aae-d7d5-7aeb3608b0f6"
      },
      "execution_count": 27,
      "outputs": [
        {
          "output_type": "stream",
          "name": "stdout",
          "text": [
            "[0.962, 0.958, 0.968, 0.972, 0.899]\n",
            "[0.95, 0.955, 0.975, 0.969, 0.889]\n"
          ]
        }
      ]
    },
    {
      "cell_type": "code",
      "source": [
        "dev_accu_mean_bert_cls_frozen = np.mean(final_dev_evals_bert_cls_frozen)\n",
        "dev_accu_std_bert_cls_frozen = np.std(final_dev_evals_bert_cls_frozen)\n",
        "\n",
        "print(\n",
        "f'Across the 5 runs, the mean accuracy on the dev set is {round(dev_accu_mean_bert_cls_frozen, 4)}, \\\n",
        "with a standard deviation of {round(dev_accu_std_bert_cls_frozen, 4)}. \\\n",
        "\\nThe best-performing classifier (w.r.t. dev set accuracy) has an accuracy of \\\n",
        "{round(devtest_evals_bert_cls_frozen[np.argmax(final_dev_evals_bert_cls_frozen)], 4)} on the test set.'\n",
        ")"
      ],
      "metadata": {
        "colab": {
          "base_uri": "https://localhost:8080/"
        },
        "id": "nCZgDcZ8veJ-",
        "outputId": "d2fed8d3-c697-4f3f-e524-4a7527d81721"
      },
      "execution_count": 28,
      "outputs": [
        {
          "output_type": "stream",
          "name": "stdout",
          "text": [
            "Across the 5 runs, the mean accuracy on the dev set is 0.9518, with a standard deviation of 0.0268. \n",
            "The best-performing classifier (w.r.t. dev set accuracy) has an accuracy of 0.969 on the test set.\n"
          ]
        }
      ]
    },
    {
      "cell_type": "markdown",
      "source": [
        "## 2. mean-pooling and max-pooling across tokens"
      ],
      "metadata": {
        "id": "PUiLmJnWDD-L"
      }
    },
    {
      "cell_type": "markdown",
      "source": [
        "### mean-pooling"
      ],
      "metadata": {
        "id": "8zG8XpCDTqEN"
      }
    },
    {
      "cell_type": "code",
      "source": [
        "# run 1 epoch of training 5 times with random seeds\n",
        "\n",
        "\n",
        "# specify seeds for each run\n",
        "seeds = [42, 645, 234, 534, 56]\n",
        "\n",
        "# for storing dev and devtest accuracy of each run\n",
        "final_dev_evals_bert_mean_frozen = []\n",
        "devtest_evals_bert_mean_frozen = []\n",
        "\n",
        "\n",
        "for i, seed in enumerate(seeds):\n",
        "\n",
        "    print(f'======== RUN {i+1} ======== ')\n",
        "\n",
        "    # set random seed: https://pytorch.org/docs/stable/notes/randomness.html\n",
        "    torch.manual_seed(seed)\n",
        "    torch.cuda.manual_seed_all(seed)\n",
        "    torch.backends.cudnn.deterministic = True\n",
        "    torch.backends.cudnn.benchmark = False\n",
        "\n",
        "    # instantiate classifier for current run\n",
        "    classifier = Classifier(\n",
        "        in_size=bert_model.config.hidden_size,\n",
        "        layer_sizes=[classifier_hidden_size, datasets['train'].n_classes],\n",
        "        layer_acts=[nn.ReLU(), nn.Identity()]\n",
        "    ).to(bert_model.device)\n",
        "\n",
        "    # instantiate optimizer for current run\n",
        "    optimizer = torch.optim.Adam(classifier.parameters(), lr=5e-4)\n",
        "\n",
        "    # set loss function\n",
        "    loss_func = nn.CrossEntropyLoss()\n",
        "\n",
        "    # train and eval current classifier\n",
        "    _, _, _, final_dev_eval, devtest_eval = main_process(\n",
        "        classifier=classifier,\n",
        "        name='bert_mean_frozen_seed'+str(seed),\n",
        "        optimizer=optimizer,\n",
        "        criterion=loss_func,\n",
        "        dataloaders=dataloaders,\n",
        "        bert_model=bert_model,\n",
        "        pooling='mean',\n",
        "        max_epochs=1,\n",
        "        early_stopping=3\n",
        "    )\n",
        "    final_dev_evals_bert_mean_frozen.append(final_dev_eval)\n",
        "    devtest_evals_bert_mean_frozen.append(devtest_eval)"
      ],
      "metadata": {
        "colab": {
          "base_uri": "https://localhost:8080/"
        },
        "id": "64gyG-WbDKk7",
        "outputId": "2e94e3f3-0a0f-46b5-cdf6-adc932a05164"
      },
      "execution_count": 35,
      "outputs": [
        {
          "output_type": "stream",
          "name": "stdout",
          "text": [
            "======== RUN 1 ======== \n",
            "EPOCH 1\n",
            "----- TRAIN -----\n"
          ]
        },
        {
          "output_type": "stream",
          "name": "stderr",
          "text": [
            "100%|██████████| 313/313 [00:43<00:00,  7.21it/s]\n"
          ]
        },
        {
          "output_type": "stream",
          "name": "stdout",
          "text": [
            "  epoch loss: 379.73703303933144\n",
            "----- EVAL -----\n"
          ]
        },
        {
          "output_type": "stream",
          "name": "stderr",
          "text": [
            "100%|██████████| 32/32 [00:03<00:00,  8.31it/s]\n"
          ]
        },
        {
          "output_type": "stream",
          "name": "stdout",
          "text": [
            "  dev accuracy: 0.956\n",
            "  best classifier from epoch 1\n",
            "----- EVAL -----\n",
            "eval best classifier on devtest...\n"
          ]
        },
        {
          "output_type": "stream",
          "name": "stderr",
          "text": [
            "100%|██████████| 32/32 [00:03<00:00,  8.44it/s]\n"
          ]
        },
        {
          "output_type": "stream",
          "name": "stdout",
          "text": [
            "devtest accuracy: 0.959\n",
            "\n",
            "======== RUN 2 ======== \n",
            "EPOCH 1\n",
            "----- TRAIN -----\n"
          ]
        },
        {
          "output_type": "stream",
          "name": "stderr",
          "text": [
            "100%|██████████| 313/313 [00:45<00:00,  6.88it/s]\n"
          ]
        },
        {
          "output_type": "stream",
          "name": "stdout",
          "text": [
            "  epoch loss: 361.24872237443924\n",
            "----- EVAL -----\n"
          ]
        },
        {
          "output_type": "stream",
          "name": "stderr",
          "text": [
            "100%|██████████| 32/32 [00:06<00:00,  4.65it/s]\n"
          ]
        },
        {
          "output_type": "stream",
          "name": "stdout",
          "text": [
            "  dev accuracy: 0.966\n",
            "  best classifier from epoch 1\n",
            "----- EVAL -----\n",
            "eval best classifier on devtest...\n"
          ]
        },
        {
          "output_type": "stream",
          "name": "stderr",
          "text": [
            "100%|██████████| 32/32 [00:06<00:00,  4.81it/s]\n"
          ]
        },
        {
          "output_type": "stream",
          "name": "stdout",
          "text": [
            "devtest accuracy: 0.963\n",
            "\n",
            "======== RUN 3 ======== \n",
            "EPOCH 1\n",
            "----- TRAIN -----\n"
          ]
        },
        {
          "output_type": "stream",
          "name": "stderr",
          "text": [
            "100%|██████████| 313/313 [00:45<00:00,  6.85it/s]\n"
          ]
        },
        {
          "output_type": "stream",
          "name": "stdout",
          "text": [
            "  epoch loss: 346.2587603032589\n",
            "----- EVAL -----\n"
          ]
        },
        {
          "output_type": "stream",
          "name": "stderr",
          "text": [
            "100%|██████████| 32/32 [00:03<00:00,  8.49it/s]\n"
          ]
        },
        {
          "output_type": "stream",
          "name": "stdout",
          "text": [
            "  dev accuracy: 0.977\n",
            "  best classifier from epoch 1\n",
            "----- EVAL -----\n",
            "eval best classifier on devtest...\n"
          ]
        },
        {
          "output_type": "stream",
          "name": "stderr",
          "text": [
            "100%|██████████| 32/32 [00:03<00:00,  8.54it/s]\n"
          ]
        },
        {
          "output_type": "stream",
          "name": "stdout",
          "text": [
            "devtest accuracy: 0.973\n",
            "\n",
            "======== RUN 4 ======== \n",
            "EPOCH 1\n",
            "----- TRAIN -----\n"
          ]
        },
        {
          "output_type": "stream",
          "name": "stderr",
          "text": [
            "100%|██████████| 313/313 [00:41<00:00,  7.50it/s]\n"
          ]
        },
        {
          "output_type": "stream",
          "name": "stdout",
          "text": [
            "  epoch loss: 338.6590254753828\n",
            "----- EVAL -----\n"
          ]
        },
        {
          "output_type": "stream",
          "name": "stderr",
          "text": [
            "100%|██████████| 32/32 [00:03<00:00,  8.04it/s]\n"
          ]
        },
        {
          "output_type": "stream",
          "name": "stdout",
          "text": [
            "  dev accuracy: 0.973\n",
            "  best classifier from epoch 1\n",
            "----- EVAL -----\n",
            "eval best classifier on devtest...\n"
          ]
        },
        {
          "output_type": "stream",
          "name": "stderr",
          "text": [
            "100%|██████████| 32/32 [00:03<00:00,  8.02it/s]\n"
          ]
        },
        {
          "output_type": "stream",
          "name": "stdout",
          "text": [
            "devtest accuracy: 0.97\n",
            "\n",
            "======== RUN 5 ======== \n",
            "EPOCH 1\n",
            "----- TRAIN -----\n"
          ]
        },
        {
          "output_type": "stream",
          "name": "stderr",
          "text": [
            "100%|██████████| 313/313 [00:43<00:00,  7.22it/s]\n"
          ]
        },
        {
          "output_type": "stream",
          "name": "stdout",
          "text": [
            "  epoch loss: 380.0158703774214\n",
            "----- EVAL -----\n"
          ]
        },
        {
          "output_type": "stream",
          "name": "stderr",
          "text": [
            "100%|██████████| 32/32 [00:03<00:00,  8.31it/s]\n"
          ]
        },
        {
          "output_type": "stream",
          "name": "stdout",
          "text": [
            "  dev accuracy: 0.963\n",
            "  best classifier from epoch 1\n",
            "----- EVAL -----\n",
            "eval best classifier on devtest...\n"
          ]
        },
        {
          "output_type": "stream",
          "name": "stderr",
          "text": [
            "100%|██████████| 32/32 [00:03<00:00,  8.53it/s]"
          ]
        },
        {
          "output_type": "stream",
          "name": "stdout",
          "text": [
            "devtest accuracy: 0.948\n",
            "\n"
          ]
        },
        {
          "output_type": "stream",
          "name": "stderr",
          "text": [
            "\n"
          ]
        }
      ]
    },
    {
      "cell_type": "code",
      "source": [
        "print(final_dev_evals_bert_mean_frozen)\n",
        "print(devtest_evals_bert_mean_frozen)"
      ],
      "metadata": {
        "colab": {
          "base_uri": "https://localhost:8080/"
        },
        "outputId": "e7a1872e-6064-48aa-92bd-c6f5aab63b1a",
        "id": "HO9s8IhiUQuD"
      },
      "execution_count": 36,
      "outputs": [
        {
          "output_type": "stream",
          "name": "stdout",
          "text": [
            "[0.956, 0.966, 0.977, 0.973, 0.963]\n",
            "[0.959, 0.963, 0.973, 0.97, 0.948]\n"
          ]
        }
      ]
    },
    {
      "cell_type": "code",
      "source": [
        "dev_accu_mean_bert_mean_frozen = np.mean(final_dev_evals_bert_mean_frozen)\n",
        "dev_accu_std_bert_mean_frozen = np.std(final_dev_evals_bert_mean_frozen)\n",
        "\n",
        "print(\n",
        "f'Across the 5 runs, the mean accuracy on the dev set is {round(dev_accu_mean_bert_mean_frozen, 4)}, \\\n",
        "with a standard deviation of {round(dev_accu_std_bert_mean_frozen, 4)}. \\\n",
        "\\nThe best-performing classifier (w.r.t. dev set accuracy) has an accuracy of \\\n",
        "{round(devtest_evals_bert_mean_frozen[np.argmax(final_dev_evals_bert_mean_frozen)], 4)} on the test set.'\n",
        ")"
      ],
      "metadata": {
        "colab": {
          "base_uri": "https://localhost:8080/"
        },
        "outputId": "d08e3029-b222-431c-e456-4c7473c0cb14",
        "id": "PlEhwwkoUQuP"
      },
      "execution_count": 37,
      "outputs": [
        {
          "output_type": "stream",
          "name": "stdout",
          "text": [
            "Across the 5 runs, the mean accuracy on the dev set is 0.967, with a standard deviation of 0.0074. \n",
            "The best-performing classifier (w.r.t. dev set accuracy) has an accuracy of 0.973 on the test set.\n"
          ]
        }
      ]
    },
    {
      "cell_type": "markdown",
      "source": [
        "### max-pooling"
      ],
      "metadata": {
        "id": "qcDB_qZ-UDSB"
      }
    },
    {
      "cell_type": "code",
      "source": [
        "# run 1 epoch of training 5 times with random seeds\n",
        "\n",
        "\n",
        "# specify seeds for each run\n",
        "seeds = [42, 645, 234, 534, 56]\n",
        "\n",
        "# for storing dev and devtest accuracy of each run\n",
        "final_dev_evals_bert_max_frozen = []\n",
        "devtest_evals_bert_max_frozen = []\n",
        "\n",
        "\n",
        "for i, seed in enumerate(seeds):\n",
        "\n",
        "    print(f'======== RUN {i+1} ======== ')\n",
        "\n",
        "    # set random seed: https://pytorch.org/docs/stable/notes/randomness.html\n",
        "    torch.manual_seed(seed)\n",
        "    torch.cuda.manual_seed_all(seed)\n",
        "    torch.backends.cudnn.deterministic = True\n",
        "    torch.backends.cudnn.benchmark = False\n",
        "\n",
        "    # instantiate classifier for current run\n",
        "    classifier = Classifier(\n",
        "        in_size=bert_model.config.hidden_size,\n",
        "        layer_sizes=[classifier_hidden_size, datasets['train'].n_classes],\n",
        "        layer_acts=[nn.ReLU(), nn.Identity()]\n",
        "    ).to(bert_model.device)\n",
        "\n",
        "    # instantiate optimizer for current run\n",
        "    optimizer = torch.optim.Adam(classifier.parameters(), lr=5e-4)\n",
        "\n",
        "    # set loss function\n",
        "    loss_func = nn.CrossEntropyLoss()\n",
        "\n",
        "    # train and eval current classifier\n",
        "    _, _, _, final_dev_eval, devtest_eval = main_process(\n",
        "        classifier=classifier,\n",
        "        name='bert_max_frozen_seed'+str(seed),\n",
        "        optimizer=optimizer,\n",
        "        criterion=loss_func,\n",
        "        dataloaders=dataloaders,\n",
        "        bert_model=bert_model,\n",
        "        pooling='max',\n",
        "        max_epochs=1,\n",
        "        early_stopping=3\n",
        "    )\n",
        "    final_dev_evals_bert_max_frozen.append(final_dev_eval)\n",
        "    devtest_evals_bert_max_frozen.append(devtest_eval)"
      ],
      "metadata": {
        "colab": {
          "base_uri": "https://localhost:8080/"
        },
        "id": "jxrc1O59-aFu",
        "outputId": "110a7aae-a649-49c3-a1f9-3a84a0151b35"
      },
      "execution_count": 38,
      "outputs": [
        {
          "output_type": "stream",
          "name": "stdout",
          "text": [
            "======== RUN 1 ======== \n",
            "EPOCH 1\n",
            "----- TRAIN -----\n"
          ]
        },
        {
          "output_type": "stream",
          "name": "stderr",
          "text": [
            "100%|██████████| 313/313 [00:43<00:00,  7.22it/s]\n"
          ]
        },
        {
          "output_type": "stream",
          "name": "stdout",
          "text": [
            "  epoch loss: 611.1268037557602\n",
            "----- EVAL -----\n"
          ]
        },
        {
          "output_type": "stream",
          "name": "stderr",
          "text": [
            "100%|██████████| 32/32 [00:03<00:00,  8.30it/s]\n"
          ]
        },
        {
          "output_type": "stream",
          "name": "stdout",
          "text": [
            "  dev accuracy: 0.751\n",
            "  best classifier from epoch 1\n",
            "----- EVAL -----\n",
            "eval best classifier on devtest...\n"
          ]
        },
        {
          "output_type": "stream",
          "name": "stderr",
          "text": [
            "100%|██████████| 32/32 [00:04<00:00,  7.95it/s]\n"
          ]
        },
        {
          "output_type": "stream",
          "name": "stdout",
          "text": [
            "devtest accuracy: 0.746\n",
            "\n",
            "======== RUN 2 ======== \n",
            "EPOCH 1\n",
            "----- TRAIN -----\n"
          ]
        },
        {
          "output_type": "stream",
          "name": "stderr",
          "text": [
            "100%|██████████| 313/313 [00:43<00:00,  7.15it/s]\n"
          ]
        },
        {
          "output_type": "stream",
          "name": "stdout",
          "text": [
            "  epoch loss: 649.1984082460403\n",
            "----- EVAL -----\n"
          ]
        },
        {
          "output_type": "stream",
          "name": "stderr",
          "text": [
            "100%|██████████| 32/32 [00:03<00:00,  8.44it/s]\n"
          ]
        },
        {
          "output_type": "stream",
          "name": "stdout",
          "text": [
            "  dev accuracy: 0.634\n",
            "  best classifier from epoch 1\n",
            "----- EVAL -----\n",
            "eval best classifier on devtest...\n"
          ]
        },
        {
          "output_type": "stream",
          "name": "stderr",
          "text": [
            "100%|██████████| 32/32 [00:03<00:00,  8.57it/s]\n"
          ]
        },
        {
          "output_type": "stream",
          "name": "stdout",
          "text": [
            "devtest accuracy: 0.63\n",
            "\n",
            "======== RUN 3 ======== \n",
            "EPOCH 1\n",
            "----- TRAIN -----\n"
          ]
        },
        {
          "output_type": "stream",
          "name": "stderr",
          "text": [
            "100%|██████████| 313/313 [00:42<00:00,  7.44it/s]\n"
          ]
        },
        {
          "output_type": "stream",
          "name": "stdout",
          "text": [
            "  epoch loss: 688.3176131248474\n",
            "----- EVAL -----\n"
          ]
        },
        {
          "output_type": "stream",
          "name": "stderr",
          "text": [
            "100%|██████████| 32/32 [00:03<00:00,  8.47it/s]\n"
          ]
        },
        {
          "output_type": "stream",
          "name": "stdout",
          "text": [
            "  dev accuracy: 0.5\n",
            "  best classifier from epoch 1\n",
            "----- EVAL -----\n",
            "eval best classifier on devtest...\n"
          ]
        },
        {
          "output_type": "stream",
          "name": "stderr",
          "text": [
            "100%|██████████| 32/32 [00:03<00:00,  8.55it/s]\n"
          ]
        },
        {
          "output_type": "stream",
          "name": "stdout",
          "text": [
            "devtest accuracy: 0.497\n",
            "\n",
            "======== RUN 4 ======== \n",
            "EPOCH 1\n",
            "----- TRAIN -----\n"
          ]
        },
        {
          "output_type": "stream",
          "name": "stderr",
          "text": [
            "100%|██████████| 313/313 [00:42<00:00,  7.37it/s]\n"
          ]
        },
        {
          "output_type": "stream",
          "name": "stdout",
          "text": [
            "  epoch loss: 680.7080105543137\n",
            "----- EVAL -----\n"
          ]
        },
        {
          "output_type": "stream",
          "name": "stderr",
          "text": [
            "100%|██████████| 32/32 [00:03<00:00,  8.31it/s]\n"
          ]
        },
        {
          "output_type": "stream",
          "name": "stdout",
          "text": [
            "  dev accuracy: 0.515\n",
            "  best classifier from epoch 1\n",
            "----- EVAL -----\n",
            "eval best classifier on devtest...\n"
          ]
        },
        {
          "output_type": "stream",
          "name": "stderr",
          "text": [
            "100%|██████████| 32/32 [00:03<00:00,  8.36it/s]\n"
          ]
        },
        {
          "output_type": "stream",
          "name": "stdout",
          "text": [
            "devtest accuracy: 0.518\n",
            "\n",
            "======== RUN 5 ======== \n",
            "EPOCH 1\n",
            "----- TRAIN -----\n"
          ]
        },
        {
          "output_type": "stream",
          "name": "stderr",
          "text": [
            "100%|██████████| 313/313 [00:43<00:00,  7.28it/s]\n"
          ]
        },
        {
          "output_type": "stream",
          "name": "stdout",
          "text": [
            "  epoch loss: 618.6238803863525\n",
            "----- EVAL -----\n"
          ]
        },
        {
          "output_type": "stream",
          "name": "stderr",
          "text": [
            "100%|██████████| 32/32 [00:03<00:00,  8.50it/s]\n"
          ]
        },
        {
          "output_type": "stream",
          "name": "stdout",
          "text": [
            "  dev accuracy: 0.637\n",
            "  best classifier from epoch 1\n",
            "----- EVAL -----\n",
            "eval best classifier on devtest...\n"
          ]
        },
        {
          "output_type": "stream",
          "name": "stderr",
          "text": [
            "100%|██████████| 32/32 [00:03<00:00,  8.65it/s]"
          ]
        },
        {
          "output_type": "stream",
          "name": "stdout",
          "text": [
            "devtest accuracy: 0.633\n",
            "\n"
          ]
        },
        {
          "output_type": "stream",
          "name": "stderr",
          "text": [
            "\n"
          ]
        }
      ]
    },
    {
      "cell_type": "code",
      "source": [
        "print(final_dev_evals_bert_max_frozen)\n",
        "print(devtest_evals_bert_max_frozen)"
      ],
      "metadata": {
        "colab": {
          "base_uri": "https://localhost:8080/"
        },
        "outputId": "b48fff95-39b5-4e0e-dca8-24191e967af1",
        "id": "U9apalraVgd4"
      },
      "execution_count": 39,
      "outputs": [
        {
          "output_type": "stream",
          "name": "stdout",
          "text": [
            "[0.751, 0.634, 0.5, 0.515, 0.637]\n",
            "[0.746, 0.63, 0.497, 0.518, 0.633]\n"
          ]
        }
      ]
    },
    {
      "cell_type": "code",
      "source": [
        "dev_accu_mean_bert_max_frozen = np.mean(final_dev_evals_bert_max_frozen)\n",
        "dev_accu_std_bert_max_frozen = np.std(final_dev_evals_bert_max_frozen)\n",
        "\n",
        "print(\n",
        "f'Across the 5 runs, the mean accuracy on the dev set is {round(dev_accu_mean_bert_max_frozen, 4)}, \\\n",
        "with a standard deviation of {round(dev_accu_std_bert_max_frozen, 4)}. \\\n",
        "\\nThe best-performing classifier (w.r.t. dev set accuracy) has an accuracy of \\\n",
        "{round(devtest_evals_bert_max_frozen[np.argmax(final_dev_evals_bert_max_frozen)], 4)} on the test set.'\n",
        ")"
      ],
      "metadata": {
        "colab": {
          "base_uri": "https://localhost:8080/"
        },
        "outputId": "0ee769d6-189d-47e0-cb6b-55ce54937df0",
        "id": "Dft6YM6kVgeE"
      },
      "execution_count": 40,
      "outputs": [
        {
          "output_type": "stream",
          "name": "stdout",
          "text": [
            "Across the 5 runs, the mean accuracy on the dev set is 0.6074, with a standard deviation of 0.092. \n",
            "The best-performing classifier (w.r.t. dev set accuracy) has an accuracy of 0.746 on the test set.\n"
          ]
        }
      ]
    },
    {
      "cell_type": "markdown",
      "source": [
        "## 3. comparing pooling techniques\n",
        "\n",
        "- As shown in the above results, mean-pooling achieved the highest sentence classification accuracy with frozen BERT features.\n",
        "- First-token pooling has quite similar performance to mean-pooling, but slightly worse (by only around 1~2%).\n",
        "- Max-pooling had the lowest accuracy, and its classification accuracy was 20~35% lower than that of mean-pooling and first-token pooling."
      ],
      "metadata": {
        "id": "MYWN39jVDTHz"
      }
    },
    {
      "cell_type": "markdown",
      "source": [
        "## 4. BERT fine-tuning with [CLS] features"
      ],
      "metadata": {
        "id": "M8D6jqofIFCt"
      }
    },
    {
      "cell_type": "code",
      "source": [
        "# check BERT last two layers (layers 10 and 11)\n",
        "for name, param in bert_model.named_parameters():\n",
        "    if name.startswith('encoder.layer.10') or name.startswith('encoder.layer.11'): print(name)"
      ],
      "metadata": {
        "colab": {
          "base_uri": "https://localhost:8080/"
        },
        "id": "JCRnhmkLZPzq",
        "outputId": "42277d44-3b9a-4acf-ce25-ffd668b6e63c"
      },
      "execution_count": 11,
      "outputs": [
        {
          "output_type": "stream",
          "name": "stdout",
          "text": [
            "encoder.layer.10.attention.self.query.weight\n",
            "encoder.layer.10.attention.self.query.bias\n",
            "encoder.layer.10.attention.self.key.weight\n",
            "encoder.layer.10.attention.self.key.bias\n",
            "encoder.layer.10.attention.self.value.weight\n",
            "encoder.layer.10.attention.self.value.bias\n",
            "encoder.layer.10.attention.output.dense.weight\n",
            "encoder.layer.10.attention.output.dense.bias\n",
            "encoder.layer.10.attention.output.LayerNorm.weight\n",
            "encoder.layer.10.attention.output.LayerNorm.bias\n",
            "encoder.layer.10.intermediate.dense.weight\n",
            "encoder.layer.10.intermediate.dense.bias\n",
            "encoder.layer.10.output.dense.weight\n",
            "encoder.layer.10.output.dense.bias\n",
            "encoder.layer.10.output.LayerNorm.weight\n",
            "encoder.layer.10.output.LayerNorm.bias\n",
            "encoder.layer.11.attention.self.query.weight\n",
            "encoder.layer.11.attention.self.query.bias\n",
            "encoder.layer.11.attention.self.key.weight\n",
            "encoder.layer.11.attention.self.key.bias\n",
            "encoder.layer.11.attention.self.value.weight\n",
            "encoder.layer.11.attention.self.value.bias\n",
            "encoder.layer.11.attention.output.dense.weight\n",
            "encoder.layer.11.attention.output.dense.bias\n",
            "encoder.layer.11.attention.output.LayerNorm.weight\n",
            "encoder.layer.11.attention.output.LayerNorm.bias\n",
            "encoder.layer.11.intermediate.dense.weight\n",
            "encoder.layer.11.intermediate.dense.bias\n",
            "encoder.layer.11.output.dense.weight\n",
            "encoder.layer.11.output.dense.bias\n",
            "encoder.layer.11.output.LayerNorm.weight\n",
            "encoder.layer.11.output.LayerNorm.bias\n"
          ]
        }
      ]
    },
    {
      "cell_type": "code",
      "source": [
        "# run 1 epoch of training 5 times with random seeds\n",
        "\n",
        "\n",
        "# specify seeds for each run\n",
        "seeds = [42, 645, 234, 534, 56]\n",
        "\n",
        "# for storing dev and devtest accuracy of each run\n",
        "final_dev_evals_bert_cls_tune = []\n",
        "devtest_evals_bert_cls_tune = []\n",
        "\n",
        "\n",
        "for i, seed in enumerate(seeds):\n",
        "\n",
        "    print(f'======== RUN {i+1} ======== ')\n",
        "\n",
        "    # set random seed: https://pytorch.org/docs/stable/notes/randomness.html\n",
        "    torch.manual_seed(seed)\n",
        "    torch.cuda.manual_seed_all(seed)\n",
        "    torch.backends.cudnn.deterministic = True\n",
        "    torch.backends.cudnn.benchmark = False\n",
        "\n",
        "    ################# instantiate BERT model to be fine-tuned #################\n",
        "    bert_model_tune = AutoModel.from_pretrained('bert-base-cased')\n",
        "    if torch.cuda.is_available():  # use GPU if available\n",
        "        bert_model_tune = bert_model_tune.cuda()\n",
        "    ###########################################################################\n",
        "\n",
        "    # instantiate classifier for current run\n",
        "    classifier = Classifier(\n",
        "        in_size=bert_model.config.hidden_size,\n",
        "        layer_sizes=[classifier_hidden_size, datasets['train'].n_classes],\n",
        "        layer_acts=[nn.ReLU(), nn.Identity()]\n",
        "    ).to(bert_model.device)\n",
        "\n",
        "    ########## add BERT last two layers' parameters to params to be optimized ##########\n",
        "    params = list()\n",
        "    for name, param in bert_model.named_parameters():\n",
        "        if name.startswith('encoder.layer.10') or name.startswith('encoder.layer.11'): params.append(param)\n",
        "\n",
        "    # instantiate optimizer for current run\n",
        "    optimizer = torch.optim.Adam(params + list(classifier.parameters()), lr=5e-4)\n",
        "    ####################################################################################\n",
        "\n",
        "    # set loss function\n",
        "    loss_func = nn.CrossEntropyLoss()\n",
        "\n",
        "    # train and eval current classifier\n",
        "    _, _, _, final_dev_eval, devtest_eval = main_process(\n",
        "        classifier=classifier,\n",
        "        name='bert_cls_tune_seed'+str(seed),\n",
        "        optimizer=optimizer,\n",
        "        criterion=loss_func,\n",
        "        dataloaders=dataloaders,\n",
        "        bert_model=bert_model_tune,\n",
        "        pooling='first',\n",
        "        max_epochs=1,\n",
        "        early_stopping=3\n",
        "    )\n",
        "    final_dev_evals_bert_cls_tune.append(final_dev_eval)\n",
        "    devtest_evals_bert_cls_tune.append(devtest_eval)"
      ],
      "metadata": {
        "colab": {
          "base_uri": "https://localhost:8080/"
        },
        "id": "Uo_mTztUi2VO",
        "outputId": "d24eabae-79bb-4cee-eeb1-29f580095a44"
      },
      "execution_count": 12,
      "outputs": [
        {
          "output_type": "stream",
          "name": "stdout",
          "text": [
            "======== RUN 1 ======== \n",
            "EPOCH 1\n",
            "----- TRAIN -----\n"
          ]
        },
        {
          "output_type": "stream",
          "name": "stderr",
          "text": [
            "100%|██████████| 313/313 [00:41<00:00,  7.51it/s]\n"
          ]
        },
        {
          "output_type": "stream",
          "name": "stdout",
          "text": [
            "  epoch loss: 392.02118411660194\n",
            "----- EVAL -----\n"
          ]
        },
        {
          "output_type": "stream",
          "name": "stderr",
          "text": [
            "100%|██████████| 32/32 [00:03<00:00,  8.42it/s]\n"
          ]
        },
        {
          "output_type": "stream",
          "name": "stdout",
          "text": [
            "  dev accuracy: 0.967\n",
            "  best classifier from epoch 1\n",
            "----- EVAL -----\n",
            "eval best classifier on devtest...\n"
          ]
        },
        {
          "output_type": "stream",
          "name": "stderr",
          "text": [
            "100%|██████████| 32/32 [00:03<00:00,  8.80it/s]\n"
          ]
        },
        {
          "output_type": "stream",
          "name": "stdout",
          "text": [
            "devtest accuracy: 0.973\n",
            "\n",
            "======== RUN 2 ======== \n",
            "EPOCH 1\n",
            "----- TRAIN -----\n"
          ]
        },
        {
          "output_type": "stream",
          "name": "stderr",
          "text": [
            "100%|██████████| 313/313 [00:44<00:00,  7.11it/s]\n"
          ]
        },
        {
          "output_type": "stream",
          "name": "stdout",
          "text": [
            "  epoch loss: 389.5255144238472\n",
            "----- EVAL -----\n"
          ]
        },
        {
          "output_type": "stream",
          "name": "stderr",
          "text": [
            "100%|██████████| 32/32 [00:04<00:00,  7.80it/s]\n"
          ]
        },
        {
          "output_type": "stream",
          "name": "stdout",
          "text": [
            "  dev accuracy: 0.966\n",
            "  best classifier from epoch 1\n",
            "----- EVAL -----\n",
            "eval best classifier on devtest...\n"
          ]
        },
        {
          "output_type": "stream",
          "name": "stderr",
          "text": [
            "100%|██████████| 32/32 [00:03<00:00,  8.00it/s]\n"
          ]
        },
        {
          "output_type": "stream",
          "name": "stdout",
          "text": [
            "devtest accuracy: 0.964\n",
            "\n",
            "======== RUN 3 ======== \n",
            "EPOCH 1\n",
            "----- TRAIN -----\n"
          ]
        },
        {
          "output_type": "stream",
          "name": "stderr",
          "text": [
            "100%|██████████| 313/313 [00:44<00:00,  6.97it/s]\n"
          ]
        },
        {
          "output_type": "stream",
          "name": "stdout",
          "text": [
            "  epoch loss: 428.09788951277733\n",
            "----- EVAL -----\n"
          ]
        },
        {
          "output_type": "stream",
          "name": "stderr",
          "text": [
            "100%|██████████| 32/32 [00:03<00:00,  8.07it/s]\n"
          ]
        },
        {
          "output_type": "stream",
          "name": "stdout",
          "text": [
            "  dev accuracy: 0.973\n",
            "  best classifier from epoch 1\n",
            "----- EVAL -----\n",
            "eval best classifier on devtest...\n"
          ]
        },
        {
          "output_type": "stream",
          "name": "stderr",
          "text": [
            "100%|██████████| 32/32 [00:03<00:00,  8.05it/s]\n"
          ]
        },
        {
          "output_type": "stream",
          "name": "stdout",
          "text": [
            "devtest accuracy: 0.972\n",
            "\n",
            "======== RUN 4 ======== \n",
            "EPOCH 1\n",
            "----- TRAIN -----\n"
          ]
        },
        {
          "output_type": "stream",
          "name": "stderr",
          "text": [
            "100%|██████████| 313/313 [00:44<00:00,  7.09it/s]\n"
          ]
        },
        {
          "output_type": "stream",
          "name": "stdout",
          "text": [
            "  epoch loss: 432.39132446050644\n",
            "----- EVAL -----\n"
          ]
        },
        {
          "output_type": "stream",
          "name": "stderr",
          "text": [
            "100%|██████████| 32/32 [00:04<00:00,  7.72it/s]\n"
          ]
        },
        {
          "output_type": "stream",
          "name": "stdout",
          "text": [
            "  dev accuracy: 0.939\n",
            "  best classifier from epoch 1\n",
            "----- EVAL -----\n",
            "eval best classifier on devtest...\n"
          ]
        },
        {
          "output_type": "stream",
          "name": "stderr",
          "text": [
            "100%|██████████| 32/32 [00:04<00:00,  7.74it/s]\n"
          ]
        },
        {
          "output_type": "stream",
          "name": "stdout",
          "text": [
            "devtest accuracy: 0.931\n",
            "\n",
            "======== RUN 5 ======== \n",
            "EPOCH 1\n",
            "----- TRAIN -----\n"
          ]
        },
        {
          "output_type": "stream",
          "name": "stderr",
          "text": [
            "100%|██████████| 313/313 [00:43<00:00,  7.13it/s]\n"
          ]
        },
        {
          "output_type": "stream",
          "name": "stdout",
          "text": [
            "  epoch loss: 396.9234875738621\n",
            "----- EVAL -----\n"
          ]
        },
        {
          "output_type": "stream",
          "name": "stderr",
          "text": [
            "100%|██████████| 32/32 [00:03<00:00,  8.00it/s]\n"
          ]
        },
        {
          "output_type": "stream",
          "name": "stdout",
          "text": [
            "  dev accuracy: 0.969\n",
            "  best classifier from epoch 1\n",
            "----- EVAL -----\n",
            "eval best classifier on devtest...\n"
          ]
        },
        {
          "output_type": "stream",
          "name": "stderr",
          "text": [
            "100%|██████████| 32/32 [00:03<00:00,  8.25it/s]"
          ]
        },
        {
          "output_type": "stream",
          "name": "stdout",
          "text": [
            "devtest accuracy: 0.972\n",
            "\n"
          ]
        },
        {
          "output_type": "stream",
          "name": "stderr",
          "text": [
            "\n"
          ]
        }
      ]
    },
    {
      "cell_type": "code",
      "source": [
        "print(final_dev_evals_bert_cls_tune)\n",
        "print(devtest_evals_bert_cls_tune)"
      ],
      "metadata": {
        "colab": {
          "base_uri": "https://localhost:8080/"
        },
        "outputId": "af51a4e4-9cd1-47f9-f40f-79715ecd9940",
        "id": "z7X5NwxyoMEw"
      },
      "execution_count": 15,
      "outputs": [
        {
          "output_type": "stream",
          "name": "stdout",
          "text": [
            "[0.967, 0.966, 0.973, 0.939, 0.969]\n",
            "[0.973, 0.964, 0.972, 0.931, 0.972]\n"
          ]
        }
      ]
    },
    {
      "cell_type": "code",
      "source": [
        "dev_accu_mean_bert_cls_tune = np.mean(final_dev_evals_bert_cls_tune)\n",
        "dev_accu_std_bert_cls_tune = np.std(final_dev_evals_bert_cls_tune)\n",
        "\n",
        "print(\n",
        "f'Across the 5 runs, the mean accuracy on the dev set is {round(dev_accu_mean_bert_cls_tune, 4)}, \\\n",
        "with a standard deviation of {round(dev_accu_std_bert_cls_tune, 4)}. \\\n",
        "\\nThe best-performing classifier (w.r.t. dev set accuracy) has an accuracy of \\\n",
        "{round(devtest_evals_bert_cls_tune[np.argmax(final_dev_evals_bert_cls_tune)], 4)} on the test set.'\n",
        ")"
      ],
      "metadata": {
        "colab": {
          "base_uri": "https://localhost:8080/"
        },
        "outputId": "3b07acbc-c054-4f3f-8b5c-069438c2dd55",
        "id": "Fb938mseoME8"
      },
      "execution_count": 16,
      "outputs": [
        {
          "output_type": "stream",
          "name": "stdout",
          "text": [
            "Across the 5 runs, the mean accuracy on the dev set is 0.9628, with a standard deviation of 0.0121. \n",
            "The best-performing classifier (w.r.t. dev set accuracy) has an accuracy of 0.972 on the test set.\n"
          ]
        }
      ]
    },
    {
      "cell_type": "markdown",
      "source": [
        "- Fine-tuning BERT with [CLS] features produced slightly better classification accuracy compared to using frozen BERT [CLS] features.\n",
        "- However, classification accuracy after fine-tuning BERT with [CLS] features did not exceed mean-pooling with frozen BERT features.\n",
        "- Classification accuracy after fine-tuning BERT with [CLS] features still exceeded max-pooling with frozen BERT features by far."
      ],
      "metadata": {
        "id": "suShnNEwqUyw"
      }
    },
    {
      "cell_type": "markdown",
      "source": [
        "## 5. GPT-2"
      ],
      "metadata": {
        "id": "Wxf6dTi4DaKi"
      }
    },
    {
      "cell_type": "code",
      "source": [],
      "metadata": {
        "id": "iK_qpUqzDZrO"
      },
      "execution_count": null,
      "outputs": []
    }
  ]
}