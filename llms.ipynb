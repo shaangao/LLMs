{
  "nbformat": 4,
  "nbformat_minor": 0,
  "metadata": {
    "colab": {
      "provenance": [],
      "toc_visible": true,
      "gpuType": "T4",
      "include_colab_link": true
    },
    "kernelspec": {
      "name": "python3",
      "display_name": "Python 3"
    },
    "language_info": {
      "name": "python"
    },
    "widgets": {
      "application/vnd.jupyter.widget-state+json": {
        "d7c4a0e85897467ea68c1b1135e656d2": {
          "model_module": "@jupyter-widgets/controls",
          "model_name": "HBoxModel",
          "model_module_version": "1.5.0",
          "state": {
            "_dom_classes": [],
            "_model_module": "@jupyter-widgets/controls",
            "_model_module_version": "1.5.0",
            "_model_name": "HBoxModel",
            "_view_count": null,
            "_view_module": "@jupyter-widgets/controls",
            "_view_module_version": "1.5.0",
            "_view_name": "HBoxView",
            "box_style": "",
            "children": [
              "IPY_MODEL_8f71687024a647d684e8c69cf6268c7e",
              "IPY_MODEL_5361323abfd34536a9dfde7fe7a8f165",
              "IPY_MODEL_ab184d8e258a49e6b3f3a3f7fd0614cd"
            ],
            "layout": "IPY_MODEL_cfafc09703af47b9af7c2391d7c4c37c"
          }
        },
        "8f71687024a647d684e8c69cf6268c7e": {
          "model_module": "@jupyter-widgets/controls",
          "model_name": "HTMLModel",
          "model_module_version": "1.5.0",
          "state": {
            "_dom_classes": [],
            "_model_module": "@jupyter-widgets/controls",
            "_model_module_version": "1.5.0",
            "_model_name": "HTMLModel",
            "_view_count": null,
            "_view_module": "@jupyter-widgets/controls",
            "_view_module_version": "1.5.0",
            "_view_name": "HTMLView",
            "description": "",
            "description_tooltip": null,
            "layout": "IPY_MODEL_e3c2cff4a0b44a29a2303b192395c806",
            "placeholder": "​",
            "style": "IPY_MODEL_b2bdcd55270f43a9b01466a8b5e6c4c1",
            "value": "tokenizer_config.json: 100%"
          }
        },
        "5361323abfd34536a9dfde7fe7a8f165": {
          "model_module": "@jupyter-widgets/controls",
          "model_name": "FloatProgressModel",
          "model_module_version": "1.5.0",
          "state": {
            "_dom_classes": [],
            "_model_module": "@jupyter-widgets/controls",
            "_model_module_version": "1.5.0",
            "_model_name": "FloatProgressModel",
            "_view_count": null,
            "_view_module": "@jupyter-widgets/controls",
            "_view_module_version": "1.5.0",
            "_view_name": "ProgressView",
            "bar_style": "success",
            "description": "",
            "description_tooltip": null,
            "layout": "IPY_MODEL_c535c59332a54ad1b44d15516c3f4692",
            "max": 29,
            "min": 0,
            "orientation": "horizontal",
            "style": "IPY_MODEL_e38174792b2743c0b5643e2d781d0bd4",
            "value": 29
          }
        },
        "ab184d8e258a49e6b3f3a3f7fd0614cd": {
          "model_module": "@jupyter-widgets/controls",
          "model_name": "HTMLModel",
          "model_module_version": "1.5.0",
          "state": {
            "_dom_classes": [],
            "_model_module": "@jupyter-widgets/controls",
            "_model_module_version": "1.5.0",
            "_model_name": "HTMLModel",
            "_view_count": null,
            "_view_module": "@jupyter-widgets/controls",
            "_view_module_version": "1.5.0",
            "_view_name": "HTMLView",
            "description": "",
            "description_tooltip": null,
            "layout": "IPY_MODEL_9807ada8fcc54a13b2189aa48f6f5cd5",
            "placeholder": "​",
            "style": "IPY_MODEL_577a7f2f14e54800a3e1684fd3c3a80e",
            "value": " 29.0/29.0 [00:00&lt;00:00, 1.69kB/s]"
          }
        },
        "cfafc09703af47b9af7c2391d7c4c37c": {
          "model_module": "@jupyter-widgets/base",
          "model_name": "LayoutModel",
          "model_module_version": "1.2.0",
          "state": {
            "_model_module": "@jupyter-widgets/base",
            "_model_module_version": "1.2.0",
            "_model_name": "LayoutModel",
            "_view_count": null,
            "_view_module": "@jupyter-widgets/base",
            "_view_module_version": "1.2.0",
            "_view_name": "LayoutView",
            "align_content": null,
            "align_items": null,
            "align_self": null,
            "border": null,
            "bottom": null,
            "display": null,
            "flex": null,
            "flex_flow": null,
            "grid_area": null,
            "grid_auto_columns": null,
            "grid_auto_flow": null,
            "grid_auto_rows": null,
            "grid_column": null,
            "grid_gap": null,
            "grid_row": null,
            "grid_template_areas": null,
            "grid_template_columns": null,
            "grid_template_rows": null,
            "height": null,
            "justify_content": null,
            "justify_items": null,
            "left": null,
            "margin": null,
            "max_height": null,
            "max_width": null,
            "min_height": null,
            "min_width": null,
            "object_fit": null,
            "object_position": null,
            "order": null,
            "overflow": null,
            "overflow_x": null,
            "overflow_y": null,
            "padding": null,
            "right": null,
            "top": null,
            "visibility": null,
            "width": null
          }
        },
        "e3c2cff4a0b44a29a2303b192395c806": {
          "model_module": "@jupyter-widgets/base",
          "model_name": "LayoutModel",
          "model_module_version": "1.2.0",
          "state": {
            "_model_module": "@jupyter-widgets/base",
            "_model_module_version": "1.2.0",
            "_model_name": "LayoutModel",
            "_view_count": null,
            "_view_module": "@jupyter-widgets/base",
            "_view_module_version": "1.2.0",
            "_view_name": "LayoutView",
            "align_content": null,
            "align_items": null,
            "align_self": null,
            "border": null,
            "bottom": null,
            "display": null,
            "flex": null,
            "flex_flow": null,
            "grid_area": null,
            "grid_auto_columns": null,
            "grid_auto_flow": null,
            "grid_auto_rows": null,
            "grid_column": null,
            "grid_gap": null,
            "grid_row": null,
            "grid_template_areas": null,
            "grid_template_columns": null,
            "grid_template_rows": null,
            "height": null,
            "justify_content": null,
            "justify_items": null,
            "left": null,
            "margin": null,
            "max_height": null,
            "max_width": null,
            "min_height": null,
            "min_width": null,
            "object_fit": null,
            "object_position": null,
            "order": null,
            "overflow": null,
            "overflow_x": null,
            "overflow_y": null,
            "padding": null,
            "right": null,
            "top": null,
            "visibility": null,
            "width": null
          }
        },
        "b2bdcd55270f43a9b01466a8b5e6c4c1": {
          "model_module": "@jupyter-widgets/controls",
          "model_name": "DescriptionStyleModel",
          "model_module_version": "1.5.0",
          "state": {
            "_model_module": "@jupyter-widgets/controls",
            "_model_module_version": "1.5.0",
            "_model_name": "DescriptionStyleModel",
            "_view_count": null,
            "_view_module": "@jupyter-widgets/base",
            "_view_module_version": "1.2.0",
            "_view_name": "StyleView",
            "description_width": ""
          }
        },
        "c535c59332a54ad1b44d15516c3f4692": {
          "model_module": "@jupyter-widgets/base",
          "model_name": "LayoutModel",
          "model_module_version": "1.2.0",
          "state": {
            "_model_module": "@jupyter-widgets/base",
            "_model_module_version": "1.2.0",
            "_model_name": "LayoutModel",
            "_view_count": null,
            "_view_module": "@jupyter-widgets/base",
            "_view_module_version": "1.2.0",
            "_view_name": "LayoutView",
            "align_content": null,
            "align_items": null,
            "align_self": null,
            "border": null,
            "bottom": null,
            "display": null,
            "flex": null,
            "flex_flow": null,
            "grid_area": null,
            "grid_auto_columns": null,
            "grid_auto_flow": null,
            "grid_auto_rows": null,
            "grid_column": null,
            "grid_gap": null,
            "grid_row": null,
            "grid_template_areas": null,
            "grid_template_columns": null,
            "grid_template_rows": null,
            "height": null,
            "justify_content": null,
            "justify_items": null,
            "left": null,
            "margin": null,
            "max_height": null,
            "max_width": null,
            "min_height": null,
            "min_width": null,
            "object_fit": null,
            "object_position": null,
            "order": null,
            "overflow": null,
            "overflow_x": null,
            "overflow_y": null,
            "padding": null,
            "right": null,
            "top": null,
            "visibility": null,
            "width": null
          }
        },
        "e38174792b2743c0b5643e2d781d0bd4": {
          "model_module": "@jupyter-widgets/controls",
          "model_name": "ProgressStyleModel",
          "model_module_version": "1.5.0",
          "state": {
            "_model_module": "@jupyter-widgets/controls",
            "_model_module_version": "1.5.0",
            "_model_name": "ProgressStyleModel",
            "_view_count": null,
            "_view_module": "@jupyter-widgets/base",
            "_view_module_version": "1.2.0",
            "_view_name": "StyleView",
            "bar_color": null,
            "description_width": ""
          }
        },
        "9807ada8fcc54a13b2189aa48f6f5cd5": {
          "model_module": "@jupyter-widgets/base",
          "model_name": "LayoutModel",
          "model_module_version": "1.2.0",
          "state": {
            "_model_module": "@jupyter-widgets/base",
            "_model_module_version": "1.2.0",
            "_model_name": "LayoutModel",
            "_view_count": null,
            "_view_module": "@jupyter-widgets/base",
            "_view_module_version": "1.2.0",
            "_view_name": "LayoutView",
            "align_content": null,
            "align_items": null,
            "align_self": null,
            "border": null,
            "bottom": null,
            "display": null,
            "flex": null,
            "flex_flow": null,
            "grid_area": null,
            "grid_auto_columns": null,
            "grid_auto_flow": null,
            "grid_auto_rows": null,
            "grid_column": null,
            "grid_gap": null,
            "grid_row": null,
            "grid_template_areas": null,
            "grid_template_columns": null,
            "grid_template_rows": null,
            "height": null,
            "justify_content": null,
            "justify_items": null,
            "left": null,
            "margin": null,
            "max_height": null,
            "max_width": null,
            "min_height": null,
            "min_width": null,
            "object_fit": null,
            "object_position": null,
            "order": null,
            "overflow": null,
            "overflow_x": null,
            "overflow_y": null,
            "padding": null,
            "right": null,
            "top": null,
            "visibility": null,
            "width": null
          }
        },
        "577a7f2f14e54800a3e1684fd3c3a80e": {
          "model_module": "@jupyter-widgets/controls",
          "model_name": "DescriptionStyleModel",
          "model_module_version": "1.5.0",
          "state": {
            "_model_module": "@jupyter-widgets/controls",
            "_model_module_version": "1.5.0",
            "_model_name": "DescriptionStyleModel",
            "_view_count": null,
            "_view_module": "@jupyter-widgets/base",
            "_view_module_version": "1.2.0",
            "_view_name": "StyleView",
            "description_width": ""
          }
        },
        "0c90216369f043bbb599cee353415e85": {
          "model_module": "@jupyter-widgets/controls",
          "model_name": "HBoxModel",
          "model_module_version": "1.5.0",
          "state": {
            "_dom_classes": [],
            "_model_module": "@jupyter-widgets/controls",
            "_model_module_version": "1.5.0",
            "_model_name": "HBoxModel",
            "_view_count": null,
            "_view_module": "@jupyter-widgets/controls",
            "_view_module_version": "1.5.0",
            "_view_name": "HBoxView",
            "box_style": "",
            "children": [
              "IPY_MODEL_5363df81715b417cb178d065a2a4f06d",
              "IPY_MODEL_763fc7f871af428ea438ecd6da1ecf57",
              "IPY_MODEL_599d716376594d1d86af2e3f531addf2"
            ],
            "layout": "IPY_MODEL_78bc3672df4044a2b098fd259e19e31c"
          }
        },
        "5363df81715b417cb178d065a2a4f06d": {
          "model_module": "@jupyter-widgets/controls",
          "model_name": "HTMLModel",
          "model_module_version": "1.5.0",
          "state": {
            "_dom_classes": [],
            "_model_module": "@jupyter-widgets/controls",
            "_model_module_version": "1.5.0",
            "_model_name": "HTMLModel",
            "_view_count": null,
            "_view_module": "@jupyter-widgets/controls",
            "_view_module_version": "1.5.0",
            "_view_name": "HTMLView",
            "description": "",
            "description_tooltip": null,
            "layout": "IPY_MODEL_4ed1583e6c6242dbb1fecd4c3fa2090a",
            "placeholder": "​",
            "style": "IPY_MODEL_cbffd767baaa4267bda08b0e2222c1a8",
            "value": "config.json: 100%"
          }
        },
        "763fc7f871af428ea438ecd6da1ecf57": {
          "model_module": "@jupyter-widgets/controls",
          "model_name": "FloatProgressModel",
          "model_module_version": "1.5.0",
          "state": {
            "_dom_classes": [],
            "_model_module": "@jupyter-widgets/controls",
            "_model_module_version": "1.5.0",
            "_model_name": "FloatProgressModel",
            "_view_count": null,
            "_view_module": "@jupyter-widgets/controls",
            "_view_module_version": "1.5.0",
            "_view_name": "ProgressView",
            "bar_style": "success",
            "description": "",
            "description_tooltip": null,
            "layout": "IPY_MODEL_3ac8f17504a2465db61df98b5004f03a",
            "max": 570,
            "min": 0,
            "orientation": "horizontal",
            "style": "IPY_MODEL_f1be2567eeb94bafb863acccc4eee39f",
            "value": 570
          }
        },
        "599d716376594d1d86af2e3f531addf2": {
          "model_module": "@jupyter-widgets/controls",
          "model_name": "HTMLModel",
          "model_module_version": "1.5.0",
          "state": {
            "_dom_classes": [],
            "_model_module": "@jupyter-widgets/controls",
            "_model_module_version": "1.5.0",
            "_model_name": "HTMLModel",
            "_view_count": null,
            "_view_module": "@jupyter-widgets/controls",
            "_view_module_version": "1.5.0",
            "_view_name": "HTMLView",
            "description": "",
            "description_tooltip": null,
            "layout": "IPY_MODEL_d3c81b876d1b44e9bf33824c7204f7ec",
            "placeholder": "​",
            "style": "IPY_MODEL_350ccecbee114c3a8725a254dc8be829",
            "value": " 570/570 [00:00&lt;00:00, 39.7kB/s]"
          }
        },
        "78bc3672df4044a2b098fd259e19e31c": {
          "model_module": "@jupyter-widgets/base",
          "model_name": "LayoutModel",
          "model_module_version": "1.2.0",
          "state": {
            "_model_module": "@jupyter-widgets/base",
            "_model_module_version": "1.2.0",
            "_model_name": "LayoutModel",
            "_view_count": null,
            "_view_module": "@jupyter-widgets/base",
            "_view_module_version": "1.2.0",
            "_view_name": "LayoutView",
            "align_content": null,
            "align_items": null,
            "align_self": null,
            "border": null,
            "bottom": null,
            "display": null,
            "flex": null,
            "flex_flow": null,
            "grid_area": null,
            "grid_auto_columns": null,
            "grid_auto_flow": null,
            "grid_auto_rows": null,
            "grid_column": null,
            "grid_gap": null,
            "grid_row": null,
            "grid_template_areas": null,
            "grid_template_columns": null,
            "grid_template_rows": null,
            "height": null,
            "justify_content": null,
            "justify_items": null,
            "left": null,
            "margin": null,
            "max_height": null,
            "max_width": null,
            "min_height": null,
            "min_width": null,
            "object_fit": null,
            "object_position": null,
            "order": null,
            "overflow": null,
            "overflow_x": null,
            "overflow_y": null,
            "padding": null,
            "right": null,
            "top": null,
            "visibility": null,
            "width": null
          }
        },
        "4ed1583e6c6242dbb1fecd4c3fa2090a": {
          "model_module": "@jupyter-widgets/base",
          "model_name": "LayoutModel",
          "model_module_version": "1.2.0",
          "state": {
            "_model_module": "@jupyter-widgets/base",
            "_model_module_version": "1.2.0",
            "_model_name": "LayoutModel",
            "_view_count": null,
            "_view_module": "@jupyter-widgets/base",
            "_view_module_version": "1.2.0",
            "_view_name": "LayoutView",
            "align_content": null,
            "align_items": null,
            "align_self": null,
            "border": null,
            "bottom": null,
            "display": null,
            "flex": null,
            "flex_flow": null,
            "grid_area": null,
            "grid_auto_columns": null,
            "grid_auto_flow": null,
            "grid_auto_rows": null,
            "grid_column": null,
            "grid_gap": null,
            "grid_row": null,
            "grid_template_areas": null,
            "grid_template_columns": null,
            "grid_template_rows": null,
            "height": null,
            "justify_content": null,
            "justify_items": null,
            "left": null,
            "margin": null,
            "max_height": null,
            "max_width": null,
            "min_height": null,
            "min_width": null,
            "object_fit": null,
            "object_position": null,
            "order": null,
            "overflow": null,
            "overflow_x": null,
            "overflow_y": null,
            "padding": null,
            "right": null,
            "top": null,
            "visibility": null,
            "width": null
          }
        },
        "cbffd767baaa4267bda08b0e2222c1a8": {
          "model_module": "@jupyter-widgets/controls",
          "model_name": "DescriptionStyleModel",
          "model_module_version": "1.5.0",
          "state": {
            "_model_module": "@jupyter-widgets/controls",
            "_model_module_version": "1.5.0",
            "_model_name": "DescriptionStyleModel",
            "_view_count": null,
            "_view_module": "@jupyter-widgets/base",
            "_view_module_version": "1.2.0",
            "_view_name": "StyleView",
            "description_width": ""
          }
        },
        "3ac8f17504a2465db61df98b5004f03a": {
          "model_module": "@jupyter-widgets/base",
          "model_name": "LayoutModel",
          "model_module_version": "1.2.0",
          "state": {
            "_model_module": "@jupyter-widgets/base",
            "_model_module_version": "1.2.0",
            "_model_name": "LayoutModel",
            "_view_count": null,
            "_view_module": "@jupyter-widgets/base",
            "_view_module_version": "1.2.0",
            "_view_name": "LayoutView",
            "align_content": null,
            "align_items": null,
            "align_self": null,
            "border": null,
            "bottom": null,
            "display": null,
            "flex": null,
            "flex_flow": null,
            "grid_area": null,
            "grid_auto_columns": null,
            "grid_auto_flow": null,
            "grid_auto_rows": null,
            "grid_column": null,
            "grid_gap": null,
            "grid_row": null,
            "grid_template_areas": null,
            "grid_template_columns": null,
            "grid_template_rows": null,
            "height": null,
            "justify_content": null,
            "justify_items": null,
            "left": null,
            "margin": null,
            "max_height": null,
            "max_width": null,
            "min_height": null,
            "min_width": null,
            "object_fit": null,
            "object_position": null,
            "order": null,
            "overflow": null,
            "overflow_x": null,
            "overflow_y": null,
            "padding": null,
            "right": null,
            "top": null,
            "visibility": null,
            "width": null
          }
        },
        "f1be2567eeb94bafb863acccc4eee39f": {
          "model_module": "@jupyter-widgets/controls",
          "model_name": "ProgressStyleModel",
          "model_module_version": "1.5.0",
          "state": {
            "_model_module": "@jupyter-widgets/controls",
            "_model_module_version": "1.5.0",
            "_model_name": "ProgressStyleModel",
            "_view_count": null,
            "_view_module": "@jupyter-widgets/base",
            "_view_module_version": "1.2.0",
            "_view_name": "StyleView",
            "bar_color": null,
            "description_width": ""
          }
        },
        "d3c81b876d1b44e9bf33824c7204f7ec": {
          "model_module": "@jupyter-widgets/base",
          "model_name": "LayoutModel",
          "model_module_version": "1.2.0",
          "state": {
            "_model_module": "@jupyter-widgets/base",
            "_model_module_version": "1.2.0",
            "_model_name": "LayoutModel",
            "_view_count": null,
            "_view_module": "@jupyter-widgets/base",
            "_view_module_version": "1.2.0",
            "_view_name": "LayoutView",
            "align_content": null,
            "align_items": null,
            "align_self": null,
            "border": null,
            "bottom": null,
            "display": null,
            "flex": null,
            "flex_flow": null,
            "grid_area": null,
            "grid_auto_columns": null,
            "grid_auto_flow": null,
            "grid_auto_rows": null,
            "grid_column": null,
            "grid_gap": null,
            "grid_row": null,
            "grid_template_areas": null,
            "grid_template_columns": null,
            "grid_template_rows": null,
            "height": null,
            "justify_content": null,
            "justify_items": null,
            "left": null,
            "margin": null,
            "max_height": null,
            "max_width": null,
            "min_height": null,
            "min_width": null,
            "object_fit": null,
            "object_position": null,
            "order": null,
            "overflow": null,
            "overflow_x": null,
            "overflow_y": null,
            "padding": null,
            "right": null,
            "top": null,
            "visibility": null,
            "width": null
          }
        },
        "350ccecbee114c3a8725a254dc8be829": {
          "model_module": "@jupyter-widgets/controls",
          "model_name": "DescriptionStyleModel",
          "model_module_version": "1.5.0",
          "state": {
            "_model_module": "@jupyter-widgets/controls",
            "_model_module_version": "1.5.0",
            "_model_name": "DescriptionStyleModel",
            "_view_count": null,
            "_view_module": "@jupyter-widgets/base",
            "_view_module_version": "1.2.0",
            "_view_name": "StyleView",
            "description_width": ""
          }
        },
        "c7503abfff1a4025bc197a295f6c3f5e": {
          "model_module": "@jupyter-widgets/controls",
          "model_name": "HBoxModel",
          "model_module_version": "1.5.0",
          "state": {
            "_dom_classes": [],
            "_model_module": "@jupyter-widgets/controls",
            "_model_module_version": "1.5.0",
            "_model_name": "HBoxModel",
            "_view_count": null,
            "_view_module": "@jupyter-widgets/controls",
            "_view_module_version": "1.5.0",
            "_view_name": "HBoxView",
            "box_style": "",
            "children": [
              "IPY_MODEL_d02acb213c0c42be9d06c280ebe868a5",
              "IPY_MODEL_edbd9650da3b49daa6195197629fae97",
              "IPY_MODEL_f340eb21e95341b09918960d81292c7b"
            ],
            "layout": "IPY_MODEL_74648844fd8d44edad8f6a956ee323fd"
          }
        },
        "d02acb213c0c42be9d06c280ebe868a5": {
          "model_module": "@jupyter-widgets/controls",
          "model_name": "HTMLModel",
          "model_module_version": "1.5.0",
          "state": {
            "_dom_classes": [],
            "_model_module": "@jupyter-widgets/controls",
            "_model_module_version": "1.5.0",
            "_model_name": "HTMLModel",
            "_view_count": null,
            "_view_module": "@jupyter-widgets/controls",
            "_view_module_version": "1.5.0",
            "_view_name": "HTMLView",
            "description": "",
            "description_tooltip": null,
            "layout": "IPY_MODEL_55ec9c208b2243d18d15af0c97e31ea7",
            "placeholder": "​",
            "style": "IPY_MODEL_4b03238d3a064a23abc396cd5619d061",
            "value": "vocab.txt: 100%"
          }
        },
        "edbd9650da3b49daa6195197629fae97": {
          "model_module": "@jupyter-widgets/controls",
          "model_name": "FloatProgressModel",
          "model_module_version": "1.5.0",
          "state": {
            "_dom_classes": [],
            "_model_module": "@jupyter-widgets/controls",
            "_model_module_version": "1.5.0",
            "_model_name": "FloatProgressModel",
            "_view_count": null,
            "_view_module": "@jupyter-widgets/controls",
            "_view_module_version": "1.5.0",
            "_view_name": "ProgressView",
            "bar_style": "success",
            "description": "",
            "description_tooltip": null,
            "layout": "IPY_MODEL_1a0c507fc027471f88dc1589fc681abd",
            "max": 213450,
            "min": 0,
            "orientation": "horizontal",
            "style": "IPY_MODEL_a40e79a7a91b4b2095a96cc018221529",
            "value": 213450
          }
        },
        "f340eb21e95341b09918960d81292c7b": {
          "model_module": "@jupyter-widgets/controls",
          "model_name": "HTMLModel",
          "model_module_version": "1.5.0",
          "state": {
            "_dom_classes": [],
            "_model_module": "@jupyter-widgets/controls",
            "_model_module_version": "1.5.0",
            "_model_name": "HTMLModel",
            "_view_count": null,
            "_view_module": "@jupyter-widgets/controls",
            "_view_module_version": "1.5.0",
            "_view_name": "HTMLView",
            "description": "",
            "description_tooltip": null,
            "layout": "IPY_MODEL_d8e3cfc1390241b98e84f7e95148c37f",
            "placeholder": "​",
            "style": "IPY_MODEL_f995c48a14ee4b7790dc65d998dc203e",
            "value": " 213k/213k [00:00&lt;00:00, 1.28MB/s]"
          }
        },
        "74648844fd8d44edad8f6a956ee323fd": {
          "model_module": "@jupyter-widgets/base",
          "model_name": "LayoutModel",
          "model_module_version": "1.2.0",
          "state": {
            "_model_module": "@jupyter-widgets/base",
            "_model_module_version": "1.2.0",
            "_model_name": "LayoutModel",
            "_view_count": null,
            "_view_module": "@jupyter-widgets/base",
            "_view_module_version": "1.2.0",
            "_view_name": "LayoutView",
            "align_content": null,
            "align_items": null,
            "align_self": null,
            "border": null,
            "bottom": null,
            "display": null,
            "flex": null,
            "flex_flow": null,
            "grid_area": null,
            "grid_auto_columns": null,
            "grid_auto_flow": null,
            "grid_auto_rows": null,
            "grid_column": null,
            "grid_gap": null,
            "grid_row": null,
            "grid_template_areas": null,
            "grid_template_columns": null,
            "grid_template_rows": null,
            "height": null,
            "justify_content": null,
            "justify_items": null,
            "left": null,
            "margin": null,
            "max_height": null,
            "max_width": null,
            "min_height": null,
            "min_width": null,
            "object_fit": null,
            "object_position": null,
            "order": null,
            "overflow": null,
            "overflow_x": null,
            "overflow_y": null,
            "padding": null,
            "right": null,
            "top": null,
            "visibility": null,
            "width": null
          }
        },
        "55ec9c208b2243d18d15af0c97e31ea7": {
          "model_module": "@jupyter-widgets/base",
          "model_name": "LayoutModel",
          "model_module_version": "1.2.0",
          "state": {
            "_model_module": "@jupyter-widgets/base",
            "_model_module_version": "1.2.0",
            "_model_name": "LayoutModel",
            "_view_count": null,
            "_view_module": "@jupyter-widgets/base",
            "_view_module_version": "1.2.0",
            "_view_name": "LayoutView",
            "align_content": null,
            "align_items": null,
            "align_self": null,
            "border": null,
            "bottom": null,
            "display": null,
            "flex": null,
            "flex_flow": null,
            "grid_area": null,
            "grid_auto_columns": null,
            "grid_auto_flow": null,
            "grid_auto_rows": null,
            "grid_column": null,
            "grid_gap": null,
            "grid_row": null,
            "grid_template_areas": null,
            "grid_template_columns": null,
            "grid_template_rows": null,
            "height": null,
            "justify_content": null,
            "justify_items": null,
            "left": null,
            "margin": null,
            "max_height": null,
            "max_width": null,
            "min_height": null,
            "min_width": null,
            "object_fit": null,
            "object_position": null,
            "order": null,
            "overflow": null,
            "overflow_x": null,
            "overflow_y": null,
            "padding": null,
            "right": null,
            "top": null,
            "visibility": null,
            "width": null
          }
        },
        "4b03238d3a064a23abc396cd5619d061": {
          "model_module": "@jupyter-widgets/controls",
          "model_name": "DescriptionStyleModel",
          "model_module_version": "1.5.0",
          "state": {
            "_model_module": "@jupyter-widgets/controls",
            "_model_module_version": "1.5.0",
            "_model_name": "DescriptionStyleModel",
            "_view_count": null,
            "_view_module": "@jupyter-widgets/base",
            "_view_module_version": "1.2.0",
            "_view_name": "StyleView",
            "description_width": ""
          }
        },
        "1a0c507fc027471f88dc1589fc681abd": {
          "model_module": "@jupyter-widgets/base",
          "model_name": "LayoutModel",
          "model_module_version": "1.2.0",
          "state": {
            "_model_module": "@jupyter-widgets/base",
            "_model_module_version": "1.2.0",
            "_model_name": "LayoutModel",
            "_view_count": null,
            "_view_module": "@jupyter-widgets/base",
            "_view_module_version": "1.2.0",
            "_view_name": "LayoutView",
            "align_content": null,
            "align_items": null,
            "align_self": null,
            "border": null,
            "bottom": null,
            "display": null,
            "flex": null,
            "flex_flow": null,
            "grid_area": null,
            "grid_auto_columns": null,
            "grid_auto_flow": null,
            "grid_auto_rows": null,
            "grid_column": null,
            "grid_gap": null,
            "grid_row": null,
            "grid_template_areas": null,
            "grid_template_columns": null,
            "grid_template_rows": null,
            "height": null,
            "justify_content": null,
            "justify_items": null,
            "left": null,
            "margin": null,
            "max_height": null,
            "max_width": null,
            "min_height": null,
            "min_width": null,
            "object_fit": null,
            "object_position": null,
            "order": null,
            "overflow": null,
            "overflow_x": null,
            "overflow_y": null,
            "padding": null,
            "right": null,
            "top": null,
            "visibility": null,
            "width": null
          }
        },
        "a40e79a7a91b4b2095a96cc018221529": {
          "model_module": "@jupyter-widgets/controls",
          "model_name": "ProgressStyleModel",
          "model_module_version": "1.5.0",
          "state": {
            "_model_module": "@jupyter-widgets/controls",
            "_model_module_version": "1.5.0",
            "_model_name": "ProgressStyleModel",
            "_view_count": null,
            "_view_module": "@jupyter-widgets/base",
            "_view_module_version": "1.2.0",
            "_view_name": "StyleView",
            "bar_color": null,
            "description_width": ""
          }
        },
        "d8e3cfc1390241b98e84f7e95148c37f": {
          "model_module": "@jupyter-widgets/base",
          "model_name": "LayoutModel",
          "model_module_version": "1.2.0",
          "state": {
            "_model_module": "@jupyter-widgets/base",
            "_model_module_version": "1.2.0",
            "_model_name": "LayoutModel",
            "_view_count": null,
            "_view_module": "@jupyter-widgets/base",
            "_view_module_version": "1.2.0",
            "_view_name": "LayoutView",
            "align_content": null,
            "align_items": null,
            "align_self": null,
            "border": null,
            "bottom": null,
            "display": null,
            "flex": null,
            "flex_flow": null,
            "grid_area": null,
            "grid_auto_columns": null,
            "grid_auto_flow": null,
            "grid_auto_rows": null,
            "grid_column": null,
            "grid_gap": null,
            "grid_row": null,
            "grid_template_areas": null,
            "grid_template_columns": null,
            "grid_template_rows": null,
            "height": null,
            "justify_content": null,
            "justify_items": null,
            "left": null,
            "margin": null,
            "max_height": null,
            "max_width": null,
            "min_height": null,
            "min_width": null,
            "object_fit": null,
            "object_position": null,
            "order": null,
            "overflow": null,
            "overflow_x": null,
            "overflow_y": null,
            "padding": null,
            "right": null,
            "top": null,
            "visibility": null,
            "width": null
          }
        },
        "f995c48a14ee4b7790dc65d998dc203e": {
          "model_module": "@jupyter-widgets/controls",
          "model_name": "DescriptionStyleModel",
          "model_module_version": "1.5.0",
          "state": {
            "_model_module": "@jupyter-widgets/controls",
            "_model_module_version": "1.5.0",
            "_model_name": "DescriptionStyleModel",
            "_view_count": null,
            "_view_module": "@jupyter-widgets/base",
            "_view_module_version": "1.2.0",
            "_view_name": "StyleView",
            "description_width": ""
          }
        },
        "3320c367276640779432a287ae223e62": {
          "model_module": "@jupyter-widgets/controls",
          "model_name": "HBoxModel",
          "model_module_version": "1.5.0",
          "state": {
            "_dom_classes": [],
            "_model_module": "@jupyter-widgets/controls",
            "_model_module_version": "1.5.0",
            "_model_name": "HBoxModel",
            "_view_count": null,
            "_view_module": "@jupyter-widgets/controls",
            "_view_module_version": "1.5.0",
            "_view_name": "HBoxView",
            "box_style": "",
            "children": [
              "IPY_MODEL_33fc5174fb584647b5a42f97cd11b12e",
              "IPY_MODEL_6c00c4f5fa1a4ed58bc8806ff9ffd6ac",
              "IPY_MODEL_c2ba5f438bc44ad8b54e833934ea8aa4"
            ],
            "layout": "IPY_MODEL_0c4df7597ecb446da78cf904a2a50113"
          }
        },
        "33fc5174fb584647b5a42f97cd11b12e": {
          "model_module": "@jupyter-widgets/controls",
          "model_name": "HTMLModel",
          "model_module_version": "1.5.0",
          "state": {
            "_dom_classes": [],
            "_model_module": "@jupyter-widgets/controls",
            "_model_module_version": "1.5.0",
            "_model_name": "HTMLModel",
            "_view_count": null,
            "_view_module": "@jupyter-widgets/controls",
            "_view_module_version": "1.5.0",
            "_view_name": "HTMLView",
            "description": "",
            "description_tooltip": null,
            "layout": "IPY_MODEL_7209d1ef35484ca4bad04354ded32637",
            "placeholder": "​",
            "style": "IPY_MODEL_980fb02fda364e33828a133133d50580",
            "value": "tokenizer.json: 100%"
          }
        },
        "6c00c4f5fa1a4ed58bc8806ff9ffd6ac": {
          "model_module": "@jupyter-widgets/controls",
          "model_name": "FloatProgressModel",
          "model_module_version": "1.5.0",
          "state": {
            "_dom_classes": [],
            "_model_module": "@jupyter-widgets/controls",
            "_model_module_version": "1.5.0",
            "_model_name": "FloatProgressModel",
            "_view_count": null,
            "_view_module": "@jupyter-widgets/controls",
            "_view_module_version": "1.5.0",
            "_view_name": "ProgressView",
            "bar_style": "success",
            "description": "",
            "description_tooltip": null,
            "layout": "IPY_MODEL_ff6921d6a42547d0a536c6634278e2ce",
            "max": 435797,
            "min": 0,
            "orientation": "horizontal",
            "style": "IPY_MODEL_17e26c663ff84679bb016eb570e6b2d7",
            "value": 435797
          }
        },
        "c2ba5f438bc44ad8b54e833934ea8aa4": {
          "model_module": "@jupyter-widgets/controls",
          "model_name": "HTMLModel",
          "model_module_version": "1.5.0",
          "state": {
            "_dom_classes": [],
            "_model_module": "@jupyter-widgets/controls",
            "_model_module_version": "1.5.0",
            "_model_name": "HTMLModel",
            "_view_count": null,
            "_view_module": "@jupyter-widgets/controls",
            "_view_module_version": "1.5.0",
            "_view_name": "HTMLView",
            "description": "",
            "description_tooltip": null,
            "layout": "IPY_MODEL_f31c01f3d1054b55a8af82634c8a50ff",
            "placeholder": "​",
            "style": "IPY_MODEL_4f0820943c214cc78f7e446bf392bb0a",
            "value": " 436k/436k [00:00&lt;00:00, 1.78MB/s]"
          }
        },
        "0c4df7597ecb446da78cf904a2a50113": {
          "model_module": "@jupyter-widgets/base",
          "model_name": "LayoutModel",
          "model_module_version": "1.2.0",
          "state": {
            "_model_module": "@jupyter-widgets/base",
            "_model_module_version": "1.2.0",
            "_model_name": "LayoutModel",
            "_view_count": null,
            "_view_module": "@jupyter-widgets/base",
            "_view_module_version": "1.2.0",
            "_view_name": "LayoutView",
            "align_content": null,
            "align_items": null,
            "align_self": null,
            "border": null,
            "bottom": null,
            "display": null,
            "flex": null,
            "flex_flow": null,
            "grid_area": null,
            "grid_auto_columns": null,
            "grid_auto_flow": null,
            "grid_auto_rows": null,
            "grid_column": null,
            "grid_gap": null,
            "grid_row": null,
            "grid_template_areas": null,
            "grid_template_columns": null,
            "grid_template_rows": null,
            "height": null,
            "justify_content": null,
            "justify_items": null,
            "left": null,
            "margin": null,
            "max_height": null,
            "max_width": null,
            "min_height": null,
            "min_width": null,
            "object_fit": null,
            "object_position": null,
            "order": null,
            "overflow": null,
            "overflow_x": null,
            "overflow_y": null,
            "padding": null,
            "right": null,
            "top": null,
            "visibility": null,
            "width": null
          }
        },
        "7209d1ef35484ca4bad04354ded32637": {
          "model_module": "@jupyter-widgets/base",
          "model_name": "LayoutModel",
          "model_module_version": "1.2.0",
          "state": {
            "_model_module": "@jupyter-widgets/base",
            "_model_module_version": "1.2.0",
            "_model_name": "LayoutModel",
            "_view_count": null,
            "_view_module": "@jupyter-widgets/base",
            "_view_module_version": "1.2.0",
            "_view_name": "LayoutView",
            "align_content": null,
            "align_items": null,
            "align_self": null,
            "border": null,
            "bottom": null,
            "display": null,
            "flex": null,
            "flex_flow": null,
            "grid_area": null,
            "grid_auto_columns": null,
            "grid_auto_flow": null,
            "grid_auto_rows": null,
            "grid_column": null,
            "grid_gap": null,
            "grid_row": null,
            "grid_template_areas": null,
            "grid_template_columns": null,
            "grid_template_rows": null,
            "height": null,
            "justify_content": null,
            "justify_items": null,
            "left": null,
            "margin": null,
            "max_height": null,
            "max_width": null,
            "min_height": null,
            "min_width": null,
            "object_fit": null,
            "object_position": null,
            "order": null,
            "overflow": null,
            "overflow_x": null,
            "overflow_y": null,
            "padding": null,
            "right": null,
            "top": null,
            "visibility": null,
            "width": null
          }
        },
        "980fb02fda364e33828a133133d50580": {
          "model_module": "@jupyter-widgets/controls",
          "model_name": "DescriptionStyleModel",
          "model_module_version": "1.5.0",
          "state": {
            "_model_module": "@jupyter-widgets/controls",
            "_model_module_version": "1.5.0",
            "_model_name": "DescriptionStyleModel",
            "_view_count": null,
            "_view_module": "@jupyter-widgets/base",
            "_view_module_version": "1.2.0",
            "_view_name": "StyleView",
            "description_width": ""
          }
        },
        "ff6921d6a42547d0a536c6634278e2ce": {
          "model_module": "@jupyter-widgets/base",
          "model_name": "LayoutModel",
          "model_module_version": "1.2.0",
          "state": {
            "_model_module": "@jupyter-widgets/base",
            "_model_module_version": "1.2.0",
            "_model_name": "LayoutModel",
            "_view_count": null,
            "_view_module": "@jupyter-widgets/base",
            "_view_module_version": "1.2.0",
            "_view_name": "LayoutView",
            "align_content": null,
            "align_items": null,
            "align_self": null,
            "border": null,
            "bottom": null,
            "display": null,
            "flex": null,
            "flex_flow": null,
            "grid_area": null,
            "grid_auto_columns": null,
            "grid_auto_flow": null,
            "grid_auto_rows": null,
            "grid_column": null,
            "grid_gap": null,
            "grid_row": null,
            "grid_template_areas": null,
            "grid_template_columns": null,
            "grid_template_rows": null,
            "height": null,
            "justify_content": null,
            "justify_items": null,
            "left": null,
            "margin": null,
            "max_height": null,
            "max_width": null,
            "min_height": null,
            "min_width": null,
            "object_fit": null,
            "object_position": null,
            "order": null,
            "overflow": null,
            "overflow_x": null,
            "overflow_y": null,
            "padding": null,
            "right": null,
            "top": null,
            "visibility": null,
            "width": null
          }
        },
        "17e26c663ff84679bb016eb570e6b2d7": {
          "model_module": "@jupyter-widgets/controls",
          "model_name": "ProgressStyleModel",
          "model_module_version": "1.5.0",
          "state": {
            "_model_module": "@jupyter-widgets/controls",
            "_model_module_version": "1.5.0",
            "_model_name": "ProgressStyleModel",
            "_view_count": null,
            "_view_module": "@jupyter-widgets/base",
            "_view_module_version": "1.2.0",
            "_view_name": "StyleView",
            "bar_color": null,
            "description_width": ""
          }
        },
        "f31c01f3d1054b55a8af82634c8a50ff": {
          "model_module": "@jupyter-widgets/base",
          "model_name": "LayoutModel",
          "model_module_version": "1.2.0",
          "state": {
            "_model_module": "@jupyter-widgets/base",
            "_model_module_version": "1.2.0",
            "_model_name": "LayoutModel",
            "_view_count": null,
            "_view_module": "@jupyter-widgets/base",
            "_view_module_version": "1.2.0",
            "_view_name": "LayoutView",
            "align_content": null,
            "align_items": null,
            "align_self": null,
            "border": null,
            "bottom": null,
            "display": null,
            "flex": null,
            "flex_flow": null,
            "grid_area": null,
            "grid_auto_columns": null,
            "grid_auto_flow": null,
            "grid_auto_rows": null,
            "grid_column": null,
            "grid_gap": null,
            "grid_row": null,
            "grid_template_areas": null,
            "grid_template_columns": null,
            "grid_template_rows": null,
            "height": null,
            "justify_content": null,
            "justify_items": null,
            "left": null,
            "margin": null,
            "max_height": null,
            "max_width": null,
            "min_height": null,
            "min_width": null,
            "object_fit": null,
            "object_position": null,
            "order": null,
            "overflow": null,
            "overflow_x": null,
            "overflow_y": null,
            "padding": null,
            "right": null,
            "top": null,
            "visibility": null,
            "width": null
          }
        },
        "4f0820943c214cc78f7e446bf392bb0a": {
          "model_module": "@jupyter-widgets/controls",
          "model_name": "DescriptionStyleModel",
          "model_module_version": "1.5.0",
          "state": {
            "_model_module": "@jupyter-widgets/controls",
            "_model_module_version": "1.5.0",
            "_model_name": "DescriptionStyleModel",
            "_view_count": null,
            "_view_module": "@jupyter-widgets/base",
            "_view_module_version": "1.2.0",
            "_view_name": "StyleView",
            "description_width": ""
          }
        },
        "2e08a6d42a2d4b3ea53d612c70e19c8e": {
          "model_module": "@jupyter-widgets/controls",
          "model_name": "HBoxModel",
          "model_module_version": "1.5.0",
          "state": {
            "_dom_classes": [],
            "_model_module": "@jupyter-widgets/controls",
            "_model_module_version": "1.5.0",
            "_model_name": "HBoxModel",
            "_view_count": null,
            "_view_module": "@jupyter-widgets/controls",
            "_view_module_version": "1.5.0",
            "_view_name": "HBoxView",
            "box_style": "",
            "children": [
              "IPY_MODEL_1fbb02804ec640cca5e5a9811d4d1f75",
              "IPY_MODEL_055d7354dec14a49b80964865f1032a5",
              "IPY_MODEL_a20273b09b6845cfbf13a29adfcf3ccb"
            ],
            "layout": "IPY_MODEL_552e93045f6c465da06ffff26545169a"
          }
        },
        "1fbb02804ec640cca5e5a9811d4d1f75": {
          "model_module": "@jupyter-widgets/controls",
          "model_name": "HTMLModel",
          "model_module_version": "1.5.0",
          "state": {
            "_dom_classes": [],
            "_model_module": "@jupyter-widgets/controls",
            "_model_module_version": "1.5.0",
            "_model_name": "HTMLModel",
            "_view_count": null,
            "_view_module": "@jupyter-widgets/controls",
            "_view_module_version": "1.5.0",
            "_view_name": "HTMLView",
            "description": "",
            "description_tooltip": null,
            "layout": "IPY_MODEL_407eb7eaaa1743e29e5900c04c2dc497",
            "placeholder": "​",
            "style": "IPY_MODEL_b508a989a7834b65b93e91e99412df18",
            "value": "model.safetensors: 100%"
          }
        },
        "055d7354dec14a49b80964865f1032a5": {
          "model_module": "@jupyter-widgets/controls",
          "model_name": "FloatProgressModel",
          "model_module_version": "1.5.0",
          "state": {
            "_dom_classes": [],
            "_model_module": "@jupyter-widgets/controls",
            "_model_module_version": "1.5.0",
            "_model_name": "FloatProgressModel",
            "_view_count": null,
            "_view_module": "@jupyter-widgets/controls",
            "_view_module_version": "1.5.0",
            "_view_name": "ProgressView",
            "bar_style": "success",
            "description": "",
            "description_tooltip": null,
            "layout": "IPY_MODEL_a5def3cb588e492bbf95ae8af2d65983",
            "max": 435755784,
            "min": 0,
            "orientation": "horizontal",
            "style": "IPY_MODEL_bf231fb3594c4911a585eabdb9793e2d",
            "value": 435755784
          }
        },
        "a20273b09b6845cfbf13a29adfcf3ccb": {
          "model_module": "@jupyter-widgets/controls",
          "model_name": "HTMLModel",
          "model_module_version": "1.5.0",
          "state": {
            "_dom_classes": [],
            "_model_module": "@jupyter-widgets/controls",
            "_model_module_version": "1.5.0",
            "_model_name": "HTMLModel",
            "_view_count": null,
            "_view_module": "@jupyter-widgets/controls",
            "_view_module_version": "1.5.0",
            "_view_name": "HTMLView",
            "description": "",
            "description_tooltip": null,
            "layout": "IPY_MODEL_dd8a5416629b49619b33dd49d342b38b",
            "placeholder": "​",
            "style": "IPY_MODEL_d6833d1ec1854dd1a6269e561abfeddb",
            "value": " 436M/436M [00:01&lt;00:00, 322MB/s]"
          }
        },
        "552e93045f6c465da06ffff26545169a": {
          "model_module": "@jupyter-widgets/base",
          "model_name": "LayoutModel",
          "model_module_version": "1.2.0",
          "state": {
            "_model_module": "@jupyter-widgets/base",
            "_model_module_version": "1.2.0",
            "_model_name": "LayoutModel",
            "_view_count": null,
            "_view_module": "@jupyter-widgets/base",
            "_view_module_version": "1.2.0",
            "_view_name": "LayoutView",
            "align_content": null,
            "align_items": null,
            "align_self": null,
            "border": null,
            "bottom": null,
            "display": null,
            "flex": null,
            "flex_flow": null,
            "grid_area": null,
            "grid_auto_columns": null,
            "grid_auto_flow": null,
            "grid_auto_rows": null,
            "grid_column": null,
            "grid_gap": null,
            "grid_row": null,
            "grid_template_areas": null,
            "grid_template_columns": null,
            "grid_template_rows": null,
            "height": null,
            "justify_content": null,
            "justify_items": null,
            "left": null,
            "margin": null,
            "max_height": null,
            "max_width": null,
            "min_height": null,
            "min_width": null,
            "object_fit": null,
            "object_position": null,
            "order": null,
            "overflow": null,
            "overflow_x": null,
            "overflow_y": null,
            "padding": null,
            "right": null,
            "top": null,
            "visibility": null,
            "width": null
          }
        },
        "407eb7eaaa1743e29e5900c04c2dc497": {
          "model_module": "@jupyter-widgets/base",
          "model_name": "LayoutModel",
          "model_module_version": "1.2.0",
          "state": {
            "_model_module": "@jupyter-widgets/base",
            "_model_module_version": "1.2.0",
            "_model_name": "LayoutModel",
            "_view_count": null,
            "_view_module": "@jupyter-widgets/base",
            "_view_module_version": "1.2.0",
            "_view_name": "LayoutView",
            "align_content": null,
            "align_items": null,
            "align_self": null,
            "border": null,
            "bottom": null,
            "display": null,
            "flex": null,
            "flex_flow": null,
            "grid_area": null,
            "grid_auto_columns": null,
            "grid_auto_flow": null,
            "grid_auto_rows": null,
            "grid_column": null,
            "grid_gap": null,
            "grid_row": null,
            "grid_template_areas": null,
            "grid_template_columns": null,
            "grid_template_rows": null,
            "height": null,
            "justify_content": null,
            "justify_items": null,
            "left": null,
            "margin": null,
            "max_height": null,
            "max_width": null,
            "min_height": null,
            "min_width": null,
            "object_fit": null,
            "object_position": null,
            "order": null,
            "overflow": null,
            "overflow_x": null,
            "overflow_y": null,
            "padding": null,
            "right": null,
            "top": null,
            "visibility": null,
            "width": null
          }
        },
        "b508a989a7834b65b93e91e99412df18": {
          "model_module": "@jupyter-widgets/controls",
          "model_name": "DescriptionStyleModel",
          "model_module_version": "1.5.0",
          "state": {
            "_model_module": "@jupyter-widgets/controls",
            "_model_module_version": "1.5.0",
            "_model_name": "DescriptionStyleModel",
            "_view_count": null,
            "_view_module": "@jupyter-widgets/base",
            "_view_module_version": "1.2.0",
            "_view_name": "StyleView",
            "description_width": ""
          }
        },
        "a5def3cb588e492bbf95ae8af2d65983": {
          "model_module": "@jupyter-widgets/base",
          "model_name": "LayoutModel",
          "model_module_version": "1.2.0",
          "state": {
            "_model_module": "@jupyter-widgets/base",
            "_model_module_version": "1.2.0",
            "_model_name": "LayoutModel",
            "_view_count": null,
            "_view_module": "@jupyter-widgets/base",
            "_view_module_version": "1.2.0",
            "_view_name": "LayoutView",
            "align_content": null,
            "align_items": null,
            "align_self": null,
            "border": null,
            "bottom": null,
            "display": null,
            "flex": null,
            "flex_flow": null,
            "grid_area": null,
            "grid_auto_columns": null,
            "grid_auto_flow": null,
            "grid_auto_rows": null,
            "grid_column": null,
            "grid_gap": null,
            "grid_row": null,
            "grid_template_areas": null,
            "grid_template_columns": null,
            "grid_template_rows": null,
            "height": null,
            "justify_content": null,
            "justify_items": null,
            "left": null,
            "margin": null,
            "max_height": null,
            "max_width": null,
            "min_height": null,
            "min_width": null,
            "object_fit": null,
            "object_position": null,
            "order": null,
            "overflow": null,
            "overflow_x": null,
            "overflow_y": null,
            "padding": null,
            "right": null,
            "top": null,
            "visibility": null,
            "width": null
          }
        },
        "bf231fb3594c4911a585eabdb9793e2d": {
          "model_module": "@jupyter-widgets/controls",
          "model_name": "ProgressStyleModel",
          "model_module_version": "1.5.0",
          "state": {
            "_model_module": "@jupyter-widgets/controls",
            "_model_module_version": "1.5.0",
            "_model_name": "ProgressStyleModel",
            "_view_count": null,
            "_view_module": "@jupyter-widgets/base",
            "_view_module_version": "1.2.0",
            "_view_name": "StyleView",
            "bar_color": null,
            "description_width": ""
          }
        },
        "dd8a5416629b49619b33dd49d342b38b": {
          "model_module": "@jupyter-widgets/base",
          "model_name": "LayoutModel",
          "model_module_version": "1.2.0",
          "state": {
            "_model_module": "@jupyter-widgets/base",
            "_model_module_version": "1.2.0",
            "_model_name": "LayoutModel",
            "_view_count": null,
            "_view_module": "@jupyter-widgets/base",
            "_view_module_version": "1.2.0",
            "_view_name": "LayoutView",
            "align_content": null,
            "align_items": null,
            "align_self": null,
            "border": null,
            "bottom": null,
            "display": null,
            "flex": null,
            "flex_flow": null,
            "grid_area": null,
            "grid_auto_columns": null,
            "grid_auto_flow": null,
            "grid_auto_rows": null,
            "grid_column": null,
            "grid_gap": null,
            "grid_row": null,
            "grid_template_areas": null,
            "grid_template_columns": null,
            "grid_template_rows": null,
            "height": null,
            "justify_content": null,
            "justify_items": null,
            "left": null,
            "margin": null,
            "max_height": null,
            "max_width": null,
            "min_height": null,
            "min_width": null,
            "object_fit": null,
            "object_position": null,
            "order": null,
            "overflow": null,
            "overflow_x": null,
            "overflow_y": null,
            "padding": null,
            "right": null,
            "top": null,
            "visibility": null,
            "width": null
          }
        },
        "d6833d1ec1854dd1a6269e561abfeddb": {
          "model_module": "@jupyter-widgets/controls",
          "model_name": "DescriptionStyleModel",
          "model_module_version": "1.5.0",
          "state": {
            "_model_module": "@jupyter-widgets/controls",
            "_model_module_version": "1.5.0",
            "_model_name": "DescriptionStyleModel",
            "_view_count": null,
            "_view_module": "@jupyter-widgets/base",
            "_view_module_version": "1.2.0",
            "_view_name": "StyleView",
            "description_width": ""
          }
        }
      }
    },
    "accelerator": "GPU"
  },
  "cells": [
    {
      "cell_type": "markdown",
      "metadata": {
        "id": "view-in-github",
        "colab_type": "text"
      },
      "source": [
        "<a href=\"https://colab.research.google.com/github/shaangao/LLMs/blob/main/llms.ipynb\" target=\"_parent\"><img src=\"https://colab.research.google.com/assets/colab-badge.svg\" alt=\"Open In Colab\"/></a>"
      ]
    },
    {
      "cell_type": "markdown",
      "source": [
        "# LLM Feature Extraction and Fine-Tuning for Sentence Classification"
      ],
      "metadata": {
        "id": "XAApgYHlCMYo"
      }
    },
    {
      "cell_type": "code",
      "execution_count": 1,
      "metadata": {
        "id": "QCdFoYit1Iis"
      },
      "outputs": [],
      "source": [
        "%%capture\n",
        "! pip install tqdm boto3 requests regex sentencepiece sacremoses\n",
        "! pip install transformers"
      ]
    },
    {
      "cell_type": "code",
      "source": [
        "from google.colab import drive\n",
        "drive.mount('/content/drive')"
      ],
      "metadata": {
        "colab": {
          "base_uri": "https://localhost:8080/"
        },
        "id": "LY0wqmBVEM-1",
        "outputId": "7ba79bf6-b0c3-47c3-fbfc-745a866ffcdc"
      },
      "execution_count": 2,
      "outputs": [
        {
          "output_type": "stream",
          "name": "stdout",
          "text": [
            "Mounted at /content/drive\n"
          ]
        }
      ]
    },
    {
      "cell_type": "code",
      "source": [
        "import collections\n",
        "import json\n",
        "import numpy as np\n",
        "import torch\n",
        "import torch.nn as nn\n",
        "import tqdm\n",
        "from torch.utils.data import Dataset, DataLoader\n",
        "import torch.nn.functional as F\n",
        "from transformers import AutoTokenizer, AutoModel"
      ],
      "metadata": {
        "id": "KyTluMERlu4O"
      },
      "execution_count": 3,
      "outputs": []
    },
    {
      "cell_type": "markdown",
      "source": [
        "## dataset and data loaders"
      ],
      "metadata": {
        "id": "ZVI3OhkQrIOa"
      }
    },
    {
      "cell_type": "code",
      "source": [
        "SPLITS = ['train', 'dev', 'test']\n",
        "\n",
        "\n",
        "class DBPediaDataset(Dataset):\n",
        "\n",
        "    '''\n",
        "    DBPedia dataset.\n",
        "      Args:\n",
        "        path[str]: path to the original data.\n",
        "    '''\n",
        "\n",
        "    def __init__(self, path):\n",
        "        with open(path) as fin:\n",
        "            self._data = [json.loads(l) for l in fin]\n",
        "        self._n_classes = len(set([datum['label'] for datum in self._data]))\n",
        "\n",
        "    def __getitem__(self, index):\n",
        "        return self._data[index]\n",
        "\n",
        "    def __len__(self):\n",
        "        return len(self._data)\n",
        "\n",
        "    @property\n",
        "    def n_classes(self):\n",
        "        return self._n_classes\n",
        "\n",
        "    @staticmethod\n",
        "    def collate_fn(tokenizer, device, batch):\n",
        "\n",
        "        '''\n",
        "        The collate function that compresses a training batch.\n",
        "          Args:\n",
        "            batch[list[dict[str, Any]]]: data in the batch.\n",
        "          Returns:\n",
        "            labels[torch.LongTensor]: the labels in the batch.\n",
        "            sentences[dict[str, torch.Tensor]]: sentences converted by tokenizers.\n",
        "        '''\n",
        "\n",
        "        # get target labels\n",
        "        labels = torch.tensor([datum['label'] for datum in batch]).long().to(device)\n",
        "\n",
        "        # encode sentences with tokenizer\n",
        "        sentences = tokenizer(\n",
        "            [datum['sentence'] for datum in batch],\n",
        "            return_tensors='pt',  # pt = pytorch style tensor\n",
        "            padding=True\n",
        "        )\n",
        "        for key in sentences:\n",
        "            sentences[key] = sentences[key].to(device)\n",
        "\n",
        "        return labels, sentences\n",
        "\n",
        "\n",
        "def construct_datasets(prefix, batch_size, tokenizer, device):\n",
        "\n",
        "    '''\n",
        "    Constructs datasets and data loaders.\n",
        "      Args:\n",
        "        prefix[str]: prefix of the dataset (e.g., dbpedia_).\n",
        "        batch_size[int]: maximum number of examples in a batch.\n",
        "        tokenizer: model tokenizer that converts sentences to integer tensors.\n",
        "        device[torch.device]: the device (cpu/gpu) that the tensor should be on.\n",
        "      Returns:\n",
        "        datasets[dict[str, Dataset]]: a dict of constructed datasets.\n",
        "        dataloaders[dict[str, DataLoader]]: a dict of constructed data loaders.\n",
        "    '''\n",
        "\n",
        "    datasets = collections.defaultdict()\n",
        "    dataloaders = collections.defaultdict()\n",
        "\n",
        "    for split in SPLITS:\n",
        "\n",
        "        # dataset\n",
        "        datasets[split] = DBPediaDataset(f'{prefix}{split}.json')\n",
        "\n",
        "        # dataloader\n",
        "        dataloaders[split] = DataLoader(\n",
        "            datasets[split],\n",
        "            batch_size=batch_size,\n",
        "            shuffle=(split == 'train'),\n",
        "            collate_fn=lambda x:DBPediaDataset.collate_fn(tokenizer, device, x)\n",
        "        )\n",
        "\n",
        "    return datasets, dataloaders"
      ],
      "metadata": {
        "id": "Sr_s2OH017B3"
      },
      "execution_count": 4,
      "outputs": []
    },
    {
      "cell_type": "markdown",
      "source": [
        "## classifer architecture"
      ],
      "metadata": {
        "id": "9cFGTGFT8xaF"
      }
    },
    {
      "cell_type": "code",
      "source": [
        "class Classifier(nn.Module):\n",
        "\n",
        "\n",
        "    def __init__(self, in_size, layer_sizes:list, layer_acts:list):\n",
        "\n",
        "        # call parent constructor\n",
        "        super(Classifier, self).__init__()\n",
        "\n",
        "        # construct layers (last layer is output layer)\n",
        "        self.layers = nn.ModuleList()\n",
        "        for i, layer_size in enumerate(layer_sizes):\n",
        "            if i == 0:\n",
        "                # layer = nn.Linear(in_size, layer_size)\n",
        "                # layer.weight.data.uniform_(-0.01, 0.01)\n",
        "                # layer.bias.data.zero_()\n",
        "                # self.layers.append(layer)\n",
        "                self.layers.append(nn.Linear(in_size, layer_size))\n",
        "            else:\n",
        "                # layer = nn.Linear(layer_sizes[i-1], layer_size)\n",
        "                # layer.weight.data.uniform_(-0.01, 0.01)\n",
        "                # layer.bias.data.zero_()\n",
        "                # self.layers.append(layer)\n",
        "                self.layers.append(nn.Linear(layer_sizes[i-1], layer_size))\n",
        "\n",
        "        # set each layer's activation function\n",
        "        self.layer_acts = layer_acts\n",
        "\n",
        "\n",
        "    def forward(self, x):\n",
        "\n",
        "        for i, layer in enumerate(self.layers):\n",
        "            x = layer(x)\n",
        "            x = self.layer_acts[i](x)\n",
        "\n",
        "        return x"
      ],
      "metadata": {
        "id": "x7zw6kKUE4FY"
      },
      "execution_count": 5,
      "outputs": []
    },
    {
      "cell_type": "markdown",
      "source": [
        "## 1. BERT [CLS] feature extraction for classification"
      ],
      "metadata": {
        "id": "y2usTWPt2Tjs"
      }
    },
    {
      "cell_type": "markdown",
      "source": [
        "### setup"
      ],
      "metadata": {
        "id": "stbHHXdp5tnv"
      }
    },
    {
      "cell_type": "code",
      "source": [
        "# set hyperparameters\n",
        "batch_size = 32\n",
        "classifier_hidden_size = 32\n",
        "\n",
        "# load BERT tokenizer and model\n",
        "bert_tokenizer = AutoTokenizer.from_pretrained('bert-base-cased')\n",
        "bert_model = AutoModel.from_pretrained('bert-base-cased')   # https://huggingface.co/transformers/v3.0.2/model_doc/auto.html#automodel\n",
        "if torch.cuda.is_available():  # use GPU if available\n",
        "    bert_model = bert_model.cuda()\n",
        "\n",
        "# construct datasets with BERT tokenizer\n",
        "datasets, dataloaders = construct_datasets(\n",
        "    prefix='/content/drive/MyDrive/LLMs/data/dbpedia_',\n",
        "    batch_size=batch_size,\n",
        "    tokenizer=bert_tokenizer,\n",
        "    device=bert_model.device\n",
        ")\n",
        "\n",
        "# # sanity check\n",
        "# datasets['train'].__getitem__(0)\n",
        "\n",
        "# # sanity check\n",
        "# dtrain0 = next(iter(dataloaders['train']))\n",
        "# # labels\n",
        "# dtrain0[0]\n",
        "# # sentences\n",
        "# dtrain0[1].keys()   # ['input_ids', 'token_type_ids', 'attention_mask']\n",
        "# import pandas as pd\n",
        "# pd.DataFrame(dtrain0[1]['input_ids'])"
      ],
      "metadata": {
        "colab": {
          "base_uri": "https://localhost:8080/",
          "height": 177,
          "referenced_widgets": [
            "d7c4a0e85897467ea68c1b1135e656d2",
            "8f71687024a647d684e8c69cf6268c7e",
            "5361323abfd34536a9dfde7fe7a8f165",
            "ab184d8e258a49e6b3f3a3f7fd0614cd",
            "cfafc09703af47b9af7c2391d7c4c37c",
            "e3c2cff4a0b44a29a2303b192395c806",
            "b2bdcd55270f43a9b01466a8b5e6c4c1",
            "c535c59332a54ad1b44d15516c3f4692",
            "e38174792b2743c0b5643e2d781d0bd4",
            "9807ada8fcc54a13b2189aa48f6f5cd5",
            "577a7f2f14e54800a3e1684fd3c3a80e",
            "0c90216369f043bbb599cee353415e85",
            "5363df81715b417cb178d065a2a4f06d",
            "763fc7f871af428ea438ecd6da1ecf57",
            "599d716376594d1d86af2e3f531addf2",
            "78bc3672df4044a2b098fd259e19e31c",
            "4ed1583e6c6242dbb1fecd4c3fa2090a",
            "cbffd767baaa4267bda08b0e2222c1a8",
            "3ac8f17504a2465db61df98b5004f03a",
            "f1be2567eeb94bafb863acccc4eee39f",
            "d3c81b876d1b44e9bf33824c7204f7ec",
            "350ccecbee114c3a8725a254dc8be829",
            "c7503abfff1a4025bc197a295f6c3f5e",
            "d02acb213c0c42be9d06c280ebe868a5",
            "edbd9650da3b49daa6195197629fae97",
            "f340eb21e95341b09918960d81292c7b",
            "74648844fd8d44edad8f6a956ee323fd",
            "55ec9c208b2243d18d15af0c97e31ea7",
            "4b03238d3a064a23abc396cd5619d061",
            "1a0c507fc027471f88dc1589fc681abd",
            "a40e79a7a91b4b2095a96cc018221529",
            "d8e3cfc1390241b98e84f7e95148c37f",
            "f995c48a14ee4b7790dc65d998dc203e",
            "3320c367276640779432a287ae223e62",
            "33fc5174fb584647b5a42f97cd11b12e",
            "6c00c4f5fa1a4ed58bc8806ff9ffd6ac",
            "c2ba5f438bc44ad8b54e833934ea8aa4",
            "0c4df7597ecb446da78cf904a2a50113",
            "7209d1ef35484ca4bad04354ded32637",
            "980fb02fda364e33828a133133d50580",
            "ff6921d6a42547d0a536c6634278e2ce",
            "17e26c663ff84679bb016eb570e6b2d7",
            "f31c01f3d1054b55a8af82634c8a50ff",
            "4f0820943c214cc78f7e446bf392bb0a",
            "2e08a6d42a2d4b3ea53d612c70e19c8e",
            "1fbb02804ec640cca5e5a9811d4d1f75",
            "055d7354dec14a49b80964865f1032a5",
            "a20273b09b6845cfbf13a29adfcf3ccb",
            "552e93045f6c465da06ffff26545169a",
            "407eb7eaaa1743e29e5900c04c2dc497",
            "b508a989a7834b65b93e91e99412df18",
            "a5def3cb588e492bbf95ae8af2d65983",
            "bf231fb3594c4911a585eabdb9793e2d",
            "dd8a5416629b49619b33dd49d342b38b",
            "d6833d1ec1854dd1a6269e561abfeddb"
          ]
        },
        "id": "IqL1EUzc3O4a",
        "outputId": "2fe89a18-aba9-4077-db85-f8dc39128114"
      },
      "execution_count": 6,
      "outputs": [
        {
          "output_type": "display_data",
          "data": {
            "text/plain": [
              "tokenizer_config.json:   0%|          | 0.00/29.0 [00:00<?, ?B/s]"
            ],
            "application/vnd.jupyter.widget-view+json": {
              "version_major": 2,
              "version_minor": 0,
              "model_id": "d7c4a0e85897467ea68c1b1135e656d2"
            }
          },
          "metadata": {}
        },
        {
          "output_type": "display_data",
          "data": {
            "text/plain": [
              "config.json:   0%|          | 0.00/570 [00:00<?, ?B/s]"
            ],
            "application/vnd.jupyter.widget-view+json": {
              "version_major": 2,
              "version_minor": 0,
              "model_id": "0c90216369f043bbb599cee353415e85"
            }
          },
          "metadata": {}
        },
        {
          "output_type": "display_data",
          "data": {
            "text/plain": [
              "vocab.txt:   0%|          | 0.00/213k [00:00<?, ?B/s]"
            ],
            "application/vnd.jupyter.widget-view+json": {
              "version_major": 2,
              "version_minor": 0,
              "model_id": "c7503abfff1a4025bc197a295f6c3f5e"
            }
          },
          "metadata": {}
        },
        {
          "output_type": "display_data",
          "data": {
            "text/plain": [
              "tokenizer.json:   0%|          | 0.00/436k [00:00<?, ?B/s]"
            ],
            "application/vnd.jupyter.widget-view+json": {
              "version_major": 2,
              "version_minor": 0,
              "model_id": "3320c367276640779432a287ae223e62"
            }
          },
          "metadata": {}
        },
        {
          "output_type": "display_data",
          "data": {
            "text/plain": [
              "model.safetensors:   0%|          | 0.00/436M [00:00<?, ?B/s]"
            ],
            "application/vnd.jupyter.widget-view+json": {
              "version_major": 2,
              "version_minor": 0,
              "model_id": "2e08a6d42a2d4b3ea53d612c70e19c8e"
            }
          },
          "metadata": {}
        }
      ]
    },
    {
      "cell_type": "markdown",
      "source": [
        "### train and eval util funcs"
      ],
      "metadata": {
        "id": "LGMG7aw4TZFy"
      }
    },
    {
      "cell_type": "code",
      "source": [
        "# func for extracting frozen BERT token representations for sentences and pooling\n",
        "\n",
        "def extract_bert_rep(pretrained_lm, sentences:dict, pooling:str):\n",
        "\n",
        "\n",
        "    # extract frozen BERT token representations for sentences\n",
        "    with torch.no_grad():   # keep BERT params fixed\n",
        "        unpooled_features = pretrained_lm(**sentences)['last_hidden_state']  # (B, L, D): (batch_size, num token in sentence, BERT rep dimension)\n",
        "\n",
        "\n",
        "    # get pooled_features across tokens for each sentence\n",
        "    if pooling == 'first':\n",
        "        pooled_features = unpooled_features[:, 0, :]   # (B, D)\n",
        "\n",
        "    elif pooling == 'mean':\n",
        "        # mask padding tokens (where attention_mask is 0) with nan\n",
        "        unpooled_features_masked = unpooled_features.masked_fill(\n",
        "            sentences['attention_mask'].unsqueeze(-1)==0,\n",
        "            float('nan')\n",
        "        )\n",
        "        # max-pooling across tokens (L dimension) in each sentence\n",
        "        pooled_features = unpooled_features_masked.nanmean(dim=1)   # (B, D)\n",
        "\n",
        "    elif pooling == 'max':\n",
        "        # mask padding tokens (where attention_mask is 0) with -inf\n",
        "        unpooled_features_masked = unpooled_features.masked_fill(\n",
        "            sentences['attention_mask'].unsqueeze(-1)==0,\n",
        "            float('-inf')\n",
        "        )\n",
        "        # max-pooling across tokens (L dimension) in each sentence\n",
        "        pooled_features, _ = unpooled_features_masked.max(dim=1)   # (B, D)\n",
        "\n",
        "\n",
        "    return pooled_features"
      ],
      "metadata": {
        "id": "PCKWdKlXgpUA"
      },
      "execution_count": 7,
      "outputs": []
    },
    {
      "cell_type": "code",
      "source": [
        "# func for running 1 epoch of training\n",
        "\n",
        "def train1epoch(classifier, train_dataloader, optimizer, criterion, pretrained_lm, rep_extractor, pooling):\n",
        "\n",
        "    # progress bar\n",
        "    pbar = tqdm.tqdm(train_dataloader)\n",
        "\n",
        "    # turn on training mode\n",
        "    classifier.train()\n",
        "\n",
        "    # reset epoch_loss tracker\n",
        "    epoch_loss = 0\n",
        "\n",
        "    # iter through mini-batches to train 1 epoch\n",
        "    for labels, sentences in pbar:  # sentences is a dict (['input_ids', 'token_type_ids', 'attention_mask']) of tensors of shape (B, L)\n",
        "\n",
        "        # extract frozen BERT token representations for sentences; get [CLS] token (first token) representation\n",
        "        cls_features = rep_extractor(pretrained_lm=pretrained_lm, sentences=sentences, pooling=pooling)   # (B, D)\n",
        "\n",
        "        # train\n",
        "        optimizer.zero_grad()   # zero the gradient buffers\n",
        "        output = classifier(cls_features)\n",
        "        loss = criterion(output, labels)\n",
        "        loss.backward()\n",
        "        optimizer.step()   # does the update\n",
        "\n",
        "        epoch_loss += loss.item()\n",
        "\n",
        "        # print('\\n')\n",
        "        # print(f'  batch loss: {loss.item()}')\n",
        "        # print(f'  epoch loss: {epoch_loss}')\n",
        "\n",
        "    return epoch_loss"
      ],
      "metadata": {
        "id": "HtbHeXPuljVd"
      },
      "execution_count": 8,
      "outputs": []
    },
    {
      "cell_type": "code",
      "source": [
        "# eval\n",
        "\n",
        "def eval(classifier, eval_dataloader, pretrained_lm, rep_extractor, pooling):\n",
        "\n",
        "    # progress bar\n",
        "    pbar = tqdm.tqdm(eval_dataloader)\n",
        "\n",
        "    # turn on eval mode\n",
        "    classifier.eval()\n",
        "\n",
        "    # set trackers\n",
        "    ycorrect = 0\n",
        "    ytotal = 0\n",
        "\n",
        "    # turn off gradient calc to reduce memory consumption\n",
        "    with torch.no_grad():\n",
        "\n",
        "        # iter through mini-batches in eval_dataloader\n",
        "        for labels, sentences in pbar:\n",
        "\n",
        "            # extract frozen BERT token representations for sentences; get [CLS] token (first token) representation\n",
        "            cls_features = rep_extractor(pretrained_lm=pretrained_lm, sentences=sentences, pooling=pooling)  # (B, D)\n",
        "\n",
        "            # get classifier predictions on eval_data\n",
        "            probs = F.softmax(classifier(cls_features), dim=1)\n",
        "            ypred = torch.argmax(probs, dim=1)\n",
        "\n",
        "            # count correct predictions\n",
        "            ycorrect += torch.sum(torch.eq(ypred, labels)).item()\n",
        "\n",
        "            # total num of obs in eval_data\n",
        "            ytotal += len(labels)\n",
        "\n",
        "    # compute accuracy\n",
        "    yaccu = ycorrect / ytotal\n",
        "\n",
        "    return yaccu"
      ],
      "metadata": {
        "id": "4ShjbKDCAuYn"
      },
      "execution_count": 9,
      "outputs": []
    },
    {
      "cell_type": "code",
      "source": [
        "# wrapper for train & eval\n",
        "\n",
        "def main_process(classifier, name, optimizer, criterion, dataloaders, pretrained_lm, rep_extractor, pooling, max_epochs=10, early_stopping=3):\n",
        "\n",
        "\n",
        "    # initialize vars: track metrics\n",
        "    epoch_losses = []\n",
        "    train_evals = []\n",
        "    dev_evals = []\n",
        "\n",
        "    # initialize vars: track best classifier\n",
        "    best_dev_eval = 0\n",
        "    best_classifier_epoch = -1\n",
        "\n",
        "\n",
        "    # train and eval\n",
        "    for epoch in range(max_epochs):\n",
        "\n",
        "        print(f'EPOCH {epoch+1}')\n",
        "\n",
        "        # train\n",
        "        print(f'----- TRAIN -----')\n",
        "        epoch_loss = train1epoch(\n",
        "            classifier=classifier,\n",
        "            train_dataloader=dataloaders['train'],\n",
        "            optimizer=optimizer,\n",
        "            criterion=criterion,\n",
        "            pretrained_lm=pretrained_lm,\n",
        "            rep_extractor=rep_extractor,\n",
        "            pooling=pooling\n",
        "        )\n",
        "        print(f'  epoch loss: {epoch_loss}')\n",
        "        epoch_losses.append(epoch_loss)\n",
        "\n",
        "        print(f'----- EVAL -----')\n",
        "\n",
        "        # # eval on training set\n",
        "        # train_eval = eval(classifier=classifier, eval_dataloader=dataloaders['train'], pretrained_lm=pretrained_lm, rep_extractor=rep_extractor, pooling=pooling)\n",
        "        # print(f'  train accuracy: {train_eval}')\n",
        "        # train_evals.append(train_eval)\n",
        "\n",
        "        # eval on dev set\n",
        "        dev_eval = eval(classifier=classifier, eval_dataloader=dataloaders['dev'], pretrained_lm=pretrained_lm, rep_extractor=rep_extractor, pooling=pooling)\n",
        "        print(f'  dev accuracy: {dev_eval}')\n",
        "        dev_evals.append(dev_eval)\n",
        "\n",
        "        # update best classifier based on dev eval\n",
        "        if dev_eval > best_dev_eval:\n",
        "\n",
        "            # save state_dict of best classifier so far\n",
        "            torch.save(classifier.state_dict(), '/content/drive/MyDrive/LLMs/classifiers/'+name+'_best.pth.tar')\n",
        "\n",
        "            # update which epoch best_classifier is from\n",
        "            best_classifier_epoch = epoch\n",
        "\n",
        "            # update best_dev_accu\n",
        "            best_dev_eval = dev_eval\n",
        "\n",
        "        print(f'  best classifier from epoch {best_classifier_epoch+1}')\n",
        "\n",
        "        # early stopping based on dev eval\n",
        "        if early_stopping is not None:\n",
        "            if epoch - best_classifier_epoch >= early_stopping:\n",
        "                print('=== EARLY STOPPING ===')\n",
        "                break\n",
        "    # end training epochs\n",
        "\n",
        "\n",
        "    # load state_dict of best classifier (modifies input classifier in place)\n",
        "    if epoch != best_classifier_epoch:\n",
        "        print(f'load best classifier...')\n",
        "        classifier.load_state_dict(torch.load('/content/drive/MyDrive/LLMs/classifiers/'+name+'_best.pth.tar'))\n",
        "\n",
        "    # eval best classifier on devtest set\n",
        "    print(f'----- EVAL -----')\n",
        "    print(f'eval best classifier on devtest...')\n",
        "    devtest_eval = eval(classifier=classifier, eval_dataloader=dataloaders['test'], pretrained_lm=pretrained_lm, rep_extractor=rep_extractor, pooling=pooling)\n",
        "    print(f'devtest accuracy: {devtest_eval}\\n')\n",
        "\n",
        "\n",
        "    return epoch_losses, train_evals, dev_evals, best_dev_eval, devtest_eval\n"
      ],
      "metadata": {
        "id": "ffgE7WuXpD7s"
      },
      "execution_count": 10,
      "outputs": []
    },
    {
      "cell_type": "markdown",
      "source": [
        "### run experiments"
      ],
      "metadata": {
        "id": "8ecGJCs7xrOE"
      }
    },
    {
      "cell_type": "code",
      "source": [
        "# run 1 epoch of training 5 times with random seeds\n",
        "\n",
        "\n",
        "# specify seeds for each run\n",
        "seeds = [42, 645, 234, 534, 56]\n",
        "\n",
        "# for storing dev and devtest accuracy of each run\n",
        "final_dev_evals_bert_cls_frozen = []\n",
        "devtest_evals_bert_cls_frozen = []\n",
        "\n",
        "\n",
        "for i, seed in enumerate(seeds):\n",
        "\n",
        "    print(f'======== RUN {i+1} ======== ')\n",
        "\n",
        "    # set random seed: https://pytorch.org/docs/stable/notes/randomness.html\n",
        "    torch.manual_seed(seed)\n",
        "    torch.cuda.manual_seed_all(seed)\n",
        "    torch.backends.cudnn.deterministic = True\n",
        "    torch.backends.cudnn.benchmark = False\n",
        "\n",
        "    # instantiate classifier for current run\n",
        "    classifier = Classifier(\n",
        "        in_size=bert_model.config.hidden_size,\n",
        "        layer_sizes=[classifier_hidden_size, datasets['train'].n_classes],\n",
        "        layer_acts=[nn.ReLU(), nn.Identity()]\n",
        "    ).to(bert_model.device)\n",
        "\n",
        "    # instantiate optimizer for current run\n",
        "    optimizer = torch.optim.Adam(classifier.parameters(), lr=5e-4)\n",
        "\n",
        "    # set loss function\n",
        "    loss_func = nn.CrossEntropyLoss()\n",
        "\n",
        "    # train and eval current classifier\n",
        "    _, _, _, final_dev_eval, devtest_eval = main_process(\n",
        "        classifier=classifier,\n",
        "        name='bert_cls_frozen_seed'+str(seed),\n",
        "        optimizer=optimizer,\n",
        "        criterion=loss_func,\n",
        "        dataloaders=dataloaders,\n",
        "        pretrained_lm=bert_model,\n",
        "        rep_extractor=extract_bert_rep,\n",
        "        pooling='first',\n",
        "        max_epochs=1,\n",
        "        early_stopping=3\n",
        "    )\n",
        "    final_dev_evals_bert_cls_frozen.append(final_dev_eval)\n",
        "    devtest_evals_bert_cls_frozen.append(devtest_eval)"
      ],
      "metadata": {
        "colab": {
          "base_uri": "https://localhost:8080/"
        },
        "id": "BLB-4UAtAuWI",
        "outputId": "79c6db5b-607f-493a-aba3-78b5407fd878"
      },
      "execution_count": 11,
      "outputs": [
        {
          "output_type": "stream",
          "name": "stdout",
          "text": [
            "======== RUN 1 ======== \n",
            "EPOCH 1\n",
            "----- TRAIN -----\n"
          ]
        },
        {
          "output_type": "stream",
          "name": "stderr",
          "text": [
            "100%|██████████| 313/313 [00:41<00:00,  7.50it/s]\n"
          ]
        },
        {
          "output_type": "stream",
          "name": "stdout",
          "text": [
            "  epoch loss: 411.33130034804344\n",
            "----- EVAL -----\n"
          ]
        },
        {
          "output_type": "stream",
          "name": "stderr",
          "text": [
            "100%|██████████| 32/32 [00:03<00:00,  8.51it/s]\n"
          ]
        },
        {
          "output_type": "stream",
          "name": "stdout",
          "text": [
            "  dev accuracy: 0.962\n",
            "  best classifier from epoch 1\n",
            "----- EVAL -----\n",
            "eval best classifier on devtest...\n"
          ]
        },
        {
          "output_type": "stream",
          "name": "stderr",
          "text": [
            "100%|██████████| 32/32 [00:03<00:00,  8.95it/s]\n"
          ]
        },
        {
          "output_type": "stream",
          "name": "stdout",
          "text": [
            "devtest accuracy: 0.95\n",
            "\n",
            "======== RUN 2 ======== \n",
            "EPOCH 1\n",
            "----- TRAIN -----\n"
          ]
        },
        {
          "output_type": "stream",
          "name": "stderr",
          "text": [
            "100%|██████████| 313/313 [00:41<00:00,  7.63it/s]\n"
          ]
        },
        {
          "output_type": "stream",
          "name": "stdout",
          "text": [
            "  epoch loss: 409.298469632864\n",
            "----- EVAL -----\n"
          ]
        },
        {
          "output_type": "stream",
          "name": "stderr",
          "text": [
            "100%|██████████| 32/32 [00:03<00:00,  8.66it/s]\n"
          ]
        },
        {
          "output_type": "stream",
          "name": "stdout",
          "text": [
            "  dev accuracy: 0.958\n",
            "  best classifier from epoch 1\n",
            "----- EVAL -----\n",
            "eval best classifier on devtest...\n"
          ]
        },
        {
          "output_type": "stream",
          "name": "stderr",
          "text": [
            "100%|██████████| 32/32 [00:03<00:00,  8.89it/s]\n"
          ]
        },
        {
          "output_type": "stream",
          "name": "stdout",
          "text": [
            "devtest accuracy: 0.955\n",
            "\n",
            "======== RUN 3 ======== \n",
            "EPOCH 1\n",
            "----- TRAIN -----\n"
          ]
        },
        {
          "output_type": "stream",
          "name": "stderr",
          "text": [
            "100%|██████████| 313/313 [00:41<00:00,  7.50it/s]\n"
          ]
        },
        {
          "output_type": "stream",
          "name": "stdout",
          "text": [
            "  epoch loss: 387.23794293403625\n",
            "----- EVAL -----\n"
          ]
        },
        {
          "output_type": "stream",
          "name": "stderr",
          "text": [
            "100%|██████████| 32/32 [00:04<00:00,  7.92it/s]\n"
          ]
        },
        {
          "output_type": "stream",
          "name": "stdout",
          "text": [
            "  dev accuracy: 0.968\n",
            "  best classifier from epoch 1\n",
            "----- EVAL -----\n",
            "eval best classifier on devtest...\n"
          ]
        },
        {
          "output_type": "stream",
          "name": "stderr",
          "text": [
            "100%|██████████| 32/32 [00:04<00:00,  7.75it/s]\n"
          ]
        },
        {
          "output_type": "stream",
          "name": "stdout",
          "text": [
            "devtest accuracy: 0.975\n",
            "\n",
            "======== RUN 4 ======== \n",
            "EPOCH 1\n",
            "----- TRAIN -----\n"
          ]
        },
        {
          "output_type": "stream",
          "name": "stderr",
          "text": [
            "100%|██████████| 313/313 [00:43<00:00,  7.19it/s]\n"
          ]
        },
        {
          "output_type": "stream",
          "name": "stdout",
          "text": [
            "  epoch loss: 390.3639376461506\n",
            "----- EVAL -----\n"
          ]
        },
        {
          "output_type": "stream",
          "name": "stderr",
          "text": [
            "100%|██████████| 32/32 [00:03<00:00,  8.16it/s]\n"
          ]
        },
        {
          "output_type": "stream",
          "name": "stdout",
          "text": [
            "  dev accuracy: 0.972\n",
            "  best classifier from epoch 1\n",
            "----- EVAL -----\n",
            "eval best classifier on devtest...\n"
          ]
        },
        {
          "output_type": "stream",
          "name": "stderr",
          "text": [
            "100%|██████████| 32/32 [00:03<00:00,  8.34it/s]\n"
          ]
        },
        {
          "output_type": "stream",
          "name": "stdout",
          "text": [
            "devtest accuracy: 0.969\n",
            "\n",
            "======== RUN 5 ======== \n",
            "EPOCH 1\n",
            "----- TRAIN -----\n"
          ]
        },
        {
          "output_type": "stream",
          "name": "stderr",
          "text": [
            "100%|██████████| 313/313 [00:43<00:00,  7.21it/s]\n"
          ]
        },
        {
          "output_type": "stream",
          "name": "stdout",
          "text": [
            "  epoch loss: 502.01690328121185\n",
            "----- EVAL -----\n"
          ]
        },
        {
          "output_type": "stream",
          "name": "stderr",
          "text": [
            "100%|██████████| 32/32 [00:03<00:00,  8.16it/s]\n"
          ]
        },
        {
          "output_type": "stream",
          "name": "stdout",
          "text": [
            "  dev accuracy: 0.899\n",
            "  best classifier from epoch 1\n",
            "----- EVAL -----\n",
            "eval best classifier on devtest...\n"
          ]
        },
        {
          "output_type": "stream",
          "name": "stderr",
          "text": [
            "100%|██████████| 32/32 [00:03<00:00,  8.38it/s]"
          ]
        },
        {
          "output_type": "stream",
          "name": "stdout",
          "text": [
            "devtest accuracy: 0.889\n",
            "\n"
          ]
        },
        {
          "output_type": "stream",
          "name": "stderr",
          "text": [
            "\n"
          ]
        }
      ]
    },
    {
      "cell_type": "code",
      "source": [
        "print(final_dev_evals_bert_cls_frozen)\n",
        "print(devtest_evals_bert_cls_frozen)"
      ],
      "metadata": {
        "colab": {
          "base_uri": "https://localhost:8080/"
        },
        "id": "QJle6zxB7WIQ",
        "outputId": "b810c653-a2c4-4690-bc54-a427775f74a7"
      },
      "execution_count": 12,
      "outputs": [
        {
          "output_type": "stream",
          "name": "stdout",
          "text": [
            "[0.962, 0.958, 0.968, 0.972, 0.899]\n",
            "[0.95, 0.955, 0.975, 0.969, 0.889]\n"
          ]
        }
      ]
    },
    {
      "cell_type": "code",
      "source": [
        "dev_accu_mean_bert_cls_frozen = np.mean(final_dev_evals_bert_cls_frozen)\n",
        "dev_accu_std_bert_cls_frozen = np.std(final_dev_evals_bert_cls_frozen)\n",
        "\n",
        "print(\n",
        "f'Across the 5 runs, the mean accuracy on the dev set is {round(dev_accu_mean_bert_cls_frozen, 4)}, \\\n",
        "with a standard deviation of {round(dev_accu_std_bert_cls_frozen, 4)}. \\\n",
        "\\nThe best-performing classifier (w.r.t. dev set accuracy) has an accuracy of \\\n",
        "{round(devtest_evals_bert_cls_frozen[np.argmax(final_dev_evals_bert_cls_frozen)], 4)} on the test set.'\n",
        ")"
      ],
      "metadata": {
        "colab": {
          "base_uri": "https://localhost:8080/"
        },
        "id": "nCZgDcZ8veJ-",
        "outputId": "33768076-136e-468d-99be-17ad91284cfe"
      },
      "execution_count": 13,
      "outputs": [
        {
          "output_type": "stream",
          "name": "stdout",
          "text": [
            "Across the 5 runs, the mean accuracy on the dev set is 0.9518, with a standard deviation of 0.0268. \n",
            "The best-performing classifier (w.r.t. dev set accuracy) has an accuracy of 0.969 on the test set.\n"
          ]
        }
      ]
    },
    {
      "cell_type": "markdown",
      "source": [
        "## 2. mean-pooling and max-pooling across tokens"
      ],
      "metadata": {
        "id": "PUiLmJnWDD-L"
      }
    },
    {
      "cell_type": "markdown",
      "source": [
        "### mean-pooling"
      ],
      "metadata": {
        "id": "8zG8XpCDTqEN"
      }
    },
    {
      "cell_type": "code",
      "source": [
        "# run 1 epoch of training 5 times with random seeds\n",
        "\n",
        "\n",
        "# specify seeds for each run\n",
        "seeds = [42, 645, 234, 534, 56]\n",
        "\n",
        "# for storing dev and devtest accuracy of each run\n",
        "final_dev_evals_bert_mean_frozen = []\n",
        "devtest_evals_bert_mean_frozen = []\n",
        "\n",
        "\n",
        "for i, seed in enumerate(seeds):\n",
        "\n",
        "    print(f'======== RUN {i+1} ======== ')\n",
        "\n",
        "    # set random seed: https://pytorch.org/docs/stable/notes/randomness.html\n",
        "    torch.manual_seed(seed)\n",
        "    torch.cuda.manual_seed_all(seed)\n",
        "    torch.backends.cudnn.deterministic = True\n",
        "    torch.backends.cudnn.benchmark = False\n",
        "\n",
        "    # instantiate classifier for current run\n",
        "    classifier = Classifier(\n",
        "        in_size=bert_model.config.hidden_size,\n",
        "        layer_sizes=[classifier_hidden_size, datasets['train'].n_classes],\n",
        "        layer_acts=[nn.ReLU(), nn.Identity()]\n",
        "    ).to(bert_model.device)\n",
        "\n",
        "    # instantiate optimizer for current run\n",
        "    optimizer = torch.optim.Adam(classifier.parameters(), lr=5e-4)\n",
        "\n",
        "    # set loss function\n",
        "    loss_func = nn.CrossEntropyLoss()\n",
        "\n",
        "    # train and eval current classifier\n",
        "    _, _, _, final_dev_eval, devtest_eval = main_process(\n",
        "        classifier=classifier,\n",
        "        name='bert_mean_frozen_seed'+str(seed),\n",
        "        optimizer=optimizer,\n",
        "        criterion=loss_func,\n",
        "        dataloaders=dataloaders,\n",
        "        pretrained_lm=bert_model,\n",
        "        rep_extractor=extract_bert_rep,\n",
        "        pooling='mean',\n",
        "        max_epochs=1,\n",
        "        early_stopping=3\n",
        "    )\n",
        "    final_dev_evals_bert_mean_frozen.append(final_dev_eval)\n",
        "    devtest_evals_bert_mean_frozen.append(devtest_eval)"
      ],
      "metadata": {
        "colab": {
          "base_uri": "https://localhost:8080/"
        },
        "id": "64gyG-WbDKk7",
        "outputId": "1258cc2c-d145-422c-b343-110128c5c9ee"
      },
      "execution_count": 25,
      "outputs": [
        {
          "output_type": "stream",
          "name": "stdout",
          "text": [
            "======== RUN 1 ======== \n",
            "EPOCH 1\n",
            "----- TRAIN -----\n"
          ]
        },
        {
          "output_type": "stream",
          "name": "stderr",
          "text": [
            "100%|██████████| 313/313 [00:41<00:00,  7.61it/s]\n"
          ]
        },
        {
          "output_type": "stream",
          "name": "stdout",
          "text": [
            "  epoch loss: 379.73703303933144\n",
            "----- EVAL -----\n"
          ]
        },
        {
          "output_type": "stream",
          "name": "stderr",
          "text": [
            "100%|██████████| 32/32 [00:03<00:00,  8.52it/s]\n"
          ]
        },
        {
          "output_type": "stream",
          "name": "stdout",
          "text": [
            "  dev accuracy: 0.956\n",
            "  best classifier from epoch 1\n",
            "----- EVAL -----\n",
            "eval best classifier on devtest...\n"
          ]
        },
        {
          "output_type": "stream",
          "name": "stderr",
          "text": [
            "100%|██████████| 32/32 [00:03<00:00,  8.40it/s]\n"
          ]
        },
        {
          "output_type": "stream",
          "name": "stdout",
          "text": [
            "devtest accuracy: 0.959\n",
            "\n",
            "======== RUN 2 ======== \n",
            "EPOCH 1\n",
            "----- TRAIN -----\n"
          ]
        },
        {
          "output_type": "stream",
          "name": "stderr",
          "text": [
            "100%|██████████| 313/313 [00:42<00:00,  7.41it/s]\n"
          ]
        },
        {
          "output_type": "stream",
          "name": "stdout",
          "text": [
            "  epoch loss: 361.24872237443924\n",
            "----- EVAL -----\n"
          ]
        },
        {
          "output_type": "stream",
          "name": "stderr",
          "text": [
            "100%|██████████| 32/32 [00:03<00:00,  8.06it/s]\n"
          ]
        },
        {
          "output_type": "stream",
          "name": "stdout",
          "text": [
            "  dev accuracy: 0.966\n",
            "  best classifier from epoch 1\n",
            "----- EVAL -----\n",
            "eval best classifier on devtest...\n"
          ]
        },
        {
          "output_type": "stream",
          "name": "stderr",
          "text": [
            "100%|██████████| 32/32 [00:04<00:00,  7.88it/s]\n"
          ]
        },
        {
          "output_type": "stream",
          "name": "stdout",
          "text": [
            "devtest accuracy: 0.963\n",
            "\n",
            "======== RUN 3 ======== \n",
            "EPOCH 1\n",
            "----- TRAIN -----\n"
          ]
        },
        {
          "output_type": "stream",
          "name": "stderr",
          "text": [
            "100%|██████████| 313/313 [00:44<00:00,  7.09it/s]\n"
          ]
        },
        {
          "output_type": "stream",
          "name": "stdout",
          "text": [
            "  epoch loss: 346.2587603032589\n",
            "----- EVAL -----\n"
          ]
        },
        {
          "output_type": "stream",
          "name": "stderr",
          "text": [
            "100%|██████████| 32/32 [00:04<00:00,  7.53it/s]\n"
          ]
        },
        {
          "output_type": "stream",
          "name": "stdout",
          "text": [
            "  dev accuracy: 0.977\n",
            "  best classifier from epoch 1\n",
            "----- EVAL -----\n",
            "eval best classifier on devtest...\n"
          ]
        },
        {
          "output_type": "stream",
          "name": "stderr",
          "text": [
            "100%|██████████| 32/32 [00:04<00:00,  7.81it/s]\n"
          ]
        },
        {
          "output_type": "stream",
          "name": "stdout",
          "text": [
            "devtest accuracy: 0.973\n",
            "\n",
            "======== RUN 4 ======== \n",
            "EPOCH 1\n",
            "----- TRAIN -----\n"
          ]
        },
        {
          "output_type": "stream",
          "name": "stderr",
          "text": [
            "100%|██████████| 313/313 [00:44<00:00,  7.04it/s]\n"
          ]
        },
        {
          "output_type": "stream",
          "name": "stdout",
          "text": [
            "  epoch loss: 338.6590254753828\n",
            "----- EVAL -----\n"
          ]
        },
        {
          "output_type": "stream",
          "name": "stderr",
          "text": [
            "100%|██████████| 32/32 [00:04<00:00,  7.73it/s]\n"
          ]
        },
        {
          "output_type": "stream",
          "name": "stdout",
          "text": [
            "  dev accuracy: 0.973\n",
            "  best classifier from epoch 1\n",
            "----- EVAL -----\n",
            "eval best classifier on devtest...\n"
          ]
        },
        {
          "output_type": "stream",
          "name": "stderr",
          "text": [
            "100%|██████████| 32/32 [00:04<00:00,  7.69it/s]\n"
          ]
        },
        {
          "output_type": "stream",
          "name": "stdout",
          "text": [
            "devtest accuracy: 0.97\n",
            "\n",
            "======== RUN 5 ======== \n",
            "EPOCH 1\n",
            "----- TRAIN -----\n"
          ]
        },
        {
          "output_type": "stream",
          "name": "stderr",
          "text": [
            "100%|██████████| 313/313 [00:45<00:00,  6.91it/s]\n"
          ]
        },
        {
          "output_type": "stream",
          "name": "stdout",
          "text": [
            "  epoch loss: 380.0158703774214\n",
            "----- EVAL -----\n"
          ]
        },
        {
          "output_type": "stream",
          "name": "stderr",
          "text": [
            "100%|██████████| 32/32 [00:03<00:00,  8.01it/s]\n"
          ]
        },
        {
          "output_type": "stream",
          "name": "stdout",
          "text": [
            "  dev accuracy: 0.963\n",
            "  best classifier from epoch 1\n",
            "----- EVAL -----\n",
            "eval best classifier on devtest...\n"
          ]
        },
        {
          "output_type": "stream",
          "name": "stderr",
          "text": [
            "100%|██████████| 32/32 [00:03<00:00,  8.25it/s]"
          ]
        },
        {
          "output_type": "stream",
          "name": "stdout",
          "text": [
            "devtest accuracy: 0.948\n",
            "\n"
          ]
        },
        {
          "output_type": "stream",
          "name": "stderr",
          "text": [
            "\n"
          ]
        }
      ]
    },
    {
      "cell_type": "code",
      "source": [
        "print(final_dev_evals_bert_mean_frozen)\n",
        "print(devtest_evals_bert_mean_frozen)"
      ],
      "metadata": {
        "colab": {
          "base_uri": "https://localhost:8080/"
        },
        "outputId": "8e87b734-db78-48b8-b187-a5a75c0218b5",
        "id": "HO9s8IhiUQuD"
      },
      "execution_count": 26,
      "outputs": [
        {
          "output_type": "stream",
          "name": "stdout",
          "text": [
            "[0.956, 0.966, 0.977, 0.973, 0.963]\n",
            "[0.959, 0.963, 0.973, 0.97, 0.948]\n"
          ]
        }
      ]
    },
    {
      "cell_type": "code",
      "source": [
        "dev_accu_mean_bert_mean_frozen = np.mean(final_dev_evals_bert_mean_frozen)\n",
        "dev_accu_std_bert_mean_frozen = np.std(final_dev_evals_bert_mean_frozen)\n",
        "\n",
        "print(\n",
        "f'Across the 5 runs, the mean accuracy on the dev set is {round(dev_accu_mean_bert_mean_frozen, 4)}, \\\n",
        "with a standard deviation of {round(dev_accu_std_bert_mean_frozen, 4)}. \\\n",
        "\\nThe best-performing classifier (w.r.t. dev set accuracy) has an accuracy of \\\n",
        "{round(devtest_evals_bert_mean_frozen[np.argmax(final_dev_evals_bert_mean_frozen)], 4)} on the test set.'\n",
        ")"
      ],
      "metadata": {
        "colab": {
          "base_uri": "https://localhost:8080/"
        },
        "outputId": "cde26f13-6bde-4dfa-d9b7-62cfd7b0a2ea",
        "id": "PlEhwwkoUQuP"
      },
      "execution_count": 27,
      "outputs": [
        {
          "output_type": "stream",
          "name": "stdout",
          "text": [
            "Across the 5 runs, the mean accuracy on the dev set is 0.967, with a standard deviation of 0.0074. \n",
            "The best-performing classifier (w.r.t. dev set accuracy) has an accuracy of 0.973 on the test set.\n"
          ]
        }
      ]
    },
    {
      "cell_type": "markdown",
      "source": [
        "### max-pooling"
      ],
      "metadata": {
        "id": "qcDB_qZ-UDSB"
      }
    },
    {
      "cell_type": "code",
      "source": [
        "# run 1 epoch of training 5 times with random seeds\n",
        "\n",
        "\n",
        "# specify seeds for each run\n",
        "seeds = [42, 645, 234, 534, 56]\n",
        "\n",
        "# for storing dev and devtest accuracy of each run\n",
        "final_dev_evals_bert_max_frozen = []\n",
        "devtest_evals_bert_max_frozen = []\n",
        "\n",
        "\n",
        "for i, seed in enumerate(seeds):\n",
        "\n",
        "    print(f'======== RUN {i+1} ======== ')\n",
        "\n",
        "    # set random seed: https://pytorch.org/docs/stable/notes/randomness.html\n",
        "    torch.manual_seed(seed)\n",
        "    torch.cuda.manual_seed_all(seed)\n",
        "    torch.backends.cudnn.deterministic = True\n",
        "    torch.backends.cudnn.benchmark = False\n",
        "\n",
        "    # instantiate classifier for current run\n",
        "    classifier = Classifier(\n",
        "        in_size=bert_model.config.hidden_size,\n",
        "        layer_sizes=[classifier_hidden_size, datasets['train'].n_classes],\n",
        "        layer_acts=[nn.ReLU(), nn.Identity()]\n",
        "    ).to(bert_model.device)\n",
        "\n",
        "    # instantiate optimizer for current run\n",
        "    optimizer = torch.optim.Adam(classifier.parameters(), lr=5e-4)\n",
        "\n",
        "    # set loss function\n",
        "    loss_func = nn.CrossEntropyLoss()\n",
        "\n",
        "    # train and eval current classifier\n",
        "    _, _, _, final_dev_eval, devtest_eval = main_process(\n",
        "        classifier=classifier,\n",
        "        name='bert_max_frozen_seed'+str(seed),\n",
        "        optimizer=optimizer,\n",
        "        criterion=loss_func,\n",
        "        dataloaders=dataloaders,\n",
        "        pretrained_lm=bert_model,\n",
        "        rep_extractor=extract_bert_rep,\n",
        "        pooling='max',\n",
        "        max_epochs=1,\n",
        "        early_stopping=3\n",
        "    )\n",
        "    final_dev_evals_bert_max_frozen.append(final_dev_eval)\n",
        "    devtest_evals_bert_max_frozen.append(devtest_eval)"
      ],
      "metadata": {
        "colab": {
          "base_uri": "https://localhost:8080/"
        },
        "id": "jxrc1O59-aFu",
        "outputId": "d3883d8f-c234-4aff-ee56-56a2b1d5dd05"
      },
      "execution_count": 28,
      "outputs": [
        {
          "output_type": "stream",
          "name": "stdout",
          "text": [
            "======== RUN 1 ======== \n",
            "EPOCH 1\n",
            "----- TRAIN -----\n"
          ]
        },
        {
          "output_type": "stream",
          "name": "stderr",
          "text": [
            "100%|██████████| 313/313 [00:40<00:00,  7.75it/s]\n"
          ]
        },
        {
          "output_type": "stream",
          "name": "stdout",
          "text": [
            "  epoch loss: 611.1268037557602\n",
            "----- EVAL -----\n"
          ]
        },
        {
          "output_type": "stream",
          "name": "stderr",
          "text": [
            "100%|██████████| 32/32 [00:03<00:00,  8.66it/s]\n"
          ]
        },
        {
          "output_type": "stream",
          "name": "stdout",
          "text": [
            "  dev accuracy: 0.751\n",
            "  best classifier from epoch 1\n",
            "----- EVAL -----\n",
            "eval best classifier on devtest...\n"
          ]
        },
        {
          "output_type": "stream",
          "name": "stderr",
          "text": [
            "100%|██████████| 32/32 [00:03<00:00,  8.66it/s]\n"
          ]
        },
        {
          "output_type": "stream",
          "name": "stdout",
          "text": [
            "devtest accuracy: 0.746\n",
            "\n",
            "======== RUN 2 ======== \n",
            "EPOCH 1\n",
            "----- TRAIN -----\n"
          ]
        },
        {
          "output_type": "stream",
          "name": "stderr",
          "text": [
            "100%|██████████| 313/313 [00:42<00:00,  7.37it/s]\n"
          ]
        },
        {
          "output_type": "stream",
          "name": "stdout",
          "text": [
            "  epoch loss: 649.1984082460403\n",
            "----- EVAL -----\n"
          ]
        },
        {
          "output_type": "stream",
          "name": "stderr",
          "text": [
            "100%|██████████| 32/32 [00:03<00:00,  8.27it/s]\n"
          ]
        },
        {
          "output_type": "stream",
          "name": "stdout",
          "text": [
            "  dev accuracy: 0.634\n",
            "  best classifier from epoch 1\n",
            "----- EVAL -----\n",
            "eval best classifier on devtest...\n"
          ]
        },
        {
          "output_type": "stream",
          "name": "stderr",
          "text": [
            "100%|██████████| 32/32 [00:03<00:00,  8.37it/s]\n"
          ]
        },
        {
          "output_type": "stream",
          "name": "stdout",
          "text": [
            "devtest accuracy: 0.63\n",
            "\n",
            "======== RUN 3 ======== \n",
            "EPOCH 1\n",
            "----- TRAIN -----\n"
          ]
        },
        {
          "output_type": "stream",
          "name": "stderr",
          "text": [
            "100%|██████████| 313/313 [00:42<00:00,  7.30it/s]\n"
          ]
        },
        {
          "output_type": "stream",
          "name": "stdout",
          "text": [
            "  epoch loss: 688.3176131248474\n",
            "----- EVAL -----\n"
          ]
        },
        {
          "output_type": "stream",
          "name": "stderr",
          "text": [
            "100%|██████████| 32/32 [00:03<00:00,  8.14it/s]\n"
          ]
        },
        {
          "output_type": "stream",
          "name": "stdout",
          "text": [
            "  dev accuracy: 0.5\n",
            "  best classifier from epoch 1\n",
            "----- EVAL -----\n",
            "eval best classifier on devtest...\n"
          ]
        },
        {
          "output_type": "stream",
          "name": "stderr",
          "text": [
            "100%|██████████| 32/32 [00:03<00:00,  8.41it/s]\n"
          ]
        },
        {
          "output_type": "stream",
          "name": "stdout",
          "text": [
            "devtest accuracy: 0.497\n",
            "\n",
            "======== RUN 4 ======== \n",
            "EPOCH 1\n",
            "----- TRAIN -----\n"
          ]
        },
        {
          "output_type": "stream",
          "name": "stderr",
          "text": [
            "100%|██████████| 313/313 [00:43<00:00,  7.19it/s]\n"
          ]
        },
        {
          "output_type": "stream",
          "name": "stdout",
          "text": [
            "  epoch loss: 680.7080105543137\n",
            "----- EVAL -----\n"
          ]
        },
        {
          "output_type": "stream",
          "name": "stderr",
          "text": [
            "100%|██████████| 32/32 [00:03<00:00,  8.11it/s]\n"
          ]
        },
        {
          "output_type": "stream",
          "name": "stdout",
          "text": [
            "  dev accuracy: 0.515\n",
            "  best classifier from epoch 1\n",
            "----- EVAL -----\n",
            "eval best classifier on devtest...\n"
          ]
        },
        {
          "output_type": "stream",
          "name": "stderr",
          "text": [
            "100%|██████████| 32/32 [00:03<00:00,  8.34it/s]\n"
          ]
        },
        {
          "output_type": "stream",
          "name": "stdout",
          "text": [
            "devtest accuracy: 0.518\n",
            "\n",
            "======== RUN 5 ======== \n",
            "EPOCH 1\n",
            "----- TRAIN -----\n"
          ]
        },
        {
          "output_type": "stream",
          "name": "stderr",
          "text": [
            "100%|██████████| 313/313 [00:44<00:00,  7.09it/s]\n"
          ]
        },
        {
          "output_type": "stream",
          "name": "stdout",
          "text": [
            "  epoch loss: 618.6238803863525\n",
            "----- EVAL -----\n"
          ]
        },
        {
          "output_type": "stream",
          "name": "stderr",
          "text": [
            "100%|██████████| 32/32 [00:03<00:00,  8.06it/s]\n"
          ]
        },
        {
          "output_type": "stream",
          "name": "stdout",
          "text": [
            "  dev accuracy: 0.637\n",
            "  best classifier from epoch 1\n",
            "----- EVAL -----\n",
            "eval best classifier on devtest...\n"
          ]
        },
        {
          "output_type": "stream",
          "name": "stderr",
          "text": [
            "100%|██████████| 32/32 [00:03<00:00,  8.25it/s]"
          ]
        },
        {
          "output_type": "stream",
          "name": "stdout",
          "text": [
            "devtest accuracy: 0.633\n",
            "\n"
          ]
        },
        {
          "output_type": "stream",
          "name": "stderr",
          "text": [
            "\n"
          ]
        }
      ]
    },
    {
      "cell_type": "code",
      "source": [
        "print(final_dev_evals_bert_max_frozen)\n",
        "print(devtest_evals_bert_max_frozen)"
      ],
      "metadata": {
        "colab": {
          "base_uri": "https://localhost:8080/"
        },
        "outputId": "3e07b500-2874-4bcb-e87d-eb812199b8e1",
        "id": "U9apalraVgd4"
      },
      "execution_count": 29,
      "outputs": [
        {
          "output_type": "stream",
          "name": "stdout",
          "text": [
            "[0.751, 0.634, 0.5, 0.515, 0.637]\n",
            "[0.746, 0.63, 0.497, 0.518, 0.633]\n"
          ]
        }
      ]
    },
    {
      "cell_type": "code",
      "source": [
        "dev_accu_mean_bert_max_frozen = np.mean(final_dev_evals_bert_max_frozen)\n",
        "dev_accu_std_bert_max_frozen = np.std(final_dev_evals_bert_max_frozen)\n",
        "\n",
        "print(\n",
        "f'Across the 5 runs, the mean accuracy on the dev set is {round(dev_accu_mean_bert_max_frozen, 4)}, \\\n",
        "with a standard deviation of {round(dev_accu_std_bert_max_frozen, 4)}. \\\n",
        "\\nThe best-performing classifier (w.r.t. dev set accuracy) has an accuracy of \\\n",
        "{round(devtest_evals_bert_max_frozen[np.argmax(final_dev_evals_bert_max_frozen)], 4)} on the test set.'\n",
        ")"
      ],
      "metadata": {
        "colab": {
          "base_uri": "https://localhost:8080/"
        },
        "outputId": "bb170de1-0975-41f9-fb28-d2a8500166e0",
        "id": "Dft6YM6kVgeE"
      },
      "execution_count": 30,
      "outputs": [
        {
          "output_type": "stream",
          "name": "stdout",
          "text": [
            "Across the 5 runs, the mean accuracy on the dev set is 0.6074, with a standard deviation of 0.092. \n",
            "The best-performing classifier (w.r.t. dev set accuracy) has an accuracy of 0.746 on the test set.\n"
          ]
        }
      ]
    },
    {
      "cell_type": "markdown",
      "source": [
        "## 3. comparing pooling techniques\n",
        "\n",
        "- As shown in the above results, mean-pooling achieved the highest sentence classification accuracy with frozen BERT features.\n",
        "- First-token pooling has quite similar performance to mean-pooling, but slightly worse (by only around 1~2%).\n",
        "- Max-pooling had the lowest accuracy, and its classification accuracy was 20~35% lower than that of mean-pooling and first-token pooling."
      ],
      "metadata": {
        "id": "MYWN39jVDTHz"
      }
    },
    {
      "cell_type": "markdown",
      "source": [
        "## 4. BERT fine-tuning with [CLS] features"
      ],
      "metadata": {
        "id": "M8D6jqofIFCt"
      }
    },
    {
      "cell_type": "code",
      "source": [
        "# check BERT last two layers (layers 10 and 11)\n",
        "for name, param in bert_model.named_parameters():\n",
        "    if name.startswith('encoder.layer.10') or name.startswith('encoder.layer.11'): print(name)"
      ],
      "metadata": {
        "colab": {
          "base_uri": "https://localhost:8080/"
        },
        "id": "JCRnhmkLZPzq",
        "outputId": "42277d44-3b9a-4acf-ce25-ffd668b6e63c"
      },
      "execution_count": null,
      "outputs": [
        {
          "output_type": "stream",
          "name": "stdout",
          "text": [
            "encoder.layer.10.attention.self.query.weight\n",
            "encoder.layer.10.attention.self.query.bias\n",
            "encoder.layer.10.attention.self.key.weight\n",
            "encoder.layer.10.attention.self.key.bias\n",
            "encoder.layer.10.attention.self.value.weight\n",
            "encoder.layer.10.attention.self.value.bias\n",
            "encoder.layer.10.attention.output.dense.weight\n",
            "encoder.layer.10.attention.output.dense.bias\n",
            "encoder.layer.10.attention.output.LayerNorm.weight\n",
            "encoder.layer.10.attention.output.LayerNorm.bias\n",
            "encoder.layer.10.intermediate.dense.weight\n",
            "encoder.layer.10.intermediate.dense.bias\n",
            "encoder.layer.10.output.dense.weight\n",
            "encoder.layer.10.output.dense.bias\n",
            "encoder.layer.10.output.LayerNorm.weight\n",
            "encoder.layer.10.output.LayerNorm.bias\n",
            "encoder.layer.11.attention.self.query.weight\n",
            "encoder.layer.11.attention.self.query.bias\n",
            "encoder.layer.11.attention.self.key.weight\n",
            "encoder.layer.11.attention.self.key.bias\n",
            "encoder.layer.11.attention.self.value.weight\n",
            "encoder.layer.11.attention.self.value.bias\n",
            "encoder.layer.11.attention.output.dense.weight\n",
            "encoder.layer.11.attention.output.dense.bias\n",
            "encoder.layer.11.attention.output.LayerNorm.weight\n",
            "encoder.layer.11.attention.output.LayerNorm.bias\n",
            "encoder.layer.11.intermediate.dense.weight\n",
            "encoder.layer.11.intermediate.dense.bias\n",
            "encoder.layer.11.output.dense.weight\n",
            "encoder.layer.11.output.dense.bias\n",
            "encoder.layer.11.output.LayerNorm.weight\n",
            "encoder.layer.11.output.LayerNorm.bias\n"
          ]
        }
      ]
    },
    {
      "cell_type": "code",
      "source": [
        "# run 1 epoch of training 5 times with random seeds\n",
        "\n",
        "\n",
        "# specify seeds for each run\n",
        "seeds = [42, 645, 234, 534, 56]\n",
        "\n",
        "# for storing dev and devtest accuracy of each run\n",
        "final_dev_evals_bert_cls_tune = []\n",
        "devtest_evals_bert_cls_tune = []\n",
        "\n",
        "\n",
        "for i, seed in enumerate(seeds):\n",
        "\n",
        "    print(f'======== RUN {i+1} ======== ')\n",
        "\n",
        "    # set random seed: https://pytorch.org/docs/stable/notes/randomness.html\n",
        "    torch.manual_seed(seed)\n",
        "    torch.cuda.manual_seed_all(seed)\n",
        "    torch.backends.cudnn.deterministic = True\n",
        "    torch.backends.cudnn.benchmark = False\n",
        "\n",
        "    ################# instantiate BERT model to be fine-tuned #################\n",
        "    bert_model_tune = AutoModel.from_pretrained('bert-base-cased')\n",
        "    if torch.cuda.is_available():  # use GPU if available\n",
        "        bert_model_tune = bert_model_tune.cuda()\n",
        "    ###########################################################################\n",
        "\n",
        "    # instantiate classifier for current run\n",
        "    classifier = Classifier(\n",
        "        in_size=bert_model_tune.config.hidden_size,\n",
        "        layer_sizes=[classifier_hidden_size, datasets['train'].n_classes],\n",
        "        layer_acts=[nn.ReLU(), nn.Identity()]\n",
        "    ).to(bert_model_tune.device)\n",
        "\n",
        "    ########## add BERT last two layers' parameters to params to be optimized ##########\n",
        "    params = list()\n",
        "    for name, param in bert_model_tune.named_parameters():\n",
        "        if name.startswith('encoder.layer.10') or name.startswith('encoder.layer.11'): params.append(param)\n",
        "\n",
        "    # instantiate optimizer for current run\n",
        "    optimizer = torch.optim.Adam(params + list(classifier.parameters()), lr=5e-4)\n",
        "    ####################################################################################\n",
        "\n",
        "    # set loss function\n",
        "    loss_func = nn.CrossEntropyLoss()\n",
        "\n",
        "    # train and eval current classifier\n",
        "    _, _, _, final_dev_eval, devtest_eval = main_process(\n",
        "        classifier=classifier,\n",
        "        name='bert_cls_tune_seed'+str(seed),\n",
        "        optimizer=optimizer,\n",
        "        criterion=loss_func,\n",
        "        dataloaders=dataloaders,\n",
        "        pretrained_lm=bert_model_tune,\n",
        "        rep_extractor=extract_bert_rep,\n",
        "        pooling='first',\n",
        "        max_epochs=1,\n",
        "        early_stopping=3\n",
        "    )\n",
        "    final_dev_evals_bert_cls_tune.append(final_dev_eval)\n",
        "    devtest_evals_bert_cls_tune.append(devtest_eval)"
      ],
      "metadata": {
        "colab": {
          "base_uri": "https://localhost:8080/"
        },
        "id": "Uo_mTztUi2VO",
        "outputId": "ec89c885-35a4-4a59-f57f-179b04cc4fd1"
      },
      "execution_count": 31,
      "outputs": [
        {
          "output_type": "stream",
          "name": "stdout",
          "text": [
            "======== RUN 1 ======== \n",
            "EPOCH 1\n",
            "----- TRAIN -----\n"
          ]
        },
        {
          "output_type": "stream",
          "name": "stderr",
          "text": [
            "100%|██████████| 313/313 [00:42<00:00,  7.36it/s]\n"
          ]
        },
        {
          "output_type": "stream",
          "name": "stdout",
          "text": [
            "  epoch loss: 392.02118411660194\n",
            "----- EVAL -----\n"
          ]
        },
        {
          "output_type": "stream",
          "name": "stderr",
          "text": [
            "100%|██████████| 32/32 [00:03<00:00,  8.20it/s]\n"
          ]
        },
        {
          "output_type": "stream",
          "name": "stdout",
          "text": [
            "  dev accuracy: 0.967\n",
            "  best classifier from epoch 1\n",
            "----- EVAL -----\n",
            "eval best classifier on devtest...\n"
          ]
        },
        {
          "output_type": "stream",
          "name": "stderr",
          "text": [
            "100%|██████████| 32/32 [00:03<00:00,  8.41it/s]\n"
          ]
        },
        {
          "output_type": "stream",
          "name": "stdout",
          "text": [
            "devtest accuracy: 0.973\n",
            "\n",
            "======== RUN 2 ======== \n",
            "EPOCH 1\n",
            "----- TRAIN -----\n"
          ]
        },
        {
          "output_type": "stream",
          "name": "stderr",
          "text": [
            "100%|██████████| 313/313 [00:43<00:00,  7.21it/s]\n"
          ]
        },
        {
          "output_type": "stream",
          "name": "stdout",
          "text": [
            "  epoch loss: 389.5255144238472\n",
            "----- EVAL -----\n"
          ]
        },
        {
          "output_type": "stream",
          "name": "stderr",
          "text": [
            "100%|██████████| 32/32 [00:03<00:00,  8.12it/s]\n"
          ]
        },
        {
          "output_type": "stream",
          "name": "stdout",
          "text": [
            "  dev accuracy: 0.966\n",
            "  best classifier from epoch 1\n",
            "----- EVAL -----\n",
            "eval best classifier on devtest...\n"
          ]
        },
        {
          "output_type": "stream",
          "name": "stderr",
          "text": [
            "100%|██████████| 32/32 [00:03<00:00,  8.28it/s]\n"
          ]
        },
        {
          "output_type": "stream",
          "name": "stdout",
          "text": [
            "devtest accuracy: 0.964\n",
            "\n",
            "======== RUN 3 ======== \n",
            "EPOCH 1\n",
            "----- TRAIN -----\n"
          ]
        },
        {
          "output_type": "stream",
          "name": "stderr",
          "text": [
            "100%|██████████| 313/313 [00:44<00:00,  7.08it/s]\n"
          ]
        },
        {
          "output_type": "stream",
          "name": "stdout",
          "text": [
            "  epoch loss: 428.09788951277733\n",
            "----- EVAL -----\n"
          ]
        },
        {
          "output_type": "stream",
          "name": "stderr",
          "text": [
            "100%|██████████| 32/32 [00:04<00:00,  7.96it/s]\n"
          ]
        },
        {
          "output_type": "stream",
          "name": "stdout",
          "text": [
            "  dev accuracy: 0.973\n",
            "  best classifier from epoch 1\n",
            "----- EVAL -----\n",
            "eval best classifier on devtest...\n"
          ]
        },
        {
          "output_type": "stream",
          "name": "stderr",
          "text": [
            "100%|██████████| 32/32 [00:03<00:00,  8.08it/s]\n"
          ]
        },
        {
          "output_type": "stream",
          "name": "stdout",
          "text": [
            "devtest accuracy: 0.972\n",
            "\n",
            "======== RUN 4 ======== \n",
            "EPOCH 1\n",
            "----- TRAIN -----\n"
          ]
        },
        {
          "output_type": "stream",
          "name": "stderr",
          "text": [
            "100%|██████████| 313/313 [00:44<00:00,  7.10it/s]\n"
          ]
        },
        {
          "output_type": "stream",
          "name": "stdout",
          "text": [
            "  epoch loss: 432.39132446050644\n",
            "----- EVAL -----\n"
          ]
        },
        {
          "output_type": "stream",
          "name": "stderr",
          "text": [
            "100%|██████████| 32/32 [00:04<00:00,  7.95it/s]\n"
          ]
        },
        {
          "output_type": "stream",
          "name": "stdout",
          "text": [
            "  dev accuracy: 0.939\n",
            "  best classifier from epoch 1\n",
            "----- EVAL -----\n",
            "eval best classifier on devtest...\n"
          ]
        },
        {
          "output_type": "stream",
          "name": "stderr",
          "text": [
            "100%|██████████| 32/32 [00:03<00:00,  8.22it/s]\n"
          ]
        },
        {
          "output_type": "stream",
          "name": "stdout",
          "text": [
            "devtest accuracy: 0.931\n",
            "\n",
            "======== RUN 5 ======== \n",
            "EPOCH 1\n",
            "----- TRAIN -----\n"
          ]
        },
        {
          "output_type": "stream",
          "name": "stderr",
          "text": [
            "100%|██████████| 313/313 [00:44<00:00,  7.07it/s]\n"
          ]
        },
        {
          "output_type": "stream",
          "name": "stdout",
          "text": [
            "  epoch loss: 396.9234875738621\n",
            "----- EVAL -----\n"
          ]
        },
        {
          "output_type": "stream",
          "name": "stderr",
          "text": [
            "100%|██████████| 32/32 [00:04<00:00,  7.93it/s]\n"
          ]
        },
        {
          "output_type": "stream",
          "name": "stdout",
          "text": [
            "  dev accuracy: 0.969\n",
            "  best classifier from epoch 1\n",
            "----- EVAL -----\n",
            "eval best classifier on devtest...\n"
          ]
        },
        {
          "output_type": "stream",
          "name": "stderr",
          "text": [
            "100%|██████████| 32/32 [00:03<00:00,  8.12it/s]"
          ]
        },
        {
          "output_type": "stream",
          "name": "stdout",
          "text": [
            "devtest accuracy: 0.972\n",
            "\n"
          ]
        },
        {
          "output_type": "stream",
          "name": "stderr",
          "text": [
            "\n"
          ]
        }
      ]
    },
    {
      "cell_type": "code",
      "source": [
        "print(final_dev_evals_bert_cls_tune)\n",
        "print(devtest_evals_bert_cls_tune)"
      ],
      "metadata": {
        "colab": {
          "base_uri": "https://localhost:8080/"
        },
        "outputId": "655ff494-fb9b-4246-c998-2453d27b36ba",
        "id": "z7X5NwxyoMEw"
      },
      "execution_count": 32,
      "outputs": [
        {
          "output_type": "stream",
          "name": "stdout",
          "text": [
            "[0.967, 0.966, 0.973, 0.939, 0.969]\n",
            "[0.973, 0.964, 0.972, 0.931, 0.972]\n"
          ]
        }
      ]
    },
    {
      "cell_type": "code",
      "source": [
        "dev_accu_mean_bert_cls_tune = np.mean(final_dev_evals_bert_cls_tune)\n",
        "dev_accu_std_bert_cls_tune = np.std(final_dev_evals_bert_cls_tune)\n",
        "\n",
        "print(\n",
        "f'Across the 5 runs, the mean accuracy on the dev set is {round(dev_accu_mean_bert_cls_tune, 4)}, \\\n",
        "with a standard deviation of {round(dev_accu_std_bert_cls_tune, 4)}. \\\n",
        "\\nThe best-performing classifier (w.r.t. dev set accuracy) has an accuracy of \\\n",
        "{round(devtest_evals_bert_cls_tune[np.argmax(final_dev_evals_bert_cls_tune)], 4)} on the test set.'\n",
        ")"
      ],
      "metadata": {
        "colab": {
          "base_uri": "https://localhost:8080/"
        },
        "outputId": "5be799c3-b1a8-43c6-9fee-a054e7f0c849",
        "id": "Fb938mseoME8"
      },
      "execution_count": 33,
      "outputs": [
        {
          "output_type": "stream",
          "name": "stdout",
          "text": [
            "Across the 5 runs, the mean accuracy on the dev set is 0.9628, with a standard deviation of 0.0121. \n",
            "The best-performing classifier (w.r.t. dev set accuracy) has an accuracy of 0.972 on the test set.\n"
          ]
        }
      ]
    },
    {
      "cell_type": "markdown",
      "source": [
        "- Fine-tuning BERT with [CLS] features produced slightly better classification accuracy compared to using frozen BERT [CLS] features.\n",
        "- However, classification accuracy after fine-tuning BERT with [CLS] features did not exceed mean-pooling with frozen BERT features.\n",
        "- Classification accuracy after fine-tuning BERT with [CLS] features still exceeded max-pooling with frozen BERT features by far."
      ],
      "metadata": {
        "id": "suShnNEwqUyw"
      }
    },
    {
      "cell_type": "markdown",
      "source": [
        "## 5. GPT-2"
      ],
      "metadata": {
        "id": "Wxf6dTi4DaKi"
      }
    },
    {
      "cell_type": "markdown",
      "source": [
        "### setup"
      ],
      "metadata": {
        "id": "UtvanBk-QIha"
      }
    },
    {
      "cell_type": "code",
      "source": [
        "# set hyperparameters\n",
        "batch_size = 32\n",
        "classifier_hidden_size = 32\n",
        "\n",
        "# load GPT-2 tokenizer\n",
        "gpt2_tokenizer = AutoTokenizer.from_pretrained('gpt2')\n",
        "gpt2_tokenizer.pad_token = gpt2_tokenizer.eos_token\n",
        "\n",
        "# load GPT-2 model\n",
        "gpt2_model = AutoModel.from_pretrained('gpt2')  # https://huggingface.co/transformers/v3.0.2/model_doc/auto.html#automodel\n",
        "if torch.cuda.is_available():  # use GPU if available\n",
        "    gpt2_model = gpt2_model.cuda()\n",
        "\n",
        "# construct datasets with GPT2 tokenizer\n",
        "gpt2_datasets, gpt2_dataloaders = construct_datasets(\n",
        "    prefix='/content/drive/MyDrive/LLMs/data/dbpedia_',\n",
        "    batch_size=batch_size,\n",
        "    tokenizer=gpt2_tokenizer,\n",
        "    device=gpt2_model.device\n",
        ")\n",
        "\n",
        "# # sanity check\n",
        "# datasets['train'].__getitem__(0)\n",
        "\n",
        "# # sanity check\n",
        "# dtrain0 = next(iter(dataloaders['train']))\n",
        "# # labels\n",
        "# dtrain0[0]\n",
        "# # sentences\n",
        "# dtrain0[1].keys()   # ['input_ids', 'attention_mask']\n",
        "# import pandas as pd\n",
        "# pd.DataFrame(dtrain0[1]['input_ids'])"
      ],
      "metadata": {
        "id": "LdiqKD7mrXMc"
      },
      "execution_count": 34,
      "outputs": []
    },
    {
      "cell_type": "code",
      "source": [
        "# func for extracting frozen GPT2 token representations for sentences and pooling\n",
        "\n",
        "def extract_gpt2_rep(pretrained_lm, sentences:dict, pooling:str):\n",
        "\n",
        "\n",
        "    # extract frozen GPT2 token representations for sentences\n",
        "    with torch.no_grad():   # keep GPT2 params fixed\n",
        "        unpooled_features = pretrained_lm(**sentences).last_hidden_state  # (B, L, D): (batch_size, num token in sentence, GPT2 rep dimension)\n",
        "\n",
        "\n",
        "    # get pooled_features across tokens for each sentence\n",
        "    if pooling == 'first':\n",
        "        pooled_features = unpooled_features[:, 0, :]   # (B, D)\n",
        "\n",
        "    elif pooling == 'last':\n",
        "        pooled_features = unpooled_features[range(unpooled_features.shape[0]), sentences['attention_mask'].sum(dim=1) - 1, :]   # (B, D)\n",
        "\n",
        "    elif pooling == 'mean':\n",
        "        # mask padding tokens (where attention_mask is 0) with nan\n",
        "        unpooled_features_masked = unpooled_features.masked_fill(\n",
        "            sentences['attention_mask'].unsqueeze(-1)==0,\n",
        "            float('nan')\n",
        "        )\n",
        "        # max-pooling across tokens (L dimension) in each sentence\n",
        "        pooled_features = unpooled_features_masked.nanmean(dim=1)   # (B, D)\n",
        "\n",
        "    elif pooling == 'max':\n",
        "        # mask padding tokens (where attention_mask is 0) with -inf\n",
        "        unpooled_features_masked = unpooled_features.masked_fill(\n",
        "            sentences['attention_mask'].unsqueeze(-1)==0,\n",
        "            float('-inf')\n",
        "        )\n",
        "        # max-pooling across tokens (L dimension) in each sentence\n",
        "        pooled_features, _ = unpooled_features_masked.max(dim=1)   # (B, D)\n",
        "\n",
        "\n",
        "    return pooled_features"
      ],
      "metadata": {
        "id": "rYy7-y3nOyJs"
      },
      "execution_count": 35,
      "outputs": []
    },
    {
      "cell_type": "markdown",
      "source": [
        "### frozen representations\n",
        "\n",
        "Since GPT models are left-hand-side context only, we will use the last content token representation as classifier input."
      ],
      "metadata": {
        "id": "F8O2IVJbQKMs"
      }
    },
    {
      "cell_type": "code",
      "source": [
        "# run 1 epoch of training 5 times with random seeds\n",
        "\n",
        "\n",
        "# specify seeds for each run\n",
        "seeds = [42, 645, 234, 534, 56]\n",
        "\n",
        "# for storing dev and devtest accuracy of each run\n",
        "final_dev_evals_gpt2_last_frozen = []\n",
        "devtest_evals_gpt2_last_frozen = []\n",
        "\n",
        "\n",
        "for i, seed in enumerate(seeds):\n",
        "\n",
        "    print(f'======== RUN {i+1} ======== ')\n",
        "\n",
        "    # set random seed: https://pytorch.org/docs/stable/notes/randomness.html\n",
        "    torch.manual_seed(seed)\n",
        "    torch.cuda.manual_seed_all(seed)\n",
        "    torch.backends.cudnn.deterministic = True\n",
        "    torch.backends.cudnn.benchmark = False\n",
        "\n",
        "    # instantiate classifier for current run\n",
        "    classifier = Classifier(\n",
        "        in_size=gpt2_model.config.hidden_size,\n",
        "        layer_sizes=[classifier_hidden_size, gpt2_datasets['train'].n_classes],\n",
        "        layer_acts=[nn.ReLU(), nn.Identity()]\n",
        "    ).to(gpt2_model.device)\n",
        "\n",
        "    # instantiate optimizer for current run\n",
        "    optimizer = torch.optim.Adam(classifier.parameters(), lr=5e-4)\n",
        "\n",
        "    # set loss function\n",
        "    loss_func = nn.CrossEntropyLoss()\n",
        "\n",
        "    # train and eval current classifier\n",
        "    _, _, _, final_dev_eval, devtest_eval = main_process(\n",
        "        classifier=classifier,\n",
        "        name='gpt2_last_frozen_seed'+str(seed),\n",
        "        optimizer=optimizer,\n",
        "        criterion=loss_func,\n",
        "        dataloaders=gpt2_dataloaders,\n",
        "        pretrained_lm=gpt2_model,\n",
        "        rep_extractor=extract_gpt2_rep,\n",
        "        pooling='last',\n",
        "        max_epochs=1,\n",
        "        early_stopping=3\n",
        "    )\n",
        "    final_dev_evals_gpt2_last_frozen.append(final_dev_eval)\n",
        "    devtest_evals_gpt2_last_frozen.append(devtest_eval)"
      ],
      "metadata": {
        "colab": {
          "base_uri": "https://localhost:8080/"
        },
        "id": "qqo1dB7gQAFu",
        "outputId": "6f2ca14d-bd57-423f-f830-58e45f0ebc01"
      },
      "execution_count": 16,
      "outputs": [
        {
          "output_type": "stream",
          "name": "stdout",
          "text": [
            "======== RUN 1 ======== \n",
            "EPOCH 1\n",
            "----- TRAIN -----\n"
          ]
        },
        {
          "output_type": "stream",
          "name": "stderr",
          "text": [
            "100%|██████████| 313/313 [00:45<00:00,  6.93it/s]\n"
          ]
        },
        {
          "output_type": "stream",
          "name": "stdout",
          "text": [
            "  epoch loss: 368.22356283664703\n",
            "----- EVAL -----\n"
          ]
        },
        {
          "output_type": "stream",
          "name": "stderr",
          "text": [
            "100%|██████████| 32/32 [00:04<00:00,  7.99it/s]\n"
          ]
        },
        {
          "output_type": "stream",
          "name": "stdout",
          "text": [
            "  dev accuracy: 0.934\n",
            "  best classifier from epoch 1\n",
            "----- EVAL -----\n",
            "eval best classifier on devtest...\n"
          ]
        },
        {
          "output_type": "stream",
          "name": "stderr",
          "text": [
            "100%|██████████| 32/32 [00:03<00:00,  8.17it/s]\n"
          ]
        },
        {
          "output_type": "stream",
          "name": "stdout",
          "text": [
            "devtest accuracy: 0.937\n",
            "\n",
            "======== RUN 2 ======== \n",
            "EPOCH 1\n",
            "----- TRAIN -----\n"
          ]
        },
        {
          "output_type": "stream",
          "name": "stderr",
          "text": [
            "100%|██████████| 313/313 [00:45<00:00,  6.95it/s]\n"
          ]
        },
        {
          "output_type": "stream",
          "name": "stdout",
          "text": [
            "  epoch loss: 518.4893066287041\n",
            "----- EVAL -----\n"
          ]
        },
        {
          "output_type": "stream",
          "name": "stderr",
          "text": [
            "100%|██████████| 32/32 [00:04<00:00,  7.90it/s]\n"
          ]
        },
        {
          "output_type": "stream",
          "name": "stdout",
          "text": [
            "  dev accuracy: 0.915\n",
            "  best classifier from epoch 1\n",
            "----- EVAL -----\n",
            "eval best classifier on devtest...\n"
          ]
        },
        {
          "output_type": "stream",
          "name": "stderr",
          "text": [
            "100%|██████████| 32/32 [00:04<00:00,  7.85it/s]\n"
          ]
        },
        {
          "output_type": "stream",
          "name": "stdout",
          "text": [
            "devtest accuracy: 0.911\n",
            "\n",
            "======== RUN 3 ======== \n",
            "EPOCH 1\n",
            "----- TRAIN -----\n"
          ]
        },
        {
          "output_type": "stream",
          "name": "stderr",
          "text": [
            "100%|██████████| 313/313 [00:45<00:00,  6.94it/s]\n"
          ]
        },
        {
          "output_type": "stream",
          "name": "stdout",
          "text": [
            "  epoch loss: 387.91995015740395\n",
            "----- EVAL -----\n"
          ]
        },
        {
          "output_type": "stream",
          "name": "stderr",
          "text": [
            "100%|██████████| 32/32 [00:04<00:00,  7.93it/s]\n"
          ]
        },
        {
          "output_type": "stream",
          "name": "stdout",
          "text": [
            "  dev accuracy: 0.934\n",
            "  best classifier from epoch 1\n",
            "----- EVAL -----\n",
            "eval best classifier on devtest...\n"
          ]
        },
        {
          "output_type": "stream",
          "name": "stderr",
          "text": [
            "100%|██████████| 32/32 [00:03<00:00,  8.06it/s]\n"
          ]
        },
        {
          "output_type": "stream",
          "name": "stdout",
          "text": [
            "devtest accuracy: 0.941\n",
            "\n",
            "======== RUN 4 ======== \n",
            "EPOCH 1\n",
            "----- TRAIN -----\n"
          ]
        },
        {
          "output_type": "stream",
          "name": "stderr",
          "text": [
            "100%|██████████| 313/313 [00:45<00:00,  6.85it/s]\n"
          ]
        },
        {
          "output_type": "stream",
          "name": "stdout",
          "text": [
            "  epoch loss: 361.42160111665726\n",
            "----- EVAL -----\n"
          ]
        },
        {
          "output_type": "stream",
          "name": "stderr",
          "text": [
            "100%|██████████| 32/32 [00:04<00:00,  7.74it/s]\n"
          ]
        },
        {
          "output_type": "stream",
          "name": "stdout",
          "text": [
            "  dev accuracy: 0.933\n",
            "  best classifier from epoch 1\n",
            "----- EVAL -----\n",
            "eval best classifier on devtest...\n"
          ]
        },
        {
          "output_type": "stream",
          "name": "stderr",
          "text": [
            "100%|██████████| 32/32 [00:04<00:00,  7.36it/s]\n"
          ]
        },
        {
          "output_type": "stream",
          "name": "stdout",
          "text": [
            "devtest accuracy: 0.948\n",
            "\n",
            "======== RUN 5 ======== \n",
            "EPOCH 1\n",
            "----- TRAIN -----\n"
          ]
        },
        {
          "output_type": "stream",
          "name": "stderr",
          "text": [
            "100%|██████████| 313/313 [00:46<00:00,  6.77it/s]\n"
          ]
        },
        {
          "output_type": "stream",
          "name": "stdout",
          "text": [
            "  epoch loss: 438.7018740475178\n",
            "----- EVAL -----\n"
          ]
        },
        {
          "output_type": "stream",
          "name": "stderr",
          "text": [
            "100%|██████████| 32/32 [00:04<00:00,  7.69it/s]\n"
          ]
        },
        {
          "output_type": "stream",
          "name": "stdout",
          "text": [
            "  dev accuracy: 0.908\n",
            "  best classifier from epoch 1\n",
            "----- EVAL -----\n",
            "eval best classifier on devtest...\n"
          ]
        },
        {
          "output_type": "stream",
          "name": "stderr",
          "text": [
            "100%|██████████| 32/32 [00:04<00:00,  7.93it/s]"
          ]
        },
        {
          "output_type": "stream",
          "name": "stdout",
          "text": [
            "devtest accuracy: 0.906\n",
            "\n"
          ]
        },
        {
          "output_type": "stream",
          "name": "stderr",
          "text": [
            "\n"
          ]
        }
      ]
    },
    {
      "cell_type": "code",
      "source": [
        "print(final_dev_evals_gpt2_last_frozen)\n",
        "print(devtest_evals_gpt2_last_frozen)"
      ],
      "metadata": {
        "colab": {
          "base_uri": "https://localhost:8080/"
        },
        "outputId": "b780ecf9-db13-4ca0-b6c6-faba5ee95259",
        "id": "NzEAzKj-Q_wk"
      },
      "execution_count": 17,
      "outputs": [
        {
          "output_type": "stream",
          "name": "stdout",
          "text": [
            "[0.934, 0.915, 0.934, 0.933, 0.908]\n",
            "[0.937, 0.911, 0.941, 0.948, 0.906]\n"
          ]
        }
      ]
    },
    {
      "cell_type": "code",
      "source": [
        "dev_accu_mean_gpt2_last_frozen = np.mean(final_dev_evals_gpt2_last_frozen)\n",
        "dev_accu_std_gpt2_last_frozen = np.std(final_dev_evals_gpt2_last_frozen)\n",
        "\n",
        "print(\n",
        "f'Across the 5 runs, the mean accuracy on the dev set is {round(dev_accu_mean_gpt2_last_frozen, 4)}, \\\n",
        "with a standard deviation of {round(dev_accu_std_gpt2_last_frozen, 4)}. \\\n",
        "\\nThe best-performing classifier (w.r.t. dev set accuracy) has an accuracy of \\\n",
        "{round(devtest_evals_gpt2_last_frozen[np.argmax(final_dev_evals_gpt2_last_frozen)], 4)} on the test set.'\n",
        ")"
      ],
      "metadata": {
        "colab": {
          "base_uri": "https://localhost:8080/"
        },
        "outputId": "a5d93530-3d5c-47f2-ffb6-d0ac921222e2",
        "id": "3ySB2veQQ_ww"
      },
      "execution_count": 18,
      "outputs": [
        {
          "output_type": "stream",
          "name": "stdout",
          "text": [
            "Across the 5 runs, the mean accuracy on the dev set is 0.9248, with a standard deviation of 0.0111. \n",
            "The best-performing classifier (w.r.t. dev set accuracy) has an accuracy of 0.937 on the test set.\n"
          ]
        }
      ]
    },
    {
      "cell_type": "markdown",
      "source": [
        "### fine-tuning"
      ],
      "metadata": {
        "id": "aqYq3GydThj1"
      }
    },
    {
      "cell_type": "code",
      "source": [
        "# check GPT2 last two layers\n",
        "for name, param in gpt2_model.named_parameters():\n",
        "    if name.startswith('h.10') or name.startswith('h.11'): print(name)"
      ],
      "metadata": {
        "colab": {
          "base_uri": "https://localhost:8080/"
        },
        "outputId": "1b0dc213-e4bf-4b40-a491-4c72387e92b3",
        "id": "w1Oh4cpPUNPJ"
      },
      "execution_count": 24,
      "outputs": [
        {
          "output_type": "stream",
          "name": "stdout",
          "text": [
            "h.10.ln_1.weight\n",
            "h.10.ln_1.bias\n",
            "h.10.attn.c_attn.weight\n",
            "h.10.attn.c_attn.bias\n",
            "h.10.attn.c_proj.weight\n",
            "h.10.attn.c_proj.bias\n",
            "h.10.ln_2.weight\n",
            "h.10.ln_2.bias\n",
            "h.10.mlp.c_fc.weight\n",
            "h.10.mlp.c_fc.bias\n",
            "h.10.mlp.c_proj.weight\n",
            "h.10.mlp.c_proj.bias\n",
            "h.11.ln_1.weight\n",
            "h.11.ln_1.bias\n",
            "h.11.attn.c_attn.weight\n",
            "h.11.attn.c_attn.bias\n",
            "h.11.attn.c_proj.weight\n",
            "h.11.attn.c_proj.bias\n",
            "h.11.ln_2.weight\n",
            "h.11.ln_2.bias\n",
            "h.11.mlp.c_fc.weight\n",
            "h.11.mlp.c_fc.bias\n",
            "h.11.mlp.c_proj.weight\n",
            "h.11.mlp.c_proj.bias\n"
          ]
        }
      ]
    },
    {
      "cell_type": "code",
      "source": [
        "# run 1 epoch of training 5 times with random seeds\n",
        "\n",
        "\n",
        "# specify seeds for each run\n",
        "seeds = [42, 645, 234, 534, 56]\n",
        "\n",
        "# for storing dev and devtest accuracy of each run\n",
        "final_dev_evals_gpt2_last_tune = []\n",
        "devtest_evals_gpt2_last_tune = []\n",
        "\n",
        "\n",
        "for i, seed in enumerate(seeds):\n",
        "\n",
        "    print(f'======== RUN {i+1} ======== ')\n",
        "\n",
        "    # set random seed: https://pytorch.org/docs/stable/notes/randomness.html\n",
        "    torch.manual_seed(seed)\n",
        "    torch.cuda.manual_seed_all(seed)\n",
        "    torch.backends.cudnn.deterministic = True\n",
        "    torch.backends.cudnn.benchmark = False\n",
        "\n",
        "    ################# instantiate GPT2 model to be fine-tuned #################\n",
        "    gpt2_model_tune = AutoModel.from_pretrained('gpt2')\n",
        "    if torch.cuda.is_available():  # use GPU if available\n",
        "        gpt2_model_tune = gpt2_model_tune.cuda()\n",
        "    ###########################################################################\n",
        "\n",
        "    # instantiate classifier for current run\n",
        "    classifier = Classifier(\n",
        "        in_size=gpt2_model_tune.config.hidden_size,\n",
        "        layer_sizes=[classifier_hidden_size, datasets['train'].n_classes],\n",
        "        layer_acts=[nn.ReLU(), nn.Identity()]\n",
        "    ).to(gpt2_model_tune.device)\n",
        "\n",
        "    ########## add GPT2 last two layers' parameters to params to be optimized ##########\n",
        "    params = list()\n",
        "    for name, param in gpt2_model_tune.named_parameters():\n",
        "        if name.startswith('h.10') or name.startswith('h.11'): params.append(param)\n",
        "\n",
        "    # instantiate optimizer for current run\n",
        "    optimizer = torch.optim.Adam(params + list(classifier.parameters()), lr=5e-4)\n",
        "    ####################################################################################\n",
        "\n",
        "    # set loss function\n",
        "    loss_func = nn.CrossEntropyLoss()\n",
        "\n",
        "    # train and eval current classifier\n",
        "    _, _, _, final_dev_eval, devtest_eval = main_process(\n",
        "        classifier=classifier,\n",
        "        name='gpt2_last_tune_seed'+str(seed),\n",
        "        optimizer=optimizer,\n",
        "        criterion=loss_func,\n",
        "        dataloaders=gpt2_dataloaders,\n",
        "        pretrained_lm=gpt2_model_tune,\n",
        "        rep_extractor=extract_gpt2_rep,\n",
        "        pooling='last',\n",
        "        max_epochs=1,\n",
        "        early_stopping=3\n",
        "    )\n",
        "    final_dev_evals_gpt2_last_tune.append(final_dev_eval)\n",
        "    devtest_evals_gpt2_last_tune.append(devtest_eval)"
      ],
      "metadata": {
        "colab": {
          "base_uri": "https://localhost:8080/"
        },
        "outputId": "678dcf6e-b60e-494b-d16a-3df56fd553c3",
        "id": "FfxYlR8oUNPV"
      },
      "execution_count": 36,
      "outputs": [
        {
          "output_type": "stream",
          "name": "stdout",
          "text": [
            "======== RUN 1 ======== \n",
            "EPOCH 1\n",
            "----- TRAIN -----\n"
          ]
        },
        {
          "output_type": "stream",
          "name": "stderr",
          "text": [
            "100%|██████████| 313/313 [00:46<00:00,  6.71it/s]\n"
          ]
        },
        {
          "output_type": "stream",
          "name": "stdout",
          "text": [
            "  epoch loss: 393.1364585161209\n",
            "----- EVAL -----\n"
          ]
        },
        {
          "output_type": "stream",
          "name": "stderr",
          "text": [
            "100%|██████████| 32/32 [00:04<00:00,  7.98it/s]\n"
          ]
        },
        {
          "output_type": "stream",
          "name": "stdout",
          "text": [
            "  dev accuracy: 0.93\n",
            "  best classifier from epoch 1\n",
            "----- EVAL -----\n",
            "eval best classifier on devtest...\n"
          ]
        },
        {
          "output_type": "stream",
          "name": "stderr",
          "text": [
            "100%|██████████| 32/32 [00:03<00:00,  8.08it/s]\n"
          ]
        },
        {
          "output_type": "stream",
          "name": "stdout",
          "text": [
            "devtest accuracy: 0.923\n",
            "\n",
            "======== RUN 2 ======== \n",
            "EPOCH 1\n",
            "----- TRAIN -----\n"
          ]
        },
        {
          "output_type": "stream",
          "name": "stderr",
          "text": [
            "100%|██████████| 313/313 [00:45<00:00,  6.85it/s]\n"
          ]
        },
        {
          "output_type": "stream",
          "name": "stdout",
          "text": [
            "  epoch loss: 490.42394882440567\n",
            "----- EVAL -----\n"
          ]
        },
        {
          "output_type": "stream",
          "name": "stderr",
          "text": [
            "100%|██████████| 32/32 [00:04<00:00,  7.73it/s]\n"
          ]
        },
        {
          "output_type": "stream",
          "name": "stdout",
          "text": [
            "  dev accuracy: 0.912\n",
            "  best classifier from epoch 1\n",
            "----- EVAL -----\n",
            "eval best classifier on devtest...\n"
          ]
        },
        {
          "output_type": "stream",
          "name": "stderr",
          "text": [
            "100%|██████████| 32/32 [00:04<00:00,  7.81it/s]\n"
          ]
        },
        {
          "output_type": "stream",
          "name": "stdout",
          "text": [
            "devtest accuracy: 0.906\n",
            "\n",
            "======== RUN 3 ======== \n",
            "EPOCH 1\n",
            "----- TRAIN -----\n"
          ]
        },
        {
          "output_type": "stream",
          "name": "stderr",
          "text": [
            "100%|██████████| 313/313 [00:46<00:00,  6.75it/s]\n"
          ]
        },
        {
          "output_type": "stream",
          "name": "stdout",
          "text": [
            "  epoch loss: 349.20694893598557\n",
            "----- EVAL -----\n"
          ]
        },
        {
          "output_type": "stream",
          "name": "stderr",
          "text": [
            "100%|██████████| 32/32 [00:04<00:00,  7.73it/s]\n"
          ]
        },
        {
          "output_type": "stream",
          "name": "stdout",
          "text": [
            "  dev accuracy: 0.922\n",
            "  best classifier from epoch 1\n",
            "----- EVAL -----\n",
            "eval best classifier on devtest...\n"
          ]
        },
        {
          "output_type": "stream",
          "name": "stderr",
          "text": [
            "100%|██████████| 32/32 [00:04<00:00,  7.86it/s]\n"
          ]
        },
        {
          "output_type": "stream",
          "name": "stdout",
          "text": [
            "devtest accuracy: 0.91\n",
            "\n",
            "======== RUN 4 ======== \n",
            "EPOCH 1\n",
            "----- TRAIN -----\n"
          ]
        },
        {
          "output_type": "stream",
          "name": "stderr",
          "text": [
            "100%|██████████| 313/313 [00:47<00:00,  6.66it/s]\n"
          ]
        },
        {
          "output_type": "stream",
          "name": "stdout",
          "text": [
            "  epoch loss: 407.39679250121117\n",
            "----- EVAL -----\n"
          ]
        },
        {
          "output_type": "stream",
          "name": "stderr",
          "text": [
            "100%|██████████| 32/32 [00:04<00:00,  7.68it/s]\n"
          ]
        },
        {
          "output_type": "stream",
          "name": "stdout",
          "text": [
            "  dev accuracy: 0.934\n",
            "  best classifier from epoch 1\n",
            "----- EVAL -----\n",
            "eval best classifier on devtest...\n"
          ]
        },
        {
          "output_type": "stream",
          "name": "stderr",
          "text": [
            "100%|██████████| 32/32 [00:04<00:00,  7.66it/s]\n"
          ]
        },
        {
          "output_type": "stream",
          "name": "stdout",
          "text": [
            "devtest accuracy: 0.926\n",
            "\n",
            "======== RUN 5 ======== \n",
            "EPOCH 1\n",
            "----- TRAIN -----\n"
          ]
        },
        {
          "output_type": "stream",
          "name": "stderr",
          "text": [
            "100%|██████████| 313/313 [00:46<00:00,  6.77it/s]\n"
          ]
        },
        {
          "output_type": "stream",
          "name": "stdout",
          "text": [
            "  epoch loss: 407.05772137641907\n",
            "----- EVAL -----\n"
          ]
        },
        {
          "output_type": "stream",
          "name": "stderr",
          "text": [
            "100%|██████████| 32/32 [00:04<00:00,  7.61it/s]\n"
          ]
        },
        {
          "output_type": "stream",
          "name": "stdout",
          "text": [
            "  dev accuracy: 0.929\n",
            "  best classifier from epoch 1\n",
            "----- EVAL -----\n",
            "eval best classifier on devtest...\n"
          ]
        },
        {
          "output_type": "stream",
          "name": "stderr",
          "text": [
            "100%|██████████| 32/32 [00:04<00:00,  7.78it/s]"
          ]
        },
        {
          "output_type": "stream",
          "name": "stdout",
          "text": [
            "devtest accuracy: 0.922\n",
            "\n"
          ]
        },
        {
          "output_type": "stream",
          "name": "stderr",
          "text": [
            "\n"
          ]
        }
      ]
    },
    {
      "cell_type": "code",
      "source": [
        "print(final_dev_evals_gpt2_last_tune)\n",
        "print(devtest_evals_gpt2_last_tune)"
      ],
      "metadata": {
        "colab": {
          "base_uri": "https://localhost:8080/"
        },
        "outputId": "d119a989-94de-4e49-d3bd-781bf60eabcc",
        "id": "ZPyl_vHPUNPV"
      },
      "execution_count": 37,
      "outputs": [
        {
          "output_type": "stream",
          "name": "stdout",
          "text": [
            "[0.93, 0.912, 0.922, 0.934, 0.929]\n",
            "[0.923, 0.906, 0.91, 0.926, 0.922]\n"
          ]
        }
      ]
    },
    {
      "cell_type": "code",
      "source": [
        "dev_accu_mean_gpt2_last_tune = np.mean(final_dev_evals_gpt2_last_tune)\n",
        "dev_accu_std_gpt2_last_tune = np.std(final_dev_evals_gpt2_last_tune)\n",
        "\n",
        "print(\n",
        "f'Across the 5 runs, the mean accuracy on the dev set is {round(dev_accu_mean_gpt2_last_tune, 4)}, \\\n",
        "with a standard deviation of {round(dev_accu_std_gpt2_last_tune, 4)}. \\\n",
        "\\nThe best-performing classifier (w.r.t. dev set accuracy) has an accuracy of \\\n",
        "{round(devtest_evals_gpt2_last_tune[np.argmax(final_dev_evals_gpt2_last_tune)], 4)} on the test set.'\n",
        ")"
      ],
      "metadata": {
        "colab": {
          "base_uri": "https://localhost:8080/"
        },
        "outputId": "0f2ce4b5-c43a-4de1-e2f3-89471cde039a",
        "id": "hicrSpoDUNPW"
      },
      "execution_count": 38,
      "outputs": [
        {
          "output_type": "stream",
          "name": "stdout",
          "text": [
            "Across the 5 runs, the mean accuracy on the dev set is 0.9254, with a standard deviation of 0.0077. \n",
            "The best-performing classifier (w.r.t. dev set accuracy) has an accuracy of 0.926 on the test set.\n"
          ]
        }
      ]
    },
    {
      "cell_type": "code",
      "source": [],
      "metadata": {
        "id": "TI2ZtzEQTjVI"
      },
      "execution_count": null,
      "outputs": []
    },
    {
      "cell_type": "code",
      "source": [],
      "metadata": {
        "id": "m2eKB2XBOx-x"
      },
      "execution_count": null,
      "outputs": []
    },
    {
      "cell_type": "code",
      "source": [],
      "metadata": {
        "id": "LLOdHLQSu-dF"
      },
      "execution_count": null,
      "outputs": []
    }
  ]
}